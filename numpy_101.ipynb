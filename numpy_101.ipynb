{
 "cells": [
  {
   "cell_type": "code",
   "execution_count": null,
   "metadata": {
    "id": "tr_hVZksHugx"
   },
   "outputs": [],
   "source": [
    "import numpy as np"
   ]
  },
  {
   "cell_type": "code",
   "execution_count": null,
   "metadata": {
    "colab": {
     "base_uri": "https://localhost:8080/"
    },
    "id": "SwLp4ZaHIfzp",
    "outputId": "fafd98cd-c4e9-4c32-f931-fc03c9b8109a"
   },
   "outputs": [
    {
     "name": "stdout",
     "output_type": "stream",
     "text": [
      "[1, 2, 3]\n",
      "<class 'list'>\n"
     ]
    }
   ],
   "source": [
    "my_list = [1,2,3]\n",
    "print(my_list)\n",
    "print(type(my_list))"
   ]
  },
  {
   "cell_type": "code",
   "execution_count": null,
   "metadata": {
    "colab": {
     "base_uri": "https://localhost:8080/"
    },
    "id": "h0WIAF-HIl4z",
    "outputId": "d721108d-cb20-48d3-b022-c3fb521b6b57"
   },
   "outputs": [
    {
     "data": {
      "text/plain": [
       "array([1, 2, 3])"
      ]
     },
     "execution_count": 3,
     "metadata": {},
     "output_type": "execute_result"
    }
   ],
   "source": [
    "np.array(my_list)"
   ]
  },
  {
   "cell_type": "code",
   "execution_count": null,
   "metadata": {
    "colab": {
     "base_uri": "https://localhost:8080/"
    },
    "id": "5BVGtcpsI4Wz",
    "outputId": "aaebc8dc-887f-48d0-a1c6-851a162fbee7"
   },
   "outputs": [
    {
     "data": {
      "text/plain": [
       "[[1, 2, 3], [4, 5, 6], [7, 8, 9]]"
      ]
     },
     "execution_count": 4,
     "metadata": {},
     "output_type": "execute_result"
    }
   ],
   "source": [
    "my_matrix = [[1,2,3],[4,5,6],[7,8,9]]\n",
    "my_matrix"
   ]
  },
  {
   "cell_type": "code",
   "execution_count": null,
   "metadata": {
    "colab": {
     "base_uri": "https://localhost:8080/"
    },
    "id": "7IzhYg3lI8PN",
    "outputId": "7610bd4d-db53-42cc-a37b-fc5842ae2d16"
   },
   "outputs": [
    {
     "name": "stdout",
     "output_type": "stream",
     "text": [
      "[[1 2 3]\n",
      " [4 5 6]\n",
      " [7 8 9]]\n",
      "[[2 3]\n",
      " [5 6]\n",
      " [8 9]]\n"
     ]
    }
   ],
   "source": [
    "n=np.array(my_matrix)\n",
    "#print(n.shape)\n",
    "#print(n[0][1:])\n",
    "print(n)\n",
    "print(n[:,1:]) #row and col"
   ]
  },
  {
   "cell_type": "code",
   "execution_count": null,
   "metadata": {
    "colab": {
     "base_uri": "https://localhost:8080/"
    },
    "id": "toItZpuxJDGO",
    "outputId": "b6b7cfe4-40e0-403c-9668-059874d82673"
   },
   "outputs": [
    {
     "data": {
      "text/plain": [
       "array(['apple', 'orange', 'grape'], dtype='<U6')"
      ]
     },
     "execution_count": 6,
     "metadata": {},
     "output_type": "execute_result"
    }
   ],
   "source": [
    "my_li=['apple','orange','grape']\n",
    "np.array(my_li)"
   ]
  },
  {
   "cell_type": "code",
   "execution_count": null,
   "metadata": {
    "colab": {
     "base_uri": "https://localhost:8080/"
    },
    "id": "bWA4y8TZJO1a",
    "outputId": "cc7cbbfc-a480-4f61-8fcb-e8d370f7f5c3"
   },
   "outputs": [
    {
     "data": {
      "text/plain": [
       "array([['apple', 'orange', 'grape'],\n",
       "       ['tomato', 'berry', 'greens'],\n",
       "       ['carrot', 'beans', 'onion']], dtype='<U6')"
      ]
     },
     "execution_count": 7,
     "metadata": {},
     "output_type": "execute_result"
    }
   ],
   "source": [
    "li=[['apple','orange','grape'],['tomato','berry','greens'],['carrot','beans','onion']]\n",
    "np.array(li)"
   ]
  },
  {
   "cell_type": "code",
   "execution_count": null,
   "metadata": {
    "colab": {
     "base_uri": "https://localhost:8080/"
    },
    "id": "suyyi1p_KE8k",
    "outputId": "0e154682-aa42-4912-d891-7e45ba6d49d0"
   },
   "outputs": [
    {
     "name": "stdout",
     "output_type": "stream",
     "text": [
      "['1' '2' 'apple' '3.14']\n"
     ]
    }
   ],
   "source": [
    "n=[1,2,'apple',3.14]\n",
    "n1=np.array(n)\n",
    "print(n1)"
   ]
  },
  {
   "cell_type": "code",
   "execution_count": null,
   "metadata": {
    "colab": {
     "base_uri": "https://localhost:8080/"
    },
    "id": "iotcUz3WKObD",
    "outputId": "4d4103cc-79bc-466a-cc85-4cb9621fa596"
   },
   "outputs": [
    {
     "name": "stdout",
     "output_type": "stream",
     "text": [
      "<class 'numpy.str_'>\n"
     ]
    }
   ],
   "source": [
    "print(type(n1[0]))"
   ]
  },
  {
   "cell_type": "code",
   "execution_count": null,
   "metadata": {
    "colab": {
     "base_uri": "https://localhost:8080/"
    },
    "id": "mVq3yowLKkKi",
    "outputId": "de7f2cb9-5f38-4dd7-95b9-ff5b6e9c2d1f"
   },
   "outputs": [
    {
     "name": "stdout",
     "output_type": "stream",
     "text": [
      "[1.   2.   3.14]\n",
      "<class 'numpy.float64'>\n"
     ]
    }
   ],
   "source": [
    "n=[1,2,3.14]\n",
    "n1=np.array(n)\n",
    "print(n1)\n",
    "print(type(n1[0]))"
   ]
  },
  {
   "cell_type": "code",
   "execution_count": null,
   "metadata": {
    "colab": {
     "base_uri": "https://localhost:8080/"
    },
    "id": "UIWS9GygPt6e",
    "outputId": "5fc64dd6-9a9c-4040-ef33-cc2737b3c9d0"
   },
   "outputs": [
    {
     "name": "stdout",
     "output_type": "stream",
     "text": [
      "[1.   2.   3.14 1.   0.  ]\n",
      "<class 'numpy.float64'>\n"
     ]
    }
   ],
   "source": [
    "n=[1,2,3.14,True,False]\n",
    "n1=np.array(n)\n",
    "print(n1)\n",
    "print(type(n1[0]))"
   ]
  },
  {
   "cell_type": "code",
   "execution_count": null,
   "metadata": {
    "colab": {
     "base_uri": "https://localhost:8080/"
    },
    "id": "CEh92FLuP7z-",
    "outputId": "1067893c-720b-48bb-9d97-3345414dff6d"
   },
   "outputs": [
    {
     "name": "stdout",
     "output_type": "stream",
     "text": [
      "1\n",
      "<class 'numpy.int64'>\n"
     ]
    }
   ],
   "source": [
    "n=[1,2,True,False]\n",
    "n1=np.array(n)\n",
    "print(n1[0])\n",
    "print(type(n1[0]))"
   ]
  },
  {
   "cell_type": "code",
   "execution_count": null,
   "metadata": {
    "colab": {
     "base_uri": "https://localhost:8080/"
    },
    "id": "rAuKQ71tP9ML",
    "outputId": "d9ac4338-7f6e-4ddb-f6ad-f076fe88c783"
   },
   "outputs": [
    {
     "name": "stdout",
     "output_type": "stream",
     "text": [
      "[1, 2, 3, 4, 5]\n",
      "<class 'list'>\n"
     ]
    }
   ],
   "source": [
    "n2=[1,2,3,4,5]\n",
    "my_n2=np.array(n2)\n",
    "print(my_n2)\n",
    "my_n2_with_commas=my_n2.tolist()\n",
    "print(my_n2_with_commas)\n",
    "print(type(my_n2_with_commas))"
   ]
  },
  {
   "cell_type": "code",
   "execution_count": null,
   "metadata": {
    "colab": {
     "base_uri": "https://localhost:8080/"
    },
    "id": "fgrMbekk9rYF",
    "outputId": "ac56c793-47bc-4d3b-a14e-1cfc4eca529f"
   },
   "outputs": [
    {
     "name": "stdout",
     "output_type": "stream",
     "text": [
      "[array([1, 2, 3]), array([4, 5, 6]), array([7, 8, 9])]\n",
      "<class 'list'>\n"
     ]
    }
   ],
   "source": [
    "n2=[[1,2,3],[4,5,6],[7,8,9]]\n",
    "my_n2=np.array(n2)\n",
    "my_n2_with_commas=list(my_n2)\n",
    "print(my_n2_with_commas)\n",
    "print(type(my_n2_with_commas))"
   ]
  },
  {
   "cell_type": "code",
   "execution_count": null,
   "metadata": {
    "colab": {
     "base_uri": "https://localhost:8080/"
    },
    "id": "DW4P1124RIDX",
    "outputId": "1a582c4b-0b47-4e19-c1e2-2c0242d0c896"
   },
   "outputs": [
    {
     "data": {
      "text/plain": [
       "array([0, 1, 2, 3, 4, 5, 6, 7, 8, 9])"
      ]
     },
     "execution_count": 15,
     "metadata": {},
     "output_type": "execute_result"
    }
   ],
   "source": [
    "# Built-in Methods\n",
    "# There are lots of built-in ways to generate Arrays\n",
    "\n",
    "np.arange(0,10)"
   ]
  },
  {
   "cell_type": "code",
   "execution_count": null,
   "metadata": {
    "colab": {
     "base_uri": "https://localhost:8080/"
    },
    "id": "c0FzZFwLRPWt",
    "outputId": "807193f2-86c7-4d7f-d4bd-53d396a9026c"
   },
   "outputs": [
    {
     "data": {
      "text/plain": [
       "array([ 0,  2,  4,  6,  8, 10])"
      ]
     },
     "execution_count": 16,
     "metadata": {},
     "output_type": "execute_result"
    }
   ],
   "source": [
    "np.arange(0,11,2)"
   ]
  },
  {
   "cell_type": "code",
   "execution_count": null,
   "metadata": {
    "colab": {
     "base_uri": "https://localhost:8080/"
    },
    "id": "jumMqbmJRTxz",
    "outputId": "ee57a465-b5bf-4cda-975a-bdf6258c3147"
   },
   "outputs": [
    {
     "data": {
      "text/plain": [
       "array([0., 0., 0.])"
      ]
     },
     "execution_count": 17,
     "metadata": {},
     "output_type": "execute_result"
    }
   ],
   "source": [
    "# zeros and ones\n",
    "# Generate arrays of zeros or ones\n",
    "\n",
    "np.zeros(3)"
   ]
  },
  {
   "cell_type": "code",
   "execution_count": null,
   "metadata": {
    "colab": {
     "base_uri": "https://localhost:8080/"
    },
    "id": "9KHBOTVORf5r",
    "outputId": "0d34c4da-d49d-4a8a-af64-f7bba7a572e0"
   },
   "outputs": [
    {
     "data": {
      "text/plain": [
       "array([[0., 0., 0., 0., 0.],\n",
       "       [0., 0., 0., 0., 0.],\n",
       "       [0., 0., 0., 0., 0.],\n",
       "       [0., 0., 0., 0., 0.],\n",
       "       [0., 0., 0., 0., 0.]])"
      ]
     },
     "execution_count": 18,
     "metadata": {},
     "output_type": "execute_result"
    }
   ],
   "source": [
    "np.zeros((5,5))"
   ]
  },
  {
   "cell_type": "code",
   "execution_count": null,
   "metadata": {
    "colab": {
     "base_uri": "https://localhost:8080/"
    },
    "id": "teaGLvgJRl2Q",
    "outputId": "fe97a112-e39c-42cd-b449-e117fc01a5bf"
   },
   "outputs": [
    {
     "data": {
      "text/plain": [
       "array([1., 1., 1.])"
      ]
     },
     "execution_count": 19,
     "metadata": {},
     "output_type": "execute_result"
    }
   ],
   "source": [
    "np.ones(3)"
   ]
  },
  {
   "cell_type": "code",
   "execution_count": null,
   "metadata": {
    "colab": {
     "base_uri": "https://localhost:8080/"
    },
    "id": "A8fF0ilLRpHX",
    "outputId": "f61f0e51-fcd5-4e29-a05e-5d646ea26657"
   },
   "outputs": [
    {
     "data": {
      "text/plain": [
       "array([[1., 1., 1.],\n",
       "       [1., 1., 1.],\n",
       "       [1., 1., 1.]])"
      ]
     },
     "execution_count": 20,
     "metadata": {},
     "output_type": "execute_result"
    }
   ],
   "source": [
    "np.ones((3,3))"
   ]
  },
  {
   "cell_type": "code",
   "execution_count": null,
   "metadata": {
    "colab": {
     "base_uri": "https://localhost:8080/"
    },
    "id": "O8NXzkUjRuIh",
    "outputId": "1d19696e-8b5b-4cc9-d568-97b09b0b81b5"
   },
   "outputs": [
    {
     "data": {
      "text/plain": [
       "array([ 0.,  5., 10.])"
      ]
     },
     "execution_count": 21,
     "metadata": {},
     "output_type": "execute_result"
    }
   ],
   "source": [
    "# linspace\n",
    "# Return evenly spaced numbers over a specified interval.\n",
    "\n",
    "np.linspace(0,10,3)"
   ]
  },
  {
   "cell_type": "code",
   "execution_count": null,
   "metadata": {
    "colab": {
     "base_uri": "https://localhost:8080/"
    },
    "id": "A8NRMMgDR3Vi",
    "outputId": "7b346d35-f87a-433f-b529-5a2514566132"
   },
   "outputs": [
    {
     "data": {
      "text/plain": [
       "array([ 0.        ,  0.20408163,  0.40816327,  0.6122449 ,  0.81632653,\n",
       "        1.02040816,  1.2244898 ,  1.42857143,  1.63265306,  1.83673469,\n",
       "        2.04081633,  2.24489796,  2.44897959,  2.65306122,  2.85714286,\n",
       "        3.06122449,  3.26530612,  3.46938776,  3.67346939,  3.87755102,\n",
       "        4.08163265,  4.28571429,  4.48979592,  4.69387755,  4.89795918,\n",
       "        5.10204082,  5.30612245,  5.51020408,  5.71428571,  5.91836735,\n",
       "        6.12244898,  6.32653061,  6.53061224,  6.73469388,  6.93877551,\n",
       "        7.14285714,  7.34693878,  7.55102041,  7.75510204,  7.95918367,\n",
       "        8.16326531,  8.36734694,  8.57142857,  8.7755102 ,  8.97959184,\n",
       "        9.18367347,  9.3877551 ,  9.59183673,  9.79591837, 10.        ])"
      ]
     },
     "execution_count": 22,
     "metadata": {},
     "output_type": "execute_result"
    }
   ],
   "source": [
    "np.linspace(0,10,50)"
   ]
  },
  {
   "cell_type": "code",
   "execution_count": null,
   "metadata": {
    "colab": {
     "base_uri": "https://localhost:8080/"
    },
    "id": "zxsUZ5tmS5wt",
    "outputId": "c1c64a3b-a94a-471d-c506-ccea4f451e8b"
   },
   "outputs": [
    {
     "data": {
      "text/plain": [
       "array([[1., 0., 0., 0.],\n",
       "       [0., 1., 0., 0.],\n",
       "       [0., 0., 1., 0.],\n",
       "       [0., 0., 0., 1.]])"
      ]
     },
     "execution_count": 23,
     "metadata": {},
     "output_type": "execute_result"
    }
   ],
   "source": [
    "# eye\n",
    "# Creates an identity matrix\n",
    "\n",
    "np.eye(4)"
   ]
  },
  {
   "cell_type": "code",
   "execution_count": null,
   "metadata": {
    "colab": {
     "base_uri": "https://localhost:8080/"
    },
    "id": "8Em8TguSTNam",
    "outputId": "d609270a-bca9-41c4-8e5c-4aeadcfcc24d"
   },
   "outputs": [
    {
     "data": {
      "text/plain": [
       "array([0.99664024, 0.37439931])"
      ]
     },
     "execution_count": 24,
     "metadata": {},
     "output_type": "execute_result"
    }
   ],
   "source": [
    "# Random\n",
    "# Numpy also has lots of ways to create random number arrays:\n",
    "\n",
    "np.random.rand(2)"
   ]
  },
  {
   "cell_type": "code",
   "execution_count": null,
   "metadata": {
    "colab": {
     "base_uri": "https://localhost:8080/"
    },
    "id": "GhHR_dE6TYt9",
    "outputId": "9fc6a162-7e2c-4b40-ee3b-1dc95ef54fd0"
   },
   "outputs": [
    {
     "data": {
      "text/plain": [
       "array([[0.61932663, 0.3884042 , 0.38709646, 0.67612842, 0.76894244],\n",
       "       [0.09335672, 0.22108513, 0.54501022, 0.55825535, 0.03728635],\n",
       "       [0.0196755 , 0.72299105, 0.80732541, 0.70233955, 0.46838844],\n",
       "       [0.71181909, 0.54529427, 0.81919238, 0.79151204, 0.59848148],\n",
       "       [0.48809056, 0.45955554, 0.42511675, 0.84661365, 0.98753634]])"
      ]
     },
     "execution_count": 25,
     "metadata": {},
     "output_type": "execute_result"
    }
   ],
   "source": [
    "np.random.rand(5,5)"
   ]
  },
  {
   "cell_type": "code",
   "execution_count": null,
   "metadata": {
    "colab": {
     "base_uri": "https://localhost:8080/"
    },
    "id": "bLLFwDpmThvd",
    "outputId": "d47ce3b4-b143-4e0b-f228-9cd63670589b"
   },
   "outputs": [
    {
     "data": {
      "text/plain": [
       "array([0.47429987, 1.34303117])"
      ]
     },
     "execution_count": 26,
     "metadata": {},
     "output_type": "execute_result"
    }
   ],
   "source": [
    "# randn\n",
    "# Return a sample (or samples) from the \"standard normal\" distribution. Unlike rand which is uniform:\n",
    "\n",
    "np.random.randn(2)"
   ]
  },
  {
   "cell_type": "code",
   "execution_count": null,
   "metadata": {
    "colab": {
     "base_uri": "https://localhost:8080/"
    },
    "id": "Ug7yUEaTTpxP",
    "outputId": "93cbfca3-53a9-4921-bb77-cdd00af01d38"
   },
   "outputs": [
    {
     "data": {
      "text/plain": [
       "array([[-1.32665678, -0.94378209,  0.21463434,  0.84238761,  0.68740954],\n",
       "       [ 0.1326357 ,  0.30345894, -0.84992356,  0.37608249, -1.08279677],\n",
       "       [-0.21761193, -0.5316018 ,  1.3576246 , -0.76152746,  0.81254397],\n",
       "       [ 1.486469  , -0.41715823, -1.93515079, -0.96628654, -0.95013036],\n",
       "       [ 0.60475784, -1.2441336 , -1.09974829, -1.37155851, -0.71936195]])"
      ]
     },
     "execution_count": 27,
     "metadata": {},
     "output_type": "execute_result"
    }
   ],
   "source": [
    "np.random.randn(5,5)"
   ]
  },
  {
   "cell_type": "code",
   "execution_count": null,
   "metadata": {
    "colab": {
     "base_uri": "https://localhost:8080/"
    },
    "id": "QJOjS-10Ttqj",
    "outputId": "63f55d40-1596-4cb6-f353-c169853f5a91"
   },
   "outputs": [
    {
     "data": {
      "text/plain": [
       "95"
      ]
     },
     "execution_count": 28,
     "metadata": {},
     "output_type": "execute_result"
    }
   ],
   "source": [
    "# randint\n",
    "# Return random integers from low (inclusive) to high (exclusive).\n",
    "\n",
    "np.random.randint(1,100)"
   ]
  },
  {
   "cell_type": "code",
   "execution_count": null,
   "metadata": {
    "colab": {
     "base_uri": "https://localhost:8080/"
    },
    "id": "jyJqWePIUGmN",
    "outputId": "52195291-beb0-4719-9f54-9e903b5cbd46"
   },
   "outputs": [
    {
     "data": {
      "text/plain": [
       "array([91, 93, 93, 84, 57, 22, 72, 49, 85, 33])"
      ]
     },
     "execution_count": 29,
     "metadata": {},
     "output_type": "execute_result"
    }
   ],
   "source": [
    "np.random.randint(1,100,10)"
   ]
  },
  {
   "cell_type": "code",
   "execution_count": null,
   "metadata": {
    "colab": {
     "base_uri": "https://localhost:8080/"
    },
    "id": "G9xFBRxlUb1-",
    "outputId": "e3d8d581-2a77-46d0-9a9d-c2021f69dd19"
   },
   "outputs": [
    {
     "data": {
      "text/plain": [
       "array([[ 4, 47, 26],\n",
       "       [ 4, 92, 17],\n",
       "       [94, 83, 12]])"
      ]
     },
     "execution_count": 30,
     "metadata": {},
     "output_type": "execute_result"
    }
   ],
   "source": [
    "np.random.randint(1,100, size=(3,3))"
   ]
  },
  {
   "cell_type": "code",
   "execution_count": null,
   "metadata": {
    "colab": {
     "base_uri": "https://localhost:8080/"
    },
    "id": "JDuUPq09UxD0",
    "outputId": "91029790-ba20-4144-dd7b-be91c5d7bf28"
   },
   "outputs": [
    {
     "name": "stdout",
     "output_type": "stream",
     "text": [
      "[ 0  1  2  3  4  5  6  7  8  9 10 11 12 13 14 15 16 17 18 19 20 21 22 23\n",
      " 24]\n",
      "[14 43  7 14 18 21  9  2  0 45]\n"
     ]
    }
   ],
   "source": [
    "# Array Attributes and Methods\n",
    "# some useful attributes and methods or an array:\n",
    "\n",
    "arr = np.arange(25)\n",
    "ranarr = np.random.randint(0,50,10)\n",
    "print(arr)\n",
    "print(ranarr)"
   ]
  },
  {
   "cell_type": "code",
   "execution_count": null,
   "metadata": {
    "colab": {
     "base_uri": "https://localhost:8080/"
    },
    "id": "XhsDY6jaU9Dg",
    "outputId": "bfa7077e-88c9-4a26-9841-fd999229308d"
   },
   "outputs": [
    {
     "data": {
      "text/plain": [
       "array([[ 0,  1,  2,  3,  4],\n",
       "       [ 5,  6,  7,  8,  9],\n",
       "       [10, 11, 12, 13, 14],\n",
       "       [15, 16, 17, 18, 19],\n",
       "       [20, 21, 22, 23, 24]])"
      ]
     },
     "execution_count": 32,
     "metadata": {},
     "output_type": "execute_result"
    }
   ],
   "source": [
    "# Reshape\n",
    "# Returns an array containing the same data with a new shape.\n",
    "\n",
    "arr.reshape(5,5)"
   ]
  },
  {
   "cell_type": "code",
   "execution_count": null,
   "metadata": {
    "colab": {
     "base_uri": "https://localhost:8080/"
    },
    "id": "9YVboFdtVXJ1",
    "outputId": "4f33e5c9-e908-4f7c-f5c3-ac04ff85559b"
   },
   "outputs": [
    {
     "data": {
      "text/plain": [
       "array([14, 43,  7, 14, 18, 21,  9,  2,  0, 45])"
      ]
     },
     "execution_count": 33,
     "metadata": {},
     "output_type": "execute_result"
    }
   ],
   "source": [
    "#max,min,argmax,argmin\n",
    "\n",
    "ranarr"
   ]
  },
  {
   "cell_type": "code",
   "execution_count": null,
   "metadata": {
    "colab": {
     "base_uri": "https://localhost:8080/"
    },
    "id": "DWyN5ou9Vxg2",
    "outputId": "b7084bc4-5784-4166-cb20-44aa5799bf8a"
   },
   "outputs": [
    {
     "data": {
      "text/plain": [
       "45"
      ]
     },
     "execution_count": 34,
     "metadata": {},
     "output_type": "execute_result"
    }
   ],
   "source": [
    "ranarr.max()"
   ]
  },
  {
   "cell_type": "code",
   "execution_count": null,
   "metadata": {
    "colab": {
     "base_uri": "https://localhost:8080/"
    },
    "id": "C7xfR2J6V1Dk",
    "outputId": "ba5a5b62-e21e-4e60-c262-35100f5c4f64"
   },
   "outputs": [
    {
     "data": {
      "text/plain": [
       "9"
      ]
     },
     "execution_count": 35,
     "metadata": {},
     "output_type": "execute_result"
    }
   ],
   "source": [
    "ranarr.argmax()"
   ]
  },
  {
   "cell_type": "code",
   "execution_count": null,
   "metadata": {
    "colab": {
     "base_uri": "https://localhost:8080/"
    },
    "id": "PVzlrtJxV7M8",
    "outputId": "cca2ed32-e685-4e10-bc01-b0cea1e47f8c"
   },
   "outputs": [
    {
     "data": {
      "text/plain": [
       "0"
      ]
     },
     "execution_count": 36,
     "metadata": {},
     "output_type": "execute_result"
    }
   ],
   "source": [
    "ranarr.min()"
   ]
  },
  {
   "cell_type": "code",
   "execution_count": null,
   "metadata": {
    "colab": {
     "base_uri": "https://localhost:8080/"
    },
    "id": "OMgqjqGTV78p",
    "outputId": "1a348e92-a83f-43fb-8d68-aac79d05679c"
   },
   "outputs": [
    {
     "data": {
      "text/plain": [
       "8"
      ]
     },
     "execution_count": 37,
     "metadata": {},
     "output_type": "execute_result"
    }
   ],
   "source": [
    "ranarr.argmin()"
   ]
  },
  {
   "cell_type": "code",
   "execution_count": null,
   "metadata": {
    "colab": {
     "base_uri": "https://localhost:8080/"
    },
    "id": "4AZReYl6WLxF",
    "outputId": "94bc5e60-9204-46b5-da39-bdacd4d7d9eb"
   },
   "outputs": [
    {
     "data": {
      "text/plain": [
       "(25,)"
      ]
     },
     "execution_count": 38,
     "metadata": {},
     "output_type": "execute_result"
    }
   ],
   "source": [
    "# Shape\n",
    "arr.shape"
   ]
  },
  {
   "cell_type": "code",
   "execution_count": null,
   "metadata": {
    "colab": {
     "base_uri": "https://localhost:8080/"
    },
    "id": "YLz9yuGRWS_-",
    "outputId": "04cadc4b-76b7-4f40-e034-2f913f8cbd55"
   },
   "outputs": [
    {
     "data": {
      "text/plain": [
       "array([[ 0,  1,  2,  3,  4,  5,  6,  7,  8,  9, 10, 11, 12, 13, 14, 15,\n",
       "        16, 17, 18, 19, 20, 21, 22, 23, 24]])"
      ]
     },
     "execution_count": 39,
     "metadata": {},
     "output_type": "execute_result"
    }
   ],
   "source": [
    "# puts two sets of brackets\n",
    "arr.reshape(1,25)"
   ]
  },
  {
   "cell_type": "code",
   "execution_count": null,
   "metadata": {
    "colab": {
     "base_uri": "https://localhost:8080/"
    },
    "id": "lAV1sC0QWVaH",
    "outputId": "18c12091-252a-4fb3-8c1b-f875a071b07c"
   },
   "outputs": [
    {
     "data": {
      "text/plain": [
       "(1, 25)"
      ]
     },
     "execution_count": 40,
     "metadata": {},
     "output_type": "execute_result"
    }
   ],
   "source": [
    "arr.reshape(1,25).shape"
   ]
  },
  {
   "cell_type": "code",
   "execution_count": null,
   "metadata": {
    "colab": {
     "base_uri": "https://localhost:8080/"
    },
    "id": "hpg2cGJKWYVc",
    "outputId": "60a391c8-943f-41b2-8e76-8d11f3b5f698"
   },
   "outputs": [
    {
     "data": {
      "text/plain": [
       "array([[ 0],\n",
       "       [ 1],\n",
       "       [ 2],\n",
       "       [ 3],\n",
       "       [ 4],\n",
       "       [ 5],\n",
       "       [ 6],\n",
       "       [ 7],\n",
       "       [ 8],\n",
       "       [ 9],\n",
       "       [10],\n",
       "       [11],\n",
       "       [12],\n",
       "       [13],\n",
       "       [14],\n",
       "       [15],\n",
       "       [16],\n",
       "       [17],\n",
       "       [18],\n",
       "       [19],\n",
       "       [20],\n",
       "       [21],\n",
       "       [22],\n",
       "       [23],\n",
       "       [24]])"
      ]
     },
     "execution_count": 41,
     "metadata": {},
     "output_type": "execute_result"
    }
   ],
   "source": [
    "arr.reshape(25,1)"
   ]
  },
  {
   "cell_type": "code",
   "execution_count": null,
   "metadata": {
    "colab": {
     "base_uri": "https://localhost:8080/"
    },
    "id": "dPAIwN7sWeNE",
    "outputId": "1dbeb0c5-9746-41bf-94b7-90de121d4af1"
   },
   "outputs": [
    {
     "data": {
      "text/plain": [
       "(25, 1)"
      ]
     },
     "execution_count": 42,
     "metadata": {},
     "output_type": "execute_result"
    }
   ],
   "source": [
    "arr.reshape(25,1).shape"
   ]
  },
  {
   "cell_type": "code",
   "execution_count": null,
   "metadata": {
    "colab": {
     "base_uri": "https://localhost:8080/"
    },
    "id": "LLAcJSDJZUOv",
    "outputId": "16911484-3bac-45ed-9a83-366aea5a4935"
   },
   "outputs": [
    {
     "data": {
      "text/plain": [
       "array([ 0,  1,  2,  3,  4,  5,  6,  7,  8,  9, 10])"
      ]
     },
     "execution_count": 43,
     "metadata": {},
     "output_type": "execute_result"
    }
   ],
   "source": [
    "#NumPy Indexing and Selection\n",
    "#Creating sample array\n",
    "arr = np.arange(0,11)\n",
    "arr"
   ]
  },
  {
   "cell_type": "code",
   "execution_count": null,
   "metadata": {
    "colab": {
     "base_uri": "https://localhost:8080/"
    },
    "id": "W_WD3HdtZZZl",
    "outputId": "289963f5-d5e5-4a6d-8367-73e32f032c84"
   },
   "outputs": [
    {
     "data": {
      "text/plain": [
       "8"
      ]
     },
     "execution_count": 44,
     "metadata": {},
     "output_type": "execute_result"
    }
   ],
   "source": [
    "arr[8]"
   ]
  },
  {
   "cell_type": "code",
   "execution_count": null,
   "metadata": {
    "colab": {
     "base_uri": "https://localhost:8080/"
    },
    "id": "uDQ5_y-7ZdyU",
    "outputId": "c36f5d14-5635-4d4d-fa51-9421284b258c"
   },
   "outputs": [
    {
     "data": {
      "text/plain": [
       "array([1, 2, 3, 4])"
      ]
     },
     "execution_count": 45,
     "metadata": {},
     "output_type": "execute_result"
    }
   ],
   "source": [
    "#Get values in a range\n",
    "arr[1:5]"
   ]
  },
  {
   "cell_type": "code",
   "execution_count": null,
   "metadata": {
    "colab": {
     "base_uri": "https://localhost:8080/"
    },
    "id": "EWSfYAyEZnyq",
    "outputId": "d5cfd1cf-7433-41e7-9f83-2e6a9b57723c"
   },
   "outputs": [
    {
     "data": {
      "text/plain": [
       "array([0, 1, 2, 3, 4])"
      ]
     },
     "execution_count": 46,
     "metadata": {},
     "output_type": "execute_result"
    }
   ],
   "source": [
    "#Get values in a range\n",
    "arr[0:5]"
   ]
  },
  {
   "cell_type": "code",
   "execution_count": null,
   "metadata": {
    "colab": {
     "base_uri": "https://localhost:8080/"
    },
    "id": "n9Fj_D2yZvTx",
    "outputId": "f5b3ab8d-6efd-4aa8-c7fc-86fdb12971f1"
   },
   "outputs": [
    {
     "data": {
      "text/plain": [
       "array([100, 100, 100, 100, 100,   5,   6,   7,   8,   9,  10])"
      ]
     },
     "execution_count": 47,
     "metadata": {},
     "output_type": "execute_result"
    }
   ],
   "source": [
    "# Broadcasting\n",
    "\n",
    "#Setting a value with index range (Broadcasting)\n",
    "arr[0:5]=100\n",
    "\n",
    "\n",
    "arr"
   ]
  },
  {
   "cell_type": "code",
   "execution_count": null,
   "metadata": {
    "colab": {
     "base_uri": "https://localhost:8080/"
    },
    "id": "y0U3oNTKaFfk",
    "outputId": "307d5ffc-84a6-4410-d4c5-38a0d363f54b"
   },
   "outputs": [
    {
     "data": {
      "text/plain": [
       "array([ 0,  1,  2,  3,  4,  5,  6,  7,  8,  9, 10])"
      ]
     },
     "execution_count": 48,
     "metadata": {},
     "output_type": "execute_result"
    }
   ],
   "source": [
    "arr = np.arange(0,11)\n",
    "\n",
    "\n",
    "arr"
   ]
  },
  {
   "cell_type": "code",
   "execution_count": null,
   "metadata": {
    "colab": {
     "base_uri": "https://localhost:8080/"
    },
    "id": "QDJNHme5aLlP",
    "outputId": "0b787b3f-0f06-4a2c-9f84-37e5d091b08a"
   },
   "outputs": [
    {
     "data": {
      "text/plain": [
       "array([0, 1, 2, 3, 4, 5])"
      ]
     },
     "execution_count": 49,
     "metadata": {},
     "output_type": "execute_result"
    }
   ],
   "source": [
    "# Slices\n",
    "slice_of_arr = arr[0:6]\n",
    "\n",
    "\n",
    "slice_of_arr"
   ]
  },
  {
   "cell_type": "code",
   "execution_count": null,
   "metadata": {
    "colab": {
     "base_uri": "https://localhost:8080/"
    },
    "id": "u1OkS3dmahTv",
    "outputId": "12f4ca76-ee51-4080-b6a3-f3870e847d0e"
   },
   "outputs": [
    {
     "data": {
      "text/plain": [
       "array([99, 99, 99, 99, 99, 99])"
      ]
     },
     "execution_count": 50,
     "metadata": {},
     "output_type": "execute_result"
    }
   ],
   "source": [
    "slice_of_arr[:]=99\n",
    "\n",
    "\n",
    "slice_of_arr"
   ]
  },
  {
   "cell_type": "code",
   "execution_count": null,
   "metadata": {
    "colab": {
     "base_uri": "https://localhost:8080/"
    },
    "id": "wnrIMbbEalu_",
    "outputId": "98403033-33f2-4e8b-9454-7ae498186580"
   },
   "outputs": [
    {
     "data": {
      "text/plain": [
       "array([99, 99, 99, 99, 99, 99,  6,  7,  8,  9, 10])"
      ]
     },
     "execution_count": 51,
     "metadata": {},
     "output_type": "execute_result"
    }
   ],
   "source": [
    "arr"
   ]
  },
  {
   "cell_type": "code",
   "execution_count": null,
   "metadata": {
    "colab": {
     "base_uri": "https://localhost:8080/"
    },
    "id": "kOyZJ1Nxa8Ft",
    "outputId": "f070f67d-003f-4059-a9b6-112bd24464da"
   },
   "outputs": [
    {
     "data": {
      "text/plain": [
       "array([[ 5, 10, 15],\n",
       "       [20, 25, 30],\n",
       "       [35, 40, 45]])"
      ]
     },
     "execution_count": 52,
     "metadata": {},
     "output_type": "execute_result"
    }
   ],
   "source": [
    "#Indexing a 2D array (matrices)\n",
    "\n",
    "arr_2d = np.array(([5,10,15],[20,25,30],[35,40,45]))\n",
    "\n",
    "\n",
    "arr_2d"
   ]
  },
  {
   "cell_type": "code",
   "execution_count": null,
   "metadata": {
    "colab": {
     "base_uri": "https://localhost:8080/"
    },
    "id": "dSfO2tvjbH0w",
    "outputId": "7247756c-a440-45ec-ca89-e9f3dcd7b00c"
   },
   "outputs": [
    {
     "name": "stdout",
     "output_type": "stream",
     "text": [
      "[20 25 30]\n",
      "20\n"
     ]
    }
   ],
   "source": [
    "print(arr_2d[1])\n",
    "print(arr_2d[1][0])\n"
   ]
  },
  {
   "cell_type": "code",
   "execution_count": null,
   "metadata": {
    "colab": {
     "base_uri": "https://localhost:8080/"
    },
    "id": "m_7y2mWkbOq1",
    "outputId": "6bc3a570-5f23-4a12-9cff-afd6e19be047"
   },
   "outputs": [
    {
     "name": "stdout",
     "output_type": "stream",
     "text": [
      "[[10 15]\n",
      " [25 30]]\n"
     ]
    }
   ],
   "source": [
    "##Shape (2,2) from top right corner\n",
    "print(arr_2d[:2,1:])"
   ]
  },
  {
   "cell_type": "code",
   "execution_count": null,
   "metadata": {
    "colab": {
     "base_uri": "https://localhost:8080/"
    },
    "id": "mMc_cMdlbVOY",
    "outputId": "9c7eaf42-78b4-4b17-dbb0-490130f74166"
   },
   "outputs": [
    {
     "name": "stdout",
     "output_type": "stream",
     "text": [
      "[[ 5 10 15]\n",
      " [20 25 30]]\n"
     ]
    }
   ],
   "source": [
    "print(arr_2d[:2])"
   ]
  },
  {
   "cell_type": "code",
   "execution_count": null,
   "metadata": {
    "colab": {
     "base_uri": "https://localhost:8080/"
    },
    "id": "LciZvwvkb6oy",
    "outputId": "a7060e8e-589f-413e-c3f6-f368e0fa4aee"
   },
   "outputs": [
    {
     "name": "stdout",
     "output_type": "stream",
     "text": [
      "[[10 15]\n",
      " [25 30]\n",
      " [40 45]]\n"
     ]
    }
   ],
   "source": [
    "print(arr_2d[:,1:])"
   ]
  },
  {
   "cell_type": "code",
   "execution_count": null,
   "metadata": {
    "colab": {
     "base_uri": "https://localhost:8080/"
    },
    "id": "ANXZCEVob_i4",
    "outputId": "73462362-43cf-46f1-950a-03636a98d76a"
   },
   "outputs": [
    {
     "name": "stdout",
     "output_type": "stream",
     "text": [
      "[[0. 0. 0. 0. 0. 0. 0. 0. 0. 0.]\n",
      " [0. 0. 0. 0. 0. 0. 0. 0. 0. 0.]\n",
      " [0. 0. 0. 0. 0. 0. 0. 0. 0. 0.]\n",
      " [0. 0. 0. 0. 0. 0. 0. 0. 0. 0.]\n",
      " [0. 0. 0. 0. 0. 0. 0. 0. 0. 0.]\n",
      " [0. 0. 0. 0. 0. 0. 0. 0. 0. 0.]\n",
      " [0. 0. 0. 0. 0. 0. 0. 0. 0. 0.]\n",
      " [0. 0. 0. 0. 0. 0. 0. 0. 0. 0.]\n",
      " [0. 0. 0. 0. 0. 0. 0. 0. 0. 0.]\n",
      " [0. 0. 0. 0. 0. 0. 0. 0. 0. 0.]]\n",
      "10\n"
     ]
    }
   ],
   "source": [
    "#Set up matrix\n",
    "arr2d = np.zeros((10,10))\n",
    "print(arr2d)\n",
    "#Length of array\n",
    "arr_length = arr2d.shape[1]\n",
    "\n",
    "print(arr_length)"
   ]
  },
  {
   "cell_type": "code",
   "execution_count": null,
   "metadata": {
    "colab": {
     "base_uri": "https://localhost:8080/"
    },
    "id": "tyLFU2dxcbGq",
    "outputId": "b6d8993f-61f4-4f8f-e3c1-6e0fd0e08704"
   },
   "outputs": [
    {
     "data": {
      "text/plain": [
       "array([[0., 0., 0., 0., 0., 0., 0., 0., 0., 0.],\n",
       "       [1., 1., 1., 1., 1., 1., 1., 1., 1., 1.],\n",
       "       [2., 2., 2., 2., 2., 2., 2., 2., 2., 2.],\n",
       "       [3., 3., 3., 3., 3., 3., 3., 3., 3., 3.],\n",
       "       [4., 4., 4., 4., 4., 4., 4., 4., 4., 4.],\n",
       "       [5., 5., 5., 5., 5., 5., 5., 5., 5., 5.],\n",
       "       [6., 6., 6., 6., 6., 6., 6., 6., 6., 6.],\n",
       "       [7., 7., 7., 7., 7., 7., 7., 7., 7., 7.],\n",
       "       [8., 8., 8., 8., 8., 8., 8., 8., 8., 8.],\n",
       "       [9., 9., 9., 9., 9., 9., 9., 9., 9., 9.]])"
      ]
     },
     "execution_count": 58,
     "metadata": {},
     "output_type": "execute_result"
    }
   ],
   "source": [
    "for i in range(arr_length):\n",
    "    arr2d[i] = i\n",
    "    \n",
    "arr2d"
   ]
  },
  {
   "cell_type": "code",
   "execution_count": null,
   "metadata": {
    "colab": {
     "base_uri": "https://localhost:8080/"
    },
    "id": "bQoD8aZ5dwdJ",
    "outputId": "368a2aab-a9bd-4466-b765-fa4cfee42a60"
   },
   "outputs": [
    {
     "data": {
      "text/plain": [
       "array([[2., 2., 2., 2., 2., 2., 2., 2., 2., 2.],\n",
       "       [4., 4., 4., 4., 4., 4., 4., 4., 4., 4.],\n",
       "       [6., 6., 6., 6., 6., 6., 6., 6., 6., 6.],\n",
       "       [8., 8., 8., 8., 8., 8., 8., 8., 8., 8.]])"
      ]
     },
     "execution_count": 59,
     "metadata": {},
     "output_type": "execute_result"
    }
   ],
   "source": [
    "arr2d[[2,4,6,8]]"
   ]
  },
  {
   "cell_type": "code",
   "execution_count": null,
   "metadata": {
    "colab": {
     "base_uri": "https://localhost:8080/"
    },
    "id": "QUac2Cu6d6hp",
    "outputId": "660773a7-6a5f-4987-8e52-ef00dc2fa5ad"
   },
   "outputs": [
    {
     "data": {
      "text/plain": [
       "array([[6., 6., 6., 6., 6., 6., 6., 6., 6., 6.],\n",
       "       [4., 4., 4., 4., 4., 4., 4., 4., 4., 4.],\n",
       "       [2., 2., 2., 2., 2., 2., 2., 2., 2., 2.],\n",
       "       [7., 7., 7., 7., 7., 7., 7., 7., 7., 7.]])"
      ]
     },
     "execution_count": 60,
     "metadata": {},
     "output_type": "execute_result"
    }
   ],
   "source": [
    "#Allows in any order\n",
    "arr2d[[6,4,2,7]]"
   ]
  },
  {
   "cell_type": "code",
   "execution_count": null,
   "metadata": {
    "colab": {
     "base_uri": "https://localhost:8080/"
    },
    "id": "kIxTeJLGeYpE",
    "outputId": "64d24325-2c2c-4c6d-f6cb-fce554731489"
   },
   "outputs": [
    {
     "data": {
      "text/plain": [
       "array([[341, 750, 546, 745, 622, 189, 368, 912, 269, 667],\n",
       "       [963, 796,  50, 409, 677, 963, 854, 204, 884, 893],\n",
       "       [628, 272, 964, 377, 204, 826, 555, 542, 845, 830],\n",
       "       [ 46, 853, 697, 523, 342, 586, 928, 223, 931, 393],\n",
       "       [585, 234, 773, 430, 992, 843, 220, 170, 217, 121],\n",
       "       [205, 913, 698,  30, 531, 779, 505, 216, 197, 560],\n",
       "       [210, 410, 554, 647, 904, 804, 189,  47, 171, 369],\n",
       "       [594, 725, 523, 716, 828, 613, 321, 619, 905, 482],\n",
       "       [585, 370, 908, 315,  86, 560, 399, 720, 266, 426],\n",
       "       [267, 158, 598, 596,  50, 706,  56, 648, 751, 546]])"
      ]
     },
     "execution_count": 61,
     "metadata": {},
     "output_type": "execute_result"
    }
   ],
   "source": [
    "arr3=np.random.randint(1,1000, size=(10,10))\n",
    "arr3"
   ]
  },
  {
   "cell_type": "code",
   "execution_count": null,
   "metadata": {
    "colab": {
     "base_uri": "https://localhost:8080/"
    },
    "id": "oPywaDWVekIK",
    "outputId": "bbd40e05-abec-4c2b-cdea-11e2f7e7e2e2"
   },
   "outputs": [
    {
     "data": {
      "text/plain": [
       "array([[210, 410, 554, 647, 904, 804, 189,  47, 171, 369],\n",
       "       [585, 234, 773, 430, 992, 843, 220, 170, 217, 121],\n",
       "       [628, 272, 964, 377, 204, 826, 555, 542, 845, 830],\n",
       "       [594, 725, 523, 716, 828, 613, 321, 619, 905, 482]])"
      ]
     },
     "execution_count": 62,
     "metadata": {},
     "output_type": "execute_result"
    }
   ],
   "source": [
    "arr3[[6,4,2,7]]"
   ]
  },
  {
   "cell_type": "code",
   "execution_count": null,
   "metadata": {
    "colab": {
     "base_uri": "https://localhost:8080/"
    },
    "id": "1YqSl8jnfCQt",
    "outputId": "3e443f7d-aa72-46cd-8fa3-88dac1a7a735"
   },
   "outputs": [
    {
     "data": {
      "text/plain": [
       "[1, 2, 3, 4, 1, 2, 3, 4]"
      ]
     },
     "execution_count": 63,
     "metadata": {},
     "output_type": "execute_result"
    }
   ],
   "source": [
    "lis=[1,2,3,4]\n",
    "lis+lis"
   ]
  },
  {
   "cell_type": "code",
   "execution_count": null,
   "metadata": {
    "colab": {
     "base_uri": "https://localhost:8080/"
    },
    "id": "6a3ibWDUeHXg",
    "outputId": "23e5e520-7249-4551-8e8f-fb6b44e061cd"
   },
   "outputs": [
    {
     "data": {
      "text/plain": [
       "array([0, 1, 2, 3, 4, 5, 6, 7, 8, 9])"
      ]
     },
     "execution_count": 64,
     "metadata": {},
     "output_type": "execute_result"
    }
   ],
   "source": [
    "#array operations\n",
    "arr = np.arange(0,10)\n",
    "arr"
   ]
  },
  {
   "cell_type": "code",
   "execution_count": null,
   "metadata": {
    "colab": {
     "base_uri": "https://localhost:8080/"
    },
    "id": "oWh7wvuJeI2r",
    "outputId": "a5c5f22f-bf43-48b6-f645-24929a4b3572"
   },
   "outputs": [
    {
     "data": {
      "text/plain": [
       "array([ 0,  2,  4,  6,  8, 10, 12, 14, 16, 18])"
      ]
     },
     "execution_count": 65,
     "metadata": {},
     "output_type": "execute_result"
    }
   ],
   "source": [
    "arr+arr"
   ]
  },
  {
   "cell_type": "code",
   "execution_count": null,
   "metadata": {
    "colab": {
     "base_uri": "https://localhost:8080/"
    },
    "id": "z8DvPIU-e4cG",
    "outputId": "f321cf94-58ef-44bd-85a6-74cd86585a8a"
   },
   "outputs": [
    {
     "data": {
      "text/plain": [
       "array([ 0,  1,  4,  9, 16, 25, 36, 49, 64, 81])"
      ]
     },
     "execution_count": 66,
     "metadata": {},
     "output_type": "execute_result"
    }
   ],
   "source": [
    "arr*arr"
   ]
  },
  {
   "cell_type": "code",
   "execution_count": null,
   "metadata": {
    "colab": {
     "base_uri": "https://localhost:8080/"
    },
    "id": "r9EqQAtse7B4",
    "outputId": "17dab10b-c505-409c-fb7b-b7f989cb5495"
   },
   "outputs": [
    {
     "data": {
      "text/plain": [
       "array([0, 0, 0, 0, 0, 0, 0, 0, 0, 0])"
      ]
     },
     "execution_count": 67,
     "metadata": {},
     "output_type": "execute_result"
    }
   ],
   "source": [
    "arr-arr"
   ]
  },
  {
   "cell_type": "code",
   "execution_count": null,
   "metadata": {
    "colab": {
     "base_uri": "https://localhost:8080/"
    },
    "id": "NrVc0XEze-Zk",
    "outputId": "6ac480c4-c645-4dba-b0a5-f3fe32cf5aa9"
   },
   "outputs": [
    {
     "name": "stderr",
     "output_type": "stream",
     "text": [
      "<ipython-input-68-18320eff7d4f>:4: RuntimeWarning: invalid value encountered in true_divide\n",
      "  arr/arr\n"
     ]
    },
    {
     "data": {
      "text/plain": [
       "array([nan,  1.,  1.,  1.,  1.,  1.,  1.,  1.,  1.,  1.])"
      ]
     },
     "execution_count": 68,
     "metadata": {},
     "output_type": "execute_result"
    }
   ],
   "source": [
    "# Warning on division by zero, but not an error!\n",
    "# Just replaced with nan\n",
    "\n",
    "arr/arr"
   ]
  },
  {
   "cell_type": "code",
   "execution_count": null,
   "metadata": {
    "colab": {
     "base_uri": "https://localhost:8080/"
    },
    "id": "gpzWiLXofL9G",
    "outputId": "62df08b5-7db6-4194-a3cd-1cdbdf1e6628"
   },
   "outputs": [
    {
     "name": "stderr",
     "output_type": "stream",
     "text": [
      "<ipython-input-69-c81c9b6169c9>:2: RuntimeWarning: divide by zero encountered in true_divide\n",
      "  1/arr\n"
     ]
    },
    {
     "data": {
      "text/plain": [
       "array([       inf, 1.        , 0.5       , 0.33333333, 0.25      ,\n",
       "       0.2       , 0.16666667, 0.14285714, 0.125     , 0.11111111])"
      ]
     },
     "execution_count": 69,
     "metadata": {},
     "output_type": "execute_result"
    }
   ],
   "source": [
    "# Also warning, but not an error instead infinity\n",
    "1/arr"
   ]
  },
  {
   "cell_type": "code",
   "execution_count": null,
   "metadata": {
    "colab": {
     "base_uri": "https://localhost:8080/"
    },
    "id": "r9h0YlfCfk0H",
    "outputId": "feab245a-115d-4b42-8697-9d52a7a6ce78"
   },
   "outputs": [
    {
     "data": {
      "text/plain": [
       "array([  0,   1,   8,  27,  64, 125, 216, 343, 512, 729])"
      ]
     },
     "execution_count": 70,
     "metadata": {},
     "output_type": "execute_result"
    }
   ],
   "source": [
    "arr**3"
   ]
  },
  {
   "cell_type": "code",
   "execution_count": null,
   "metadata": {
    "colab": {
     "base_uri": "https://localhost:8080/"
    },
    "id": "U9u1h0xpfrw-",
    "outputId": "f91d032d-e4c3-49ab-8b4a-a8cac20a6b45"
   },
   "outputs": [
    {
     "data": {
      "text/plain": [
       "array([0.        , 1.        , 1.41421356, 1.73205081, 2.        ,\n",
       "       2.23606798, 2.44948974, 2.64575131, 2.82842712, 3.        ])"
      ]
     },
     "execution_count": 71,
     "metadata": {},
     "output_type": "execute_result"
    }
   ],
   "source": [
    "# Universal Array Functions\n",
    "#Taking Square Roots\n",
    "np.sqrt(arr)"
   ]
  },
  {
   "cell_type": "code",
   "execution_count": null,
   "metadata": {
    "colab": {
     "base_uri": "https://localhost:8080/"
    },
    "id": "IRvS5p6df03H",
    "outputId": "efcc00d3-380e-4073-81f6-3c4b92a21ad9"
   },
   "outputs": [
    {
     "data": {
      "text/plain": [
       "array([1.00000000e+00, 2.71828183e+00, 7.38905610e+00, 2.00855369e+01,\n",
       "       5.45981500e+01, 1.48413159e+02, 4.03428793e+02, 1.09663316e+03,\n",
       "       2.98095799e+03, 8.10308393e+03])"
      ]
     },
     "execution_count": 72,
     "metadata": {},
     "output_type": "execute_result"
    }
   ],
   "source": [
    "#Calcualting exponential (e^)\n",
    "np.exp(arr)"
   ]
  },
  {
   "cell_type": "code",
   "execution_count": null,
   "metadata": {
    "colab": {
     "base_uri": "https://localhost:8080/"
    },
    "id": "068BrbWUf7IO",
    "outputId": "4f7f078a-bb84-4a46-ef0a-92f9499c3f63"
   },
   "outputs": [
    {
     "data": {
      "text/plain": [
       "array([ 0.        ,  0.84147098,  0.90929743,  0.14112001, -0.7568025 ,\n",
       "       -0.95892427, -0.2794155 ,  0.6569866 ,  0.98935825,  0.41211849])"
      ]
     },
     "execution_count": 73,
     "metadata": {},
     "output_type": "execute_result"
    }
   ],
   "source": [
    "np.sin(arr)"
   ]
  },
  {
   "cell_type": "code",
   "execution_count": null,
   "metadata": {
    "colab": {
     "base_uri": "https://localhost:8080/"
    },
    "id": "8e75z1Eaf_N3",
    "outputId": "65538ef9-e2b6-4bdc-c78a-894b9a774080"
   },
   "outputs": [
    {
     "name": "stderr",
     "output_type": "stream",
     "text": [
      "<ipython-input-74-a67b4ae04e95>:1: RuntimeWarning: divide by zero encountered in log\n",
      "  np.log(arr)\n"
     ]
    },
    {
     "data": {
      "text/plain": [
       "array([      -inf, 0.        , 0.69314718, 1.09861229, 1.38629436,\n",
       "       1.60943791, 1.79175947, 1.94591015, 2.07944154, 2.19722458])"
      ]
     },
     "execution_count": 74,
     "metadata": {},
     "output_type": "execute_result"
    }
   ],
   "source": [
    "np.log(arr)"
   ]
  },
  {
   "cell_type": "code",
   "execution_count": null,
   "metadata": {
    "id": "w5O9aTO-hs35"
   },
   "outputs": [],
   "source": [
    "# dimension array\n",
    "\n",
    "x1 = np.random.randint(10, size=6)  # One-dimensional array\n",
    "x2 = np.random.randint(10, size=(3, 4))  # Two-dimensional array\n",
    "x3 = np.random.randint(10, size=(3, 4, 5))  # Three-dimensional array\n",
    "x4 = np.random.randint(10, size=(3,3,4,5))  # Four-dimensional array"
   ]
  },
  {
   "cell_type": "code",
   "execution_count": null,
   "metadata": {
    "colab": {
     "base_uri": "https://localhost:8080/"
    },
    "id": "LAClowVKhxgN",
    "outputId": "3cdd815e-67e1-4b54-a24c-e13801db4946"
   },
   "outputs": [
    {
     "data": {
      "text/plain": [
       "array([0, 3, 5, 2, 1, 7])"
      ]
     },
     "execution_count": 76,
     "metadata": {},
     "output_type": "execute_result"
    }
   ],
   "source": [
    "x1"
   ]
  },
  {
   "cell_type": "code",
   "execution_count": null,
   "metadata": {
    "colab": {
     "base_uri": "https://localhost:8080/"
    },
    "id": "LjaWpJhGhyQa",
    "outputId": "c1b1e856-43e3-4c8a-f256-35acaad82431"
   },
   "outputs": [
    {
     "data": {
      "text/plain": [
       "array([[9, 9, 9, 7],\n",
       "       [1, 0, 4, 7],\n",
       "       [4, 4, 9, 9]])"
      ]
     },
     "execution_count": 77,
     "metadata": {},
     "output_type": "execute_result"
    }
   ],
   "source": [
    "x2"
   ]
  },
  {
   "cell_type": "code",
   "execution_count": null,
   "metadata": {
    "colab": {
     "base_uri": "https://localhost:8080/"
    },
    "id": "iQW9uNnyhzrA",
    "outputId": "5f1f033c-0b8e-450c-baa7-7e7c3ef2a439"
   },
   "outputs": [
    {
     "data": {
      "text/plain": [
       "array([[[4, 1, 7, 2, 6],\n",
       "        [6, 9, 9, 4, 0],\n",
       "        [9, 2, 8, 7, 4],\n",
       "        [9, 5, 5, 4, 2]],\n",
       "\n",
       "       [[1, 2, 1, 2, 6],\n",
       "        [1, 0, 7, 8, 1],\n",
       "        [9, 8, 7, 1, 2],\n",
       "        [5, 0, 2, 4, 9]],\n",
       "\n",
       "       [[8, 0, 9, 6, 5],\n",
       "        [4, 9, 1, 4, 3],\n",
       "        [0, 1, 6, 7, 4],\n",
       "        [3, 4, 6, 3, 3]]])"
      ]
     },
     "execution_count": 78,
     "metadata": {},
     "output_type": "execute_result"
    }
   ],
   "source": [
    "x3"
   ]
  },
  {
   "cell_type": "code",
   "execution_count": null,
   "metadata": {
    "colab": {
     "base_uri": "https://localhost:8080/"
    },
    "id": "hZ5_c3WbLOM7",
    "outputId": "d9ddf539-3e26-4cac-8ce0-1d4372f6c6cf"
   },
   "outputs": [
    {
     "data": {
      "text/plain": [
       "array([[[[6, 9, 3, 8, 1],\n",
       "         [9, 9, 4, 2, 7],\n",
       "         [8, 1, 5, 1, 8],\n",
       "         [8, 8, 1, 2, 1]],\n",
       "\n",
       "        [[3, 3, 1, 4, 4],\n",
       "         [5, 2, 1, 3, 2],\n",
       "         [5, 3, 2, 2, 3],\n",
       "         [4, 5, 9, 0, 0]],\n",
       "\n",
       "        [[6, 9, 8, 2, 3],\n",
       "         [9, 4, 1, 8, 1],\n",
       "         [1, 6, 3, 6, 5],\n",
       "         [4, 0, 6, 2, 6]]],\n",
       "\n",
       "\n",
       "       [[[2, 7, 4, 8, 3],\n",
       "         [8, 8, 4, 5, 8],\n",
       "         [5, 9, 3, 4, 3],\n",
       "         [1, 2, 2, 1, 0]],\n",
       "\n",
       "        [[0, 1, 2, 6, 5],\n",
       "         [1, 4, 0, 2, 8],\n",
       "         [1, 3, 5, 7, 3],\n",
       "         [3, 3, 9, 3, 2]],\n",
       "\n",
       "        [[3, 9, 3, 3, 9],\n",
       "         [6, 9, 5, 4, 8],\n",
       "         [9, 5, 1, 1, 9],\n",
       "         [7, 5, 1, 2, 9]]],\n",
       "\n",
       "\n",
       "       [[[5, 0, 0, 8, 6],\n",
       "         [2, 8, 0, 6, 5],\n",
       "         [8, 6, 4, 4, 5],\n",
       "         [1, 1, 2, 9, 8]],\n",
       "\n",
       "        [[5, 3, 4, 6, 1],\n",
       "         [0, 5, 1, 4, 1],\n",
       "         [3, 2, 7, 1, 7],\n",
       "         [2, 8, 3, 1, 6]],\n",
       "\n",
       "        [[3, 2, 8, 9, 6],\n",
       "         [0, 4, 2, 5, 1],\n",
       "         [6, 3, 9, 9, 8],\n",
       "         [4, 5, 4, 7, 0]]]])"
      ]
     },
     "execution_count": 79,
     "metadata": {},
     "output_type": "execute_result"
    }
   ],
   "source": [
    "x4"
   ]
  },
  {
   "cell_type": "code",
   "execution_count": null,
   "metadata": {
    "colab": {
     "base_uri": "https://localhost:8080/"
    },
    "id": "H3qw3UEsh1TN",
    "outputId": "6c7846f1-cda6-4cc9-a137-48cbae1394e9"
   },
   "outputs": [
    {
     "name": "stdout",
     "output_type": "stream",
     "text": [
      "x1 ndim:  1\n",
      "x1 shape: (6,)\n",
      "x1 size:  6\n"
     ]
    }
   ],
   "source": [
    "print(\"x1 ndim: \", x1.ndim)\n",
    "print(\"x1 shape:\", x1.shape)\n",
    "print(\"x1 size: \", x1.size)"
   ]
  },
  {
   "cell_type": "code",
   "execution_count": null,
   "metadata": {
    "colab": {
     "base_uri": "https://localhost:8080/"
    },
    "id": "JDyC7oajiHY-",
    "outputId": "a12650bb-6320-4cec-b4ee-e25764324a7e"
   },
   "outputs": [
    {
     "name": "stdout",
     "output_type": "stream",
     "text": [
      "x2 ndim:  2\n",
      "x2 shape: (3, 4)\n",
      "x2 size:  12\n"
     ]
    }
   ],
   "source": [
    "print(\"x2 ndim: \", x2.ndim)\n",
    "print(\"x2 shape:\", x2.shape)\n",
    "print(\"x2 size: \", x2.size)"
   ]
  },
  {
   "cell_type": "code",
   "execution_count": null,
   "metadata": {
    "colab": {
     "base_uri": "https://localhost:8080/"
    },
    "id": "Th3wF1myiOS9",
    "outputId": "31dc56b9-0528-4674-c090-dae437e3da99"
   },
   "outputs": [
    {
     "name": "stdout",
     "output_type": "stream",
     "text": [
      "x3 ndim:  3\n",
      "x3 shape: (3, 4, 5)\n",
      "x3 size:  60\n"
     ]
    }
   ],
   "source": [
    "print(\"x3 ndim: \", x3.ndim)\n",
    "print(\"x3 shape:\", x3.shape)\n",
    "print(\"x3 size: \", x3.size)"
   ]
  },
  {
   "cell_type": "code",
   "execution_count": null,
   "metadata": {
    "colab": {
     "base_uri": "https://localhost:8080/"
    },
    "id": "UcNNfJkyLmSO",
    "outputId": "b4513ac9-7dc8-48d9-af78-d918a36631d6"
   },
   "outputs": [
    {
     "name": "stdout",
     "output_type": "stream",
     "text": [
      "x1 ndim:  4\n",
      "x1 shape: (3, 3, 4, 5)\n",
      "x1 size:  180\n"
     ]
    }
   ],
   "source": [
    "print(\"x1 ndim: \", x4.ndim)\n",
    "print(\"x1 shape:\", x4.shape)\n",
    "print(\"x1 size: \", x4.size)"
   ]
  },
  {
   "cell_type": "code",
   "execution_count": null,
   "metadata": {
    "colab": {
     "base_uri": "https://localhost:8080/"
    },
    "id": "DhX_PDY8iPjo",
    "outputId": "70139721-485b-4c65-82c9-3c01fdfc09f9"
   },
   "outputs": [
    {
     "data": {
      "text/plain": [
       "array([1, 2, 3, 3, 2, 1])"
      ]
     },
     "execution_count": 84,
     "metadata": {},
     "output_type": "execute_result"
    }
   ],
   "source": [
    "# Concatenation of arrays\n",
    "\n",
    "x = np.array((1, 2, 3))\n",
    "y = np.array((3, 2, 1))\n",
    "np.concatenate([x, y])"
   ]
  },
  {
   "cell_type": "code",
   "execution_count": null,
   "metadata": {
    "colab": {
     "base_uri": "https://localhost:8080/"
    },
    "id": "FDtup50_i4m8",
    "outputId": "6baaf4ea-c6f6-48e1-8816-09e4a841a278"
   },
   "outputs": [
    {
     "name": "stdout",
     "output_type": "stream",
     "text": [
      "[ 1  2  3  3  2  1 99 99 99]\n"
     ]
    }
   ],
   "source": [
    "# can also concatenate more than two arrays at once:\n",
    "z = [99, 99, 99]\n",
    "print(np.concatenate([x, y, z]))"
   ]
  },
  {
   "cell_type": "code",
   "execution_count": null,
   "metadata": {
    "colab": {
     "base_uri": "https://localhost:8080/"
    },
    "id": "KoeKJhjTi8dX",
    "outputId": "fdfe965b-b473-49f6-a392-3c895cc71a06"
   },
   "outputs": [
    {
     "data": {
      "text/plain": [
       "array([[1, 2, 3],\n",
       "       [4, 5, 6],\n",
       "       [1, 2, 3],\n",
       "       [4, 5, 6]])"
      ]
     },
     "execution_count": 86,
     "metadata": {},
     "output_type": "execute_result"
    }
   ],
   "source": [
    "#It can also be used for two-dimensional arrays\n",
    "\n",
    "grid = np.array([[1, 2, 3],\n",
    "                 [4, 5, 6]])\n",
    "\n",
    "# concatenate along the first axis\n",
    "np.concatenate([grid, grid])"
   ]
  },
  {
   "cell_type": "code",
   "execution_count": null,
   "metadata": {
    "colab": {
     "base_uri": "https://localhost:8080/"
    },
    "id": "hTAp94IXjQZe",
    "outputId": "bc127679-58f9-46a6-f6c1-3427bf94b4de"
   },
   "outputs": [
    {
     "data": {
      "text/plain": [
       "array([[1, 2, 3, 1, 2, 3],\n",
       "       [4, 5, 6, 4, 5, 6]])"
      ]
     },
     "execution_count": 87,
     "metadata": {},
     "output_type": "execute_result"
    }
   ],
   "source": [
    "# concatenate along the second axis (zero-indexed)\n",
    "np.concatenate([grid, grid], axis=1)"
   ]
  },
  {
   "cell_type": "code",
   "execution_count": null,
   "metadata": {
    "colab": {
     "base_uri": "https://localhost:8080/"
    },
    "id": "_D5Yg9pLjZ_E",
    "outputId": "87679521-1b97-4538-99a3-e8f8ef17a031"
   },
   "outputs": [
    {
     "data": {
      "text/plain": [
       "array([[1, 2, 3],\n",
       "       [9, 8, 7],\n",
       "       [6, 5, 4]])"
      ]
     },
     "execution_count": 88,
     "metadata": {},
     "output_type": "execute_result"
    }
   ],
   "source": [
    "x = np.array([1, 2, 3])\n",
    "grid = np.array([[9, 8, 7],\n",
    "                 [6, 5, 4]])\n",
    "\n",
    "# vertically stack the arrays\n",
    "np.vstack([x, grid])"
   ]
  },
  {
   "cell_type": "code",
   "execution_count": null,
   "metadata": {
    "colab": {
     "base_uri": "https://localhost:8080/"
    },
    "id": "DgzmK9ffjidv",
    "outputId": "dea73b4c-7053-4979-cdd8-a249e6e0b469"
   },
   "outputs": [
    {
     "data": {
      "text/plain": [
       "array([[ 9,  8,  7, 99],\n",
       "       [ 6,  5,  4, 99]])"
      ]
     },
     "execution_count": 89,
     "metadata": {},
     "output_type": "execute_result"
    }
   ],
   "source": [
    "# horizontally stack the arrays\n",
    "y = np.array([[99],\n",
    "              [99]])\n",
    "np.hstack([grid, y])"
   ]
  },
  {
   "cell_type": "code",
   "execution_count": null,
   "metadata": {
    "colab": {
     "base_uri": "https://localhost:8080/"
    },
    "id": "o3xlFJrplUU7",
    "outputId": "59673e09-a014-4028-f688-d373f9ca0b2f"
   },
   "outputs": [
    {
     "name": "stdout",
     "output_type": "stream",
     "text": [
      "[[[ 1  2]\n",
      "  [ 5  6]]\n",
      "\n",
      " [[ 9 10]\n",
      "  [13 14]]\n",
      "\n",
      " [[17 18]\n",
      "  [21 22]]]\n",
      "----------\n",
      "[[[ 3  4]\n",
      "  [ 7  8]]\n",
      "\n",
      " [[11 12]\n",
      "  [15 16]]\n",
      "\n",
      " [[19 20]\n",
      "  [23 24]]]\n"
     ]
    }
   ],
   "source": [
    "\n",
    "\n",
    "# create a 3D array\n",
    "a = np.array([[[1, 2, 3, 4],\n",
    "               [5, 6, 7, 8]],\n",
    "              \n",
    "              [[9, 10, 11, 12],\n",
    "               [13, 14, 15, 16]],\n",
    "              \n",
    "              [[17, 18, 19, 20],\n",
    "               [21, 22, 23, 24]]])\n",
    "\n",
    "# split the array into two 2D arrays along the third axis\n",
    "b, c = np.dsplit(a, 2)\n",
    "\n",
    "# print the resulting arrays\n",
    "print(b)\n",
    "\n",
    "print('----------')\n",
    "\n",
    "print(c)\n"
   ]
  },
  {
   "cell_type": "code",
   "execution_count": null,
   "metadata": {
    "colab": {
     "base_uri": "https://localhost:8080/"
    },
    "id": "rhfLm45tlkSx",
    "outputId": "ec5caa01-1ac4-4f49-b47f-b5adb65cb46d"
   },
   "outputs": [
    {
     "name": "stdout",
     "output_type": "stream",
     "text": [
      "[[7 3 4 4]\n",
      " [1 6 3 6]\n",
      " [6 7 0 1]]\n",
      "Column sums: [14 16  7 11]\n",
      "Row sums: [18 16 14]\n"
     ]
    }
   ],
   "source": [
    "b=np.random.randint(0, 10, (3,4))\n",
    "print(b)\n",
    "print(\"Column sums:\", b.sum(axis=0))\n",
    "print(\"Row sums:\", b.sum(axis=1))"
   ]
  },
  {
   "cell_type": "markdown",
   "metadata": {
    "id": "KZBUVpaQmKg5"
   },
   "source": [
    "Note that most of the aggregation functions in NumPy have corresponding methods. In addition, Python language has builtin functions `sum`, `min`, `max`, `any`, and `all` for sequences. Make sure you don't accidentally use these for arrays, since they may have slightly different semantics, and they will be significantly slower than NumPy's functions and methods.\n",
    "Python function\tNumPy function\tNumPy method\n",
    "sum\tnp.sum\ta.sum\n",
    "-\tnp.prod\ta.prod\n",
    "-\tnp.mean\ta.mean\n",
    "-\tnp.std\ta.std\n",
    "-\tnp.var\ta.var\n",
    "min\tnp.min\ta.min\n",
    "max\tnp.max\ta.max\n",
    "-\tnp.argmin\ta.argmin\n",
    "-\tnp.argmax\ta.argmax\n",
    "-\tnp.median\t-\n",
    "-\tnp.percentile\t-\n",
    "any\tnp.any\ta.any\n",
    "all\tnp.all\ta.all\n"
   ]
  },
  {
   "cell_type": "code",
   "execution_count": null,
   "metadata": {
    "colab": {
     "base_uri": "https://localhost:8080/"
    },
    "id": "UtyXOMS6eJ1C",
    "outputId": "6c5b555b-7452-41a7-a942-c407cc177bd7"
   },
   "outputs": [
    {
     "name": "stdout",
     "output_type": "stream",
     "text": [
      "[[1 2 3]\n",
      " [4 5 6]\n",
      " [7 8 9]]\n",
      "Cumulative sum along rows:\n",
      " [[ 1  2  3]\n",
      " [ 5  7  9]\n",
      " [12 15 18]]\n",
      "Cumulative product along columns:\n",
      " [[  1   2   6]\n",
      " [  4  20 120]\n",
      " [  7  56 504]]\n"
     ]
    }
   ],
   "source": [
    "\n",
    "\n",
    "arr = np.array([[1, 2, 3], [4, 5, 6], [7, 8, 9]])\n",
    "\n",
    "cumsum_result = np.cumsum(arr, axis=0)\n",
    "cumprod_result = np.cumprod(arr, axis=1)\n",
    "\n",
    "print(arr)\n",
    "\n",
    "print(\"Cumulative sum along rows:\\n\", cumsum_result)\n",
    "print(\"Cumulative product along columns:\\n\", cumprod_result)\n"
   ]
  },
  {
   "cell_type": "code",
   "execution_count": null,
   "metadata": {
    "colab": {
     "base_uri": "https://localhost:8080/"
    },
    "id": "dDnvpxx6eQ8U",
    "outputId": "db2bfcc5-9d79-445c-9928-fdcbfa4a5ab5"
   },
   "outputs": [
    {
     "name": "stdout",
     "output_type": "stream",
     "text": [
      "[2 5 8]\n",
      "\n",
      "[3 6 9]\n"
     ]
    }
   ],
   "source": [
    "\n",
    "\n",
    "# create a 3x3 numpy array\n",
    "arr = np.array([[1, 2, 3], [4, 5, 6], [7, 8, 9]])\n",
    "\n",
    "# access the second column\n",
    "col = arr[:, 1]\n",
    "#arr[0][0]\n",
    "col1=arr[:,2]\n",
    "\n",
    "print(col)\n",
    "\n",
    "print()\n",
    "\n",
    "print(col1)\n"
   ]
  },
  {
   "cell_type": "code",
   "execution_count": null,
   "metadata": {
    "colab": {
     "base_uri": "https://localhost:8080/"
    },
    "id": "KjrBRBDreud6",
    "outputId": "f270777d-a539-4870-c45b-d1478d06f129"
   },
   "outputs": [
    {
     "name": "stdout",
     "output_type": "stream",
     "text": [
      "[1 2 3]\n"
     ]
    }
   ],
   "source": [
    "\n",
    "\n",
    "my_dict = {'a': 1, 'b': 2, 'c': 3}\n",
    "\n",
    "my_array = np.array(list(my_dict.values()))\n",
    "\n",
    "print(my_array)\n"
   ]
  },
  {
   "cell_type": "code",
   "execution_count": null,
   "metadata": {
    "colab": {
     "base_uri": "https://localhost:8080/"
    },
    "id": "I4smdoJJfQfS",
    "outputId": "133c92ee-0e41-4805-b5d6-01477054b6f0"
   },
   "outputs": [
    {
     "name": "stdout",
     "output_type": "stream",
     "text": [
      "[[1 2 3]\n",
      " [4 5 6]\n",
      " [7 8 9]]\n"
     ]
    }
   ],
   "source": [
    "import numpy as np\n",
    "\n",
    "my_dict = {'a': [1, 2, 3], 'b': [4, 5, 6], 'c': [7, 8, 9]}\n",
    "\n",
    "my_array = np.array([my_dict[key] for key in my_dict])\n",
    "\n",
    "print(my_array)"
   ]
  },
  {
   "cell_type": "code",
   "execution_count": null,
   "metadata": {
    "colab": {
     "base_uri": "https://localhost:8080/"
    },
    "id": "y7B907ctfTmP",
    "outputId": "024bf202-50b2-490c-f3d9-49e8f93f47d5"
   },
   "outputs": [
    {
     "name": "stdout",
     "output_type": "stream",
     "text": [
      "[[0 0 0]\n",
      " [0 0 0]\n",
      " [1 2 5]\n",
      " [3 4 6]\n",
      " [0 0 0]\n",
      " [0 0 0]]\n"
     ]
    }
   ],
   "source": [
    "import numpy as np\n",
    "\n",
    "arr = np.array([[1, 2,5], [3, 4,6]])\n",
    "\n",
    "# Pad the array with zeros\n",
    "padded_arr = np.pad(arr, ((2, 2),(0,0)), mode='constant')\n",
    "\n",
    "print(padded_arr)\n"
   ]
  },
  {
   "cell_type": "code",
   "execution_count": null,
   "metadata": {
    "colab": {
     "base_uri": "https://localhost:8080/"
    },
    "id": "m5eIgyIwgTi3",
    "outputId": "cdcf6ad5-491b-4c61-df44-532c581a6c18"
   },
   "outputs": [
    {
     "name": "stdout",
     "output_type": "stream",
     "text": [
      "[[1 1 1 2 2 2]\n",
      " [1 1 1 2 2 2]\n",
      " [1 1 1 2 2 2]\n",
      " [3 3 3 4 4 4]\n",
      " [3 3 3 4 4 4]\n",
      " [3 3 3 4 4 4]]\n"
     ]
    }
   ],
   "source": [
    "arr = np.array([[1, 2], [3, 4]])\n",
    "\n",
    "# Pad the array with zeros\n",
    "padded_arr = np.pad(arr, ((2, 2), (2, 2)), mode='edge')\n",
    "\n",
    "print(padded_arr)"
   ]
  },
  {
   "cell_type": "code",
   "execution_count": null,
   "metadata": {
    "colab": {
     "base_uri": "https://localhost:8080/"
    },
    "id": "CNpcs9NrgVtb",
    "outputId": "79573fa4-e7d8-4a1c-dcb6-0e4df4d1b85e"
   },
   "outputs": [
    {
     "name": "stdout",
     "output_type": "stream",
     "text": [
      "[['4' '3' '3' '4' '4' '3']\n",
      " ['b' 'a' 'a' 'b' 'b' 'a']\n",
      " ['b' 'a' 'a' 'b' 'b' 'a']\n",
      " ['4' '3' '3' '4' '4' '3']\n",
      " ['4' '3' '3' '4' '4' '3']\n",
      " ['b' 'a' 'a' 'b' 'b' 'a']]\n"
     ]
    }
   ],
   "source": [
    "arr = np.array([['a', 'b'], [3, 4]])\n",
    "\n",
    "# Pad the array with zeros\n",
    "padded_arr = np.pad(arr, ((2, 2), (2, 2)), mode='symmetric')\n",
    "\n",
    "print(padded_arr)"
   ]
  },
  {
   "cell_type": "code",
   "execution_count": null,
   "metadata": {
    "colab": {
     "base_uri": "https://localhost:8080/"
    },
    "id": "u-JpaN1Wh8hl",
    "outputId": "273e6761-7f0f-4bf5-91c9-c45d4b2a5716"
   },
   "outputs": [
    {
     "name": "stdout",
     "output_type": "stream",
     "text": [
      "[False False  True  True  True  True]\n",
      "[999 999   3   4   5   6]\n"
     ]
    }
   ],
   "source": [
    "import numpy as np\n",
    "\n",
    "# Create an array\n",
    "a = np.array([1, 2, 3, 4, 5,6])\n",
    "\n",
    "# Create a boolean array based on a condition\n",
    "b = a > 2\n",
    "print(b)\n",
    "# Use numpy.where() to select values based on the condition\n",
    "c = np.where(a>2, a, 999)\n",
    "\n",
    "print(c)\n",
    "# Output: [0 0 3 4 5]\n"
   ]
  },
  {
   "cell_type": "code",
   "execution_count": null,
   "metadata": {
    "colab": {
     "base_uri": "https://localhost:8080/"
    },
    "id": "inJsIchjh-9G",
    "outputId": "c3815225-daa6-401b-f654-93c4f12425a7"
   },
   "outputs": [
    {
     "name": "stdout",
     "output_type": "stream",
     "text": [
      "(array([3, 4]),)\n"
     ]
    }
   ],
   "source": [
    "import numpy as np\n",
    "\n",
    "# Create an array\n",
    "arr = np.array([1, 2, 3, 4, 5])\n",
    "\n",
    "# Use numpy.where() to get the indices of elements greater than 3\n",
    "indices = np.where(arr > 3)\n",
    "\n",
    "# Print the indices\n",
    "print(indices)\n"
   ]
  },
  {
   "cell_type": "code",
   "execution_count": null,
   "metadata": {
    "colab": {
     "base_uri": "https://localhost:8080/"
    },
    "id": "Zco2Xc66jMNg",
    "outputId": "58e4a72a-39cb-45eb-d826-36b3b7b3d61b"
   },
   "outputs": [
    {
     "data": {
      "text/plain": [
       "['ALLOW_THREADS',\n",
       " 'AxisError',\n",
       " 'BUFSIZE',\n",
       " 'CLIP',\n",
       " 'ComplexWarning',\n",
       " 'DataSource',\n",
       " 'ERR_CALL',\n",
       " 'ERR_DEFAULT',\n",
       " 'ERR_IGNORE',\n",
       " 'ERR_LOG',\n",
       " 'ERR_PRINT',\n",
       " 'ERR_RAISE',\n",
       " 'ERR_WARN',\n",
       " 'FLOATING_POINT_SUPPORT',\n",
       " 'FPE_DIVIDEBYZERO',\n",
       " 'FPE_INVALID',\n",
       " 'FPE_OVERFLOW',\n",
       " 'FPE_UNDERFLOW',\n",
       " 'False_',\n",
       " 'Inf',\n",
       " 'Infinity',\n",
       " 'MAXDIMS',\n",
       " 'MAY_SHARE_BOUNDS',\n",
       " 'MAY_SHARE_EXACT',\n",
       " 'ModuleDeprecationWarning',\n",
       " 'NAN',\n",
       " 'NINF',\n",
       " 'NZERO',\n",
       " 'NaN',\n",
       " 'PINF',\n",
       " 'PZERO',\n",
       " 'RAISE',\n",
       " 'RankWarning',\n",
       " 'SHIFT_DIVIDEBYZERO',\n",
       " 'SHIFT_INVALID',\n",
       " 'SHIFT_OVERFLOW',\n",
       " 'SHIFT_UNDERFLOW',\n",
       " 'ScalarType',\n",
       " 'Tester',\n",
       " 'TooHardError',\n",
       " 'True_',\n",
       " 'UFUNC_BUFSIZE_DEFAULT',\n",
       " 'UFUNC_PYVALS_NAME',\n",
       " 'VisibleDeprecationWarning',\n",
       " 'WRAP',\n",
       " '_CopyMode',\n",
       " '_NoValue',\n",
       " '_UFUNC_API',\n",
       " '__NUMPY_SETUP__',\n",
       " '__all__',\n",
       " '__builtins__',\n",
       " '__cached__',\n",
       " '__config__',\n",
       " '__deprecated_attrs__',\n",
       " '__dir__',\n",
       " '__doc__',\n",
       " '__expired_functions__',\n",
       " '__file__',\n",
       " '__getattr__',\n",
       " '__git_version__',\n",
       " '__loader__',\n",
       " '__name__',\n",
       " '__package__',\n",
       " '__path__',\n",
       " '__spec__',\n",
       " '__version__',\n",
       " '_add_newdoc_ufunc',\n",
       " '_distributor_init',\n",
       " '_financial_names',\n",
       " '_from_dlpack',\n",
       " '_globals',\n",
       " '_mat',\n",
       " '_pytesttester',\n",
       " '_version',\n",
       " 'abs',\n",
       " 'absolute',\n",
       " 'add',\n",
       " 'add_docstring',\n",
       " 'add_newdoc',\n",
       " 'add_newdoc_ufunc',\n",
       " 'alen',\n",
       " 'all',\n",
       " 'allclose',\n",
       " 'alltrue',\n",
       " 'amax',\n",
       " 'amin',\n",
       " 'angle',\n",
       " 'any',\n",
       " 'append',\n",
       " 'apply_along_axis',\n",
       " 'apply_over_axes',\n",
       " 'arange',\n",
       " 'arccos',\n",
       " 'arccosh',\n",
       " 'arcsin',\n",
       " 'arcsinh',\n",
       " 'arctan',\n",
       " 'arctan2',\n",
       " 'arctanh',\n",
       " 'argmax',\n",
       " 'argmin',\n",
       " 'argpartition',\n",
       " 'argsort',\n",
       " 'argwhere',\n",
       " 'around',\n",
       " 'array',\n",
       " 'array2string',\n",
       " 'array_equal',\n",
       " 'array_equiv',\n",
       " 'array_repr',\n",
       " 'array_split',\n",
       " 'array_str',\n",
       " 'asanyarray',\n",
       " 'asarray',\n",
       " 'asarray_chkfinite',\n",
       " 'ascontiguousarray',\n",
       " 'asfarray',\n",
       " 'asfortranarray',\n",
       " 'asmatrix',\n",
       " 'asscalar',\n",
       " 'atleast_1d',\n",
       " 'atleast_2d',\n",
       " 'atleast_3d',\n",
       " 'average',\n",
       " 'bartlett',\n",
       " 'base_repr',\n",
       " 'binary_repr',\n",
       " 'bincount',\n",
       " 'bitwise_and',\n",
       " 'bitwise_not',\n",
       " 'bitwise_or',\n",
       " 'bitwise_xor',\n",
       " 'blackman',\n",
       " 'block',\n",
       " 'bmat',\n",
       " 'bool8',\n",
       " 'bool_',\n",
       " 'broadcast',\n",
       " 'broadcast_arrays',\n",
       " 'broadcast_shapes',\n",
       " 'broadcast_to',\n",
       " 'busday_count',\n",
       " 'busday_offset',\n",
       " 'busdaycalendar',\n",
       " 'byte',\n",
       " 'byte_bounds',\n",
       " 'bytes0',\n",
       " 'bytes_',\n",
       " 'c_',\n",
       " 'can_cast',\n",
       " 'cast',\n",
       " 'cbrt',\n",
       " 'cdouble',\n",
       " 'ceil',\n",
       " 'cfloat',\n",
       " 'char',\n",
       " 'character',\n",
       " 'chararray',\n",
       " 'choose',\n",
       " 'clip',\n",
       " 'clongdouble',\n",
       " 'clongfloat',\n",
       " 'column_stack',\n",
       " 'common_type',\n",
       " 'compare_chararrays',\n",
       " 'compat',\n",
       " 'complex128',\n",
       " 'complex256',\n",
       " 'complex64',\n",
       " 'complex_',\n",
       " 'complexfloating',\n",
       " 'compress',\n",
       " 'concatenate',\n",
       " 'conj',\n",
       " 'conjugate',\n",
       " 'convolve',\n",
       " 'copy',\n",
       " 'copysign',\n",
       " 'copyto',\n",
       " 'core',\n",
       " 'corrcoef',\n",
       " 'correlate',\n",
       " 'cos',\n",
       " 'cosh',\n",
       " 'count_nonzero',\n",
       " 'cov',\n",
       " 'cross',\n",
       " 'csingle',\n",
       " 'ctypeslib',\n",
       " 'cumprod',\n",
       " 'cumproduct',\n",
       " 'cumsum',\n",
       " 'datetime64',\n",
       " 'datetime_as_string',\n",
       " 'datetime_data',\n",
       " 'deg2rad',\n",
       " 'degrees',\n",
       " 'delete',\n",
       " 'deprecate',\n",
       " 'deprecate_with_doc',\n",
       " 'diag',\n",
       " 'diag_indices',\n",
       " 'diag_indices_from',\n",
       " 'diagflat',\n",
       " 'diagonal',\n",
       " 'diff',\n",
       " 'digitize',\n",
       " 'disp',\n",
       " 'divide',\n",
       " 'divmod',\n",
       " 'dot',\n",
       " 'double',\n",
       " 'dsplit',\n",
       " 'dstack',\n",
       " 'dtype',\n",
       " 'e',\n",
       " 'ediff1d',\n",
       " 'einsum',\n",
       " 'einsum_path',\n",
       " 'emath',\n",
       " 'empty',\n",
       " 'empty_like',\n",
       " 'equal',\n",
       " 'errstate',\n",
       " 'euler_gamma',\n",
       " 'exp',\n",
       " 'exp2',\n",
       " 'expand_dims',\n",
       " 'expm1',\n",
       " 'expm1x',\n",
       " 'extract',\n",
       " 'eye',\n",
       " 'fabs',\n",
       " 'fastCopyAndTranspose',\n",
       " 'fft',\n",
       " 'fill_diagonal',\n",
       " 'find_common_type',\n",
       " 'finfo',\n",
       " 'fix',\n",
       " 'flatiter',\n",
       " 'flatnonzero',\n",
       " 'flexible',\n",
       " 'flip',\n",
       " 'fliplr',\n",
       " 'flipud',\n",
       " 'float128',\n",
       " 'float16',\n",
       " 'float32',\n",
       " 'float64',\n",
       " 'float_',\n",
       " 'float_power',\n",
       " 'floating',\n",
       " 'floor',\n",
       " 'floor_divide',\n",
       " 'fmax',\n",
       " 'fmin',\n",
       " 'fmod',\n",
       " 'format_float_positional',\n",
       " 'format_float_scientific',\n",
       " 'format_parser',\n",
       " 'frexp',\n",
       " 'frombuffer',\n",
       " 'fromfile',\n",
       " 'fromfunction',\n",
       " 'fromiter',\n",
       " 'frompyfunc',\n",
       " 'fromregex',\n",
       " 'fromstring',\n",
       " 'full',\n",
       " 'full_like',\n",
       " 'gcd',\n",
       " 'generic',\n",
       " 'genfromtxt',\n",
       " 'geomspace',\n",
       " 'get_array_wrap',\n",
       " 'get_include',\n",
       " 'get_printoptions',\n",
       " 'getbufsize',\n",
       " 'geterr',\n",
       " 'geterrcall',\n",
       " 'geterrobj',\n",
       " 'gradient',\n",
       " 'greater',\n",
       " 'greater_equal',\n",
       " 'half',\n",
       " 'hamming',\n",
       " 'hanning',\n",
       " 'heaviside',\n",
       " 'histogram',\n",
       " 'histogram2d',\n",
       " 'histogram_bin_edges',\n",
       " 'histogramdd',\n",
       " 'hsplit',\n",
       " 'hstack',\n",
       " 'hypot',\n",
       " 'i0',\n",
       " 'identity',\n",
       " 'iinfo',\n",
       " 'imag',\n",
       " 'in1d',\n",
       " 'index_exp',\n",
       " 'indices',\n",
       " 'inexact',\n",
       " 'inf',\n",
       " 'info',\n",
       " 'infty',\n",
       " 'inner',\n",
       " 'insert',\n",
       " 'int0',\n",
       " 'int16',\n",
       " 'int32',\n",
       " 'int64',\n",
       " 'int8',\n",
       " 'int_',\n",
       " 'intc',\n",
       " 'integer',\n",
       " 'interp',\n",
       " 'intersect1d',\n",
       " 'intp',\n",
       " 'invert',\n",
       " 'is_busday',\n",
       " 'isclose',\n",
       " 'iscomplex',\n",
       " 'iscomplexobj',\n",
       " 'isfinite',\n",
       " 'isfortran',\n",
       " 'isin',\n",
       " 'isinf',\n",
       " 'isnan',\n",
       " 'isnat',\n",
       " 'isneginf',\n",
       " 'isposinf',\n",
       " 'isreal',\n",
       " 'isrealobj',\n",
       " 'isscalar',\n",
       " 'issctype',\n",
       " 'issubclass_',\n",
       " 'issubdtype',\n",
       " 'issubsctype',\n",
       " 'iterable',\n",
       " 'ix_',\n",
       " 'kaiser',\n",
       " 'kernel_version',\n",
       " 'kron',\n",
       " 'lcm',\n",
       " 'ldexp',\n",
       " 'left_shift',\n",
       " 'less',\n",
       " 'less_equal',\n",
       " 'lexsort',\n",
       " 'lib',\n",
       " 'linalg',\n",
       " 'linspace',\n",
       " 'little_endian',\n",
       " 'load',\n",
       " 'loadtxt',\n",
       " 'log',\n",
       " 'log10',\n",
       " 'log1p',\n",
       " 'log2',\n",
       " 'logaddexp',\n",
       " 'logaddexp2',\n",
       " 'logical_and',\n",
       " 'logical_not',\n",
       " 'logical_or',\n",
       " 'logical_xor',\n",
       " 'logspace',\n",
       " 'longcomplex',\n",
       " 'longdouble',\n",
       " 'longfloat',\n",
       " 'longlong',\n",
       " 'lookfor',\n",
       " 'ma',\n",
       " 'mask_indices',\n",
       " 'mat',\n",
       " 'math',\n",
       " 'matmul',\n",
       " 'matrix',\n",
       " 'matrixlib',\n",
       " 'max',\n",
       " 'maximum',\n",
       " 'maximum_sctype',\n",
       " 'may_share_memory',\n",
       " 'mean',\n",
       " 'median',\n",
       " 'memmap',\n",
       " 'meshgrid',\n",
       " 'mgrid',\n",
       " 'min',\n",
       " 'min_scalar_type',\n",
       " 'minimum',\n",
       " 'mintypecode',\n",
       " 'mod',\n",
       " 'modf',\n",
       " 'moveaxis',\n",
       " 'msort',\n",
       " 'multiply',\n",
       " 'nan',\n",
       " 'nan_to_num',\n",
       " 'nanargmax',\n",
       " 'nanargmin',\n",
       " 'nancumprod',\n",
       " 'nancumsum',\n",
       " 'nanmax',\n",
       " 'nanmean',\n",
       " 'nanmedian',\n",
       " 'nanmin',\n",
       " 'nanpercentile',\n",
       " 'nanprod',\n",
       " 'nanquantile',\n",
       " 'nanstd',\n",
       " 'nansum',\n",
       " 'nanvar',\n",
       " 'nbytes',\n",
       " 'ndarray',\n",
       " 'ndenumerate',\n",
       " 'ndim',\n",
       " 'ndindex',\n",
       " 'nditer',\n",
       " 'negative',\n",
       " 'nested_iters',\n",
       " 'newaxis',\n",
       " 'nextafter',\n",
       " 'nonzero',\n",
       " 'not_equal',\n",
       " 'numarray',\n",
       " 'number',\n",
       " 'obj2sctype',\n",
       " 'object0',\n",
       " 'object_',\n",
       " 'ogrid',\n",
       " 'oldnumeric',\n",
       " 'ones',\n",
       " 'ones_like',\n",
       " 'os',\n",
       " 'outer',\n",
       " 'packbits',\n",
       " 'pad',\n",
       " 'partition',\n",
       " 'percentile',\n",
       " 'pi',\n",
       " 'piecewise',\n",
       " 'place',\n",
       " 'poly',\n",
       " 'poly1d',\n",
       " 'polyadd',\n",
       " 'polyder',\n",
       " 'polydiv',\n",
       " 'polyfit',\n",
       " 'polyint',\n",
       " 'polymul',\n",
       " 'polynomial',\n",
       " 'polysub',\n",
       " 'polyval',\n",
       " 'positive',\n",
       " 'power',\n",
       " 'printoptions',\n",
       " 'prod',\n",
       " 'product',\n",
       " 'promote_types',\n",
       " 'ptp',\n",
       " 'put',\n",
       " 'put_along_axis',\n",
       " 'putmask',\n",
       " 'quantile',\n",
       " 'r_',\n",
       " 'rad2deg',\n",
       " 'radians',\n",
       " 'random',\n",
       " 'ravel',\n",
       " 'ravel_multi_index',\n",
       " 'real',\n",
       " 'real_if_close',\n",
       " 'rec',\n",
       " 'recarray',\n",
       " 'recfromcsv',\n",
       " 'recfromtxt',\n",
       " 'reciprocal',\n",
       " 'record',\n",
       " 'remainder',\n",
       " 'repeat',\n",
       " 'require',\n",
       " 'reshape',\n",
       " 'resize',\n",
       " 'result_type',\n",
       " 'right_shift',\n",
       " 'rint',\n",
       " 'roll',\n",
       " 'rollaxis',\n",
       " 'roots',\n",
       " 'rot90',\n",
       " 'round',\n",
       " 'round_',\n",
       " 'row_stack',\n",
       " 's_',\n",
       " 'safe_eval',\n",
       " 'save',\n",
       " 'savetxt',\n",
       " 'savez',\n",
       " 'savez_compressed',\n",
       " 'sctype2char',\n",
       " 'sctypeDict',\n",
       " 'sctypes',\n",
       " 'searchsorted',\n",
       " 'select',\n",
       " 'set_numeric_ops',\n",
       " 'set_printoptions',\n",
       " 'set_string_function',\n",
       " 'setbufsize',\n",
       " 'setdiff1d',\n",
       " 'seterr',\n",
       " 'seterrcall',\n",
       " 'seterrobj',\n",
       " 'setxor1d',\n",
       " 'shape',\n",
       " 'shares_memory',\n",
       " 'short',\n",
       " 'show_config',\n",
       " 'sign',\n",
       " 'signbit',\n",
       " 'signedinteger',\n",
       " 'sin',\n",
       " 'sinc',\n",
       " 'single',\n",
       " 'singlecomplex',\n",
       " 'sinh',\n",
       " 'size',\n",
       " 'sometrue',\n",
       " 'sort',\n",
       " 'sort_complex',\n",
       " 'source',\n",
       " 'spacing',\n",
       " 'split',\n",
       " 'sqrt',\n",
       " 'square',\n",
       " 'squeeze',\n",
       " 'stack',\n",
       " 'std',\n",
       " 'str0',\n",
       " 'str_',\n",
       " 'string_',\n",
       " 'subtract',\n",
       " 'sum',\n",
       " 'swapaxes',\n",
       " 'sys',\n",
       " 'take',\n",
       " 'take_along_axis',\n",
       " 'tan',\n",
       " 'tanh',\n",
       " 'tensordot',\n",
       " 'test',\n",
       " 'testing',\n",
       " 'tile',\n",
       " 'timedelta64',\n",
       " 'trace',\n",
       " 'tracemalloc_domain',\n",
       " 'transpose',\n",
       " 'trapz',\n",
       " 'tri',\n",
       " 'tril',\n",
       " 'tril_indices',\n",
       " 'tril_indices_from',\n",
       " 'trim_zeros',\n",
       " 'triu',\n",
       " 'triu_indices',\n",
       " 'triu_indices_from',\n",
       " 'true_divide',\n",
       " 'trunc',\n",
       " 'typecodes',\n",
       " 'typename',\n",
       " 'ubyte',\n",
       " 'ufunc',\n",
       " 'uint',\n",
       " 'uint0',\n",
       " 'uint16',\n",
       " 'uint32',\n",
       " 'uint64',\n",
       " 'uint8',\n",
       " 'uintc',\n",
       " 'uintp',\n",
       " 'ulonglong',\n",
       " 'unicode_',\n",
       " 'union1d',\n",
       " 'unique',\n",
       " 'unpackbits',\n",
       " 'unravel_index',\n",
       " 'unsignedinteger',\n",
       " 'unwrap',\n",
       " 'use_hugepage',\n",
       " 'ushort',\n",
       " 'vander',\n",
       " 'var',\n",
       " 'vdot',\n",
       " 'vectorize',\n",
       " 'version',\n",
       " 'void',\n",
       " 'void0',\n",
       " 'vsplit',\n",
       " 'vstack',\n",
       " 'warnings',\n",
       " 'where',\n",
       " 'who',\n",
       " 'zeros',\n",
       " 'zeros_like']"
      ]
     },
     "execution_count": 109,
     "metadata": {},
     "output_type": "execute_result"
    }
   ],
   "source": [
    "dir(np)"
   ]
  },
  {
   "cell_type": "code",
   "execution_count": null,
   "metadata": {
    "colab": {
     "base_uri": "https://localhost:8080/"
    },
    "id": "YxUBWxD4lDMD",
    "outputId": "3aabb5df-1e64-4b7b-c3fa-2ed6c3d6caf8"
   },
   "outputs": [
    {
     "name": "stdout",
     "output_type": "stream",
     "text": [
      "[1 2 3 4 5 6]\n"
     ]
    }
   ],
   "source": [
    "import numpy as np\n",
    "\n",
    "a = np.array([1, 2, 3])\n",
    "b = np.append(a, [4, 5, 6])\n",
    "print(b)\n"
   ]
  },
  {
   "cell_type": "code",
   "execution_count": null,
   "metadata": {
    "colab": {
     "base_uri": "https://localhost:8080/"
    },
    "id": "2K-0UNtYlIm1",
    "outputId": "41aeaa4d-c3de-4f11-9db8-d6841abfbd11"
   },
   "outputs": [
    {
     "name": "stdout",
     "output_type": "stream",
     "text": [
      "[1 4 5 2 3]\n"
     ]
    }
   ],
   "source": [
    "a = np.array([1, 2, 3])\n",
    "b = np.insert(a, 1, [4, 5])\n",
    "print(b)"
   ]
  },
  {
   "cell_type": "code",
   "execution_count": null,
   "metadata": {
    "colab": {
     "base_uri": "https://localhost:8080/"
    },
    "id": "FERmJly3lIqK",
    "outputId": "7b1e3720-b911-4bd4-c48f-bf433d27338a"
   },
   "outputs": [
    {
     "name": "stdout",
     "output_type": "stream",
     "text": [
      "[1 3]\n"
     ]
    }
   ],
   "source": [
    "a = np.array([1, 2, 3])\n",
    "b = np.delete(a, 1)\n",
    "print(b)"
   ]
  },
  {
   "cell_type": "code",
   "execution_count": null,
   "metadata": {
    "colab": {
     "base_uri": "https://localhost:8080/"
    },
    "id": "2mZRYPNIYw7F",
    "outputId": "1276e48f-ddb5-4b8f-9239-49ec33baeef5"
   },
   "outputs": [
    {
     "name": "stdout",
     "output_type": "stream",
     "text": [
      "[1 2 3 4 5]\n"
     ]
    }
   ],
   "source": [
    "#sort\n",
    "arr = np.array([3, 1, 5, 2, 4])\n",
    "arr.sort()\n",
    "print(arr)"
   ]
  },
  {
   "cell_type": "code",
   "execution_count": null,
   "metadata": {
    "colab": {
     "base_uri": "https://localhost:8080/"
    },
    "id": "wxmGrTZyaGCj",
    "outputId": "2ad6946f-44e9-4639-f16b-7bc0c8ab3f9e"
   },
   "outputs": [
    {
     "name": "stdout",
     "output_type": "stream",
     "text": [
      "[[3 3 1]\n",
      " [4 5 2]]\n"
     ]
    }
   ],
   "source": [
    "arr = np.array([[4,3, 2], [3,5, 1]])\n",
    "arr.sort(axis=0)\n",
    "print(arr)"
   ]
  },
  {
   "cell_type": "code",
   "execution_count": null,
   "metadata": {
    "colab": {
     "base_uri": "https://localhost:8080/"
    },
    "id": "MrJryJw_bkHC",
    "outputId": "2f214129-ff94-4ff7-fd73-7114301ec6c6"
   },
   "outputs": [
    {
     "name": "stdout",
     "output_type": "stream",
     "text": [
      "[[4 5 6]\n",
      " [7 8 9]\n",
      " [1 2 3]]\n"
     ]
    }
   ],
   "source": [
    "arr = np.array([[4, 5, 6], [7, 8, 9], [1, 2, 3]])\n",
    "arr.sort(axis=1)\n",
    "print(arr)"
   ]
  },
  {
   "cell_type": "code",
   "execution_count": null,
   "metadata": {
    "colab": {
     "base_uri": "https://localhost:8080/"
    },
    "id": "-kQ_jv4Vdz19",
    "outputId": "e66903d5-8292-4fb5-c7c4-6bda03b2f655"
   },
   "outputs": [
    {
     "name": "stdout",
     "output_type": "stream",
     "text": [
      "[[1 2]\n",
      " [3 4]]\n",
      "\n",
      "(2, 1, 2)\n",
      "\n",
      "[[[1 2]]\n",
      "\n",
      " [[3 4]]]\n"
     ]
    }
   ],
   "source": [
    "\n",
    "a=True,False,None\n",
    "# create a 2D array\n",
    "arr = np.array([[1, 2], [3, 4]])\n",
    "print(arr)\n",
    "print()\n",
    "\n",
    "# add a new dimension at position 1\n",
    "new_arr = np.expand_dims(arr, axis=1)\n",
    "\n",
    "print(new_arr.shape) # prints (2, 1, 2)\n",
    "print()\n",
    "print(new_arr)"
   ]
  },
  {
   "cell_type": "code",
   "execution_count": null,
   "metadata": {
    "colab": {
     "base_uri": "https://localhost:8080/"
    },
    "id": "AxRBf9XweMgJ",
    "outputId": "d02af6ad-8815-4958-c722-d12cadb9e234"
   },
   "outputs": [
    {
     "name": "stdout",
     "output_type": "stream",
     "text": [
      "[[1 2]\n",
      " [3 4]]\n",
      "\n",
      "(2, 1, 2)\n",
      "\n",
      "[[[1 2]]\n",
      "\n",
      " [[3 4]]]\n"
     ]
    }
   ],
   "source": [
    "# create a 2D array\n",
    "arr = np.array([[1, 2], [3, 4]])\n",
    "print(arr)\n",
    "print()\n",
    "\n",
    "# add a new dimension at position 1\n",
    "new_arr = np.expand_dims(arr, 1)\n",
    "\n",
    "print(new_arr.shape) # prints (2, 1, 2)\n",
    "print()\n",
    "print(new_arr)"
   ]
  },
  {
   "cell_type": "code",
   "execution_count": null,
   "metadata": {
    "colab": {
     "base_uri": "https://localhost:8080/"
    },
    "id": "IxkiJ1A1f538",
    "outputId": "9fa1e787-c585-44c8-931d-c0448bb2a532"
   },
   "outputs": [
    {
     "name": "stdout",
     "output_type": "stream",
     "text": [
      "[False  True False  True]\n"
     ]
    }
   ],
   "source": [
    "#isnan\n",
    "a = np.array([1, np.nan, 3, np.nan])\n",
    "result = np.isnan(a)\n",
    "print(result)\n"
   ]
  },
  {
   "cell_type": "code",
   "execution_count": null,
   "metadata": {
    "colab": {
     "base_uri": "https://localhost:8080/"
    },
    "id": "MYx2OuhDgHac",
    "outputId": "2280b1a0-991b-4b52-fac1-600065a3e04b"
   },
   "outputs": [
    {
     "name": "stdout",
     "output_type": "stream",
     "text": [
      "[[False  True False]\n",
      " [False False False]\n",
      " [False  True False]]\n"
     ]
    }
   ],
   "source": [
    "arr = np.array([[4,np.nan , 6], [7, 8, 9], [1, np.nan, 3]])\n",
    "result = np.isnan(arr)\n",
    "print(result)\n"
   ]
  },
  {
   "cell_type": "code",
   "execution_count": null,
   "metadata": {
    "colab": {
     "base_uri": "https://localhost:8080/"
    },
    "id": "Oo4m2LMZhU-F",
    "outputId": "214939a9-a858-41f9-9d05-ea6c90110df6"
   },
   "outputs": [
    {
     "name": "stdout",
     "output_type": "stream",
     "text": [
      "[0 1 2 3 4 5 6 7 8 9]\n",
      "[nan  1.  1.  1.  1.  1.  1.  1.  1.  1.]\n"
     ]
    },
    {
     "name": "stderr",
     "output_type": "stream",
     "text": [
      "<ipython-input-16-128fb25bdcec>:3: RuntimeWarning: invalid value encountered in true_divide\n",
      "  div=arr/arr\n"
     ]
    },
    {
     "data": {
      "text/plain": [
       "array([ True, False, False, False, False, False, False, False, False,\n",
       "       False])"
      ]
     },
     "execution_count": 16,
     "metadata": {},
     "output_type": "execute_result"
    }
   ],
   "source": [
    "arr = np.arange(0,10)\n",
    "print(arr)\n",
    "div=arr/arr\n",
    "print(div)\n",
    "r=np.isnan(div)\n",
    "r"
   ]
  },
  {
   "cell_type": "code",
   "execution_count": null,
   "metadata": {
    "colab": {
     "base_uri": "https://localhost:8080/"
    },
    "id": "tuSBeIO9glup",
    "outputId": "3906e2e8-2c53-4042-f80c-c9db5f4186de"
   },
   "outputs": [
    {
     "data": {
      "text/plain": [
       "array([False, False,  True,  True, False])"
      ]
     },
     "execution_count": 25,
     "metadata": {},
     "output_type": "execute_result"
    }
   ],
   "source": [
    "\n",
    "\n",
    "arr = np.array([1, 2, np.inf, -np.inf, 5])\n",
    "np.isinf(arr)"
   ]
  },
  {
   "cell_type": "code",
   "execution_count": null,
   "metadata": {
    "colab": {
     "base_uri": "https://localhost:8080/"
    },
    "id": "hNa6TnD1h9U_",
    "outputId": "eb9cb0f9-1178-44e2-e035-cd40b6b35f4a"
   },
   "outputs": [
    {
     "name": "stderr",
     "output_type": "stream",
     "text": [
      "<ipython-input-31-5d5f6f348ba9>:2: RuntimeWarning: divide by zero encountered in true_divide\n",
      "  div=1/arr\n"
     ]
    },
    {
     "data": {
      "text/plain": [
       "array([ True, False, False, False, False, False, False, False, False,\n",
       "       False])"
      ]
     },
     "execution_count": 31,
     "metadata": {},
     "output_type": "execute_result"
    }
   ],
   "source": [
    "arr = np.arange(0,10)\n",
    "div=1/arr\n",
    "r=np.isinf(div)\n",
    "r"
   ]
  },
  {
   "cell_type": "code",
   "execution_count": null,
   "metadata": {
    "colab": {
     "base_uri": "https://localhost:8080/"
    },
    "id": "RyeucUp6kHoz",
    "outputId": "13b58033-f86f-47a2-e5ef-f560e9da81ab"
   },
   "outputs": [
    {
     "name": "stdout",
     "output_type": "stream",
     "text": [
      "[ 2.  3.  4. -4.]\n"
     ]
    }
   ],
   "source": [
    "arr = np.array([1.1, 2.5, 3.7, -4.3])\n",
    "ceiled = np.ceil(arr)\n",
    "print(ceiled)"
   ]
  },
  {
   "cell_type": "code",
   "execution_count": null,
   "metadata": {
    "colab": {
     "base_uri": "https://localhost:8080/"
    },
    "id": "rVfxgObakH68",
    "outputId": "26e0a2b8-a51d-45d0-8419-fadf371e7b11"
   },
   "outputs": [
    {
     "name": "stdout",
     "output_type": "stream",
     "text": [
      "[ 1.  2.  3. -5.]\n"
     ]
    }
   ],
   "source": [
    "arr = np.array([1.1, 2.5, 3.7, -4.3])\n",
    "floored = np.floor(arr)\n",
    "print(floored)"
   ]
  },
  {
   "cell_type": "code",
   "execution_count": null,
   "metadata": {
    "colab": {
     "base_uri": "https://localhost:8080/"
    },
    "id": "1xfgxsijkIEf",
    "outputId": "04d31832-ccc1-414b-b8a2-c910aa183851"
   },
   "outputs": [
    {
     "name": "stdout",
     "output_type": "stream",
     "text": [
      "[ 1.22  2.57  3.77 -4.4 ]\n"
     ]
    }
   ],
   "source": [
    "import numpy as np\n",
    "arr = np.array([1.2231, 2.567, 3.7698, -4.3987])\n",
    "rounded = np.round(arr, decimals=2)\n",
    "print(rounded)"
   ]
  },
  {
   "cell_type": "code",
   "execution_count": null,
   "metadata": {
    "colab": {
     "base_uri": "https://localhost:8080/"
    },
    "id": "pYuyBddytB2d",
    "outputId": "1de9d0e5-2411-427a-a5b0-90200cbad1eb"
   },
   "outputs": [
    {
     "name": "stdout",
     "output_type": "stream",
     "text": [
      "True\n",
      "False\n",
      "True\n",
      "False\n"
     ]
    }
   ],
   "source": [
    "import numpy as np\n",
    "\n",
    "# Create an array with some zeros and non-zeros\n",
    "arr = np.array([1, 0, 3, 0, 5])\n",
    "\n",
    "# Check if any elements are non-zero\n",
    "print(np.any(arr))  # True\n",
    "\n",
    "# Check if all elements are non-zero\n",
    "print(np.all(arr))  # False\n",
    "\n",
    "# Create a boolean array\n",
    "bool_arr = np.array([True, True, False, True, False])\n",
    "\n",
    "# Check if any elements are True\n",
    "print(np.any(bool_arr))  # True\n",
    "\n",
    "# Check if all elements are True\n",
    "print(np.all(bool_arr))  # False\n"
   ]
  },
  {
   "cell_type": "code",
   "execution_count": null,
   "metadata": {
    "colab": {
     "base_uri": "https://localhost:8080/"
    },
    "id": "u9e0dUqqqwdF",
    "outputId": "2d1e5467-b54c-494b-f384-797003aa2bcc"
   },
   "outputs": [
    {
     "name": "stdout",
     "output_type": "stream",
     "text": [
      "Original Array:\n",
      " [[4 3 8]\n",
      " [4 5 4]\n",
      " [5 8 8]]\n",
      "First Row:\n",
      " [4 3 8]\n",
      "Last Column:\n",
      " [8 4 8]\n",
      "Middle Element:\n",
      " 5\n",
      "Reshaped 1D:\n",
      " [4 3 8 4 5 4 5 8 8]\n",
      "Reshaped 2D:\n",
      " [[4 3 8]\n",
      " [4 5 4]\n",
      " [5 8 8]]\n",
      "Reshaped 3D:\n",
      " [[[4]\n",
      "  [3]\n",
      "  [8]]\n",
      "\n",
      " [[4]\n",
      "  [5]\n",
      "  [4]]\n",
      "\n",
      " [[5]\n",
      "  [8]\n",
      "  [8]]]\n",
      "Addition:\n",
      " [[ 6  5 10]\n",
      " [ 6  7  6]\n",
      " [ 7 10 10]]\n",
      "Subtraction:\n",
      " [[2 1 6]\n",
      " [2 3 2]\n",
      " [3 6 6]]\n",
      "Multiplication:\n",
      " [[ 8  6 16]\n",
      " [ 8 10  8]\n",
      " [10 16 16]]\n",
      "Division:\n",
      " [[2.  1.5 4. ]\n",
      " [2.  2.5 2. ]\n",
      " [2.5 4.  4. ]]\n",
      "Power:\n",
      " [[16  9 64]\n",
      " [16 25 16]\n",
      " [25 64 64]]\n",
      "Mean: 5.444444444444445\n",
      "Median: 5.0\n",
      "Standard Deviation: 1.892154040658489\n",
      "Variance: 3.580246913580247\n",
      "Sorted Array:\n",
      " [3 4 4 4 5 5 8 8 8]\n",
      "Sum: 49\n",
      "Product: 2457600\n",
      "Minimum Value: 3\n",
      "Maximum Value: 8\n"
     ]
    }
   ],
   "source": [
    "import numpy as np\n",
    "\n",
    "# Creating a 3x3 random matrix\n",
    "arr = np.random.randint(1, 10, (3, 3))\n",
    "print(\"Original Array:\\n\", arr)\n",
    "\n",
    "# Indexing and Slicing\n",
    "print(\"First Row:\\n\", arr[0])\n",
    "print(\"Last Column:\\n\", arr[:, -1])\n",
    "print(\"Middle Element:\\n\", arr[1, 1])\n",
    "\n",
    "# Reshaping\n",
    "arr_1d = arr.reshape(9)\n",
    "arr_2d = arr.reshape(3, -1)\n",
    "arr_3d = arr.reshape(3, 3, 1)\n",
    "print(\"Reshaped 1D:\\n\", arr_1d)\n",
    "print(\"Reshaped 2D:\\n\", arr_2d)\n",
    "print(\"Reshaped 3D:\\n\", arr_3d)\n",
    "\n",
    "# Element-wise Operations\n",
    "arr_add = arr + 2\n",
    "arr_sub = arr - 2\n",
    "arr_mul = arr * 2\n",
    "arr_div = arr / 2\n",
    "arr_pow = arr ** 2\n",
    "print(\"Addition:\\n\", arr_add)\n",
    "print(\"Subtraction:\\n\", arr_sub)\n",
    "print(\"Multiplication:\\n\", arr_mul)\n",
    "print(\"Division:\\n\", arr_div)\n",
    "print(\"Power:\\n\", arr_pow)\n",
    "\n",
    "# Statistical Functions\n",
    "mean = np.mean(arr)\n",
    "median = np.median(arr)\n",
    "std_dev = np.std(arr)\n",
    "var = np.var(arr)\n",
    "print(\"Mean:\", mean)\n",
    "print(\"Median:\", median)\n",
    "print(\"Standard Deviation:\", std_dev)\n",
    "print(\"Variance:\", var)\n",
    "\n",
    "# Sorting\n",
    "arr_sorted = np.sort(arr, axis=None)\n",
    "print(\"Sorted Array:\\n\", arr_sorted)\n",
    "\n",
    "# Other Functions\n",
    "arr_sum = np.sum(arr)\n",
    "arr_prod = np.prod(arr)\n",
    "arr_min = np.min(arr)\n",
    "arr_max = np.max(arr)\n",
    "print(\"Sum:\", arr_sum)\n",
    "print(\"Product:\", arr_prod)\n",
    "print(\"Minimum Value:\", arr_min)\n",
    "print(\"Maximum Value:\", arr_max)\n"
   ]
  },
  {
   "cell_type": "markdown",
   "metadata": {
    "id": "SBdOediorEyd"
   },
   "source": [
    "Some of the most frequently used functions in numpy are:\n",
    "\n",
    "1.np.array(): to create numpy arrays from Python lists or other sequences.\n",
    "\n",
    "2.np.arange(): to create an array with regularly spaced values.\n",
    "\n",
    "3.np.zeros(): to create an array of all zeros.\n",
    "\n",
    "4.np.ones(): to create an array of all ones.\n",
    "\n",
    "5.np.linspace(): to create an array of evenly spaced values between two endpoints.\n",
    "\n",
    "6.np.random.rand(): to generate an array of random numbers between 0 and 1.\n",
    "\n",
    "7.np.random.randn(): to generate an array of random numbers from a standard normal distribution.\n",
    "\n",
    "8.np.min(): to find the minimum value in an array.\n",
    "\n",
    "9.np.max(): to find the maximum value in an array.\n",
    "\n",
    "10.np.mean(): to find the mean of an array.\n",
    "\n",
    "11.np.median(): to find the median of an array.\n",
    "\n",
    "12.np.sum(): to find the sum of an array.\n",
    "\n",
    "13.np.prod(): to find the product of an array.\n",
    "\n",
    "14.np.transpose(): to transpose an array.\n",
    "\n",
    "15.np.dot(): to perform dot product of two arrays.\n",
    "\n",
    "16.np.linalg.inv(): to find the inverse of a matrix.\n",
    "\n",
    "17.np.linalg.det(): to find the determinant of a matrix.\n",
    "\n",
    "18.np.where(): to find the indices where a condition is true in an array.\n",
    "\n",
    "\n",
    "\n"
   ]
  },
  {
   "cell_type": "code",
   "execution_count": null,
   "metadata": {
    "colab": {
     "base_uri": "https://localhost:8080/"
    },
    "id": "CsEuXw0djOlL",
    "outputId": "e95c829c-4c55-4187-8555-75cc27083577"
   },
   "outputs": [
    {
     "name": "stdout",
     "output_type": "stream",
     "text": [
      "[1 2 3 4]\n"
     ]
    }
   ],
   "source": [
    "import numpy as np\n",
    "\n",
    "# create an input array\n",
    "x = np.array([1.2, 2.4, 3.6, 4.8])\n",
    "\n",
    "# create a sequence of scalars as bins\n",
    "bins = [1, 2, 3, 4, 5]\n",
    "\n",
    "# use digitize to get the indices of the bins to which each value belongs\n",
    "result = np.digitize(x, bins)\n",
    "\n",
    "# print the result\n",
    "print(result)"
   ]
  },
  {
   "cell_type": "code",
   "execution_count": null,
   "metadata": {
    "id": "fJ1FRHJnkF4c"
   },
   "outputs": [],
   "source": []
  }
 ],
 "metadata": {
  "colab": {
   "provenance": []
  },
  "kernelspec": {
   "display_name": "Python 3 (ipykernel)",
   "language": "python",
   "name": "python3"
  },
  "language_info": {
   "codemirror_mode": {
    "name": "ipython",
    "version": 3
   },
   "file_extension": ".py",
   "mimetype": "text/x-python",
   "name": "python",
   "nbconvert_exporter": "python",
   "pygments_lexer": "ipython3",
   "version": "3.9.13"
  }
 },
 "nbformat": 4,
 "nbformat_minor": 1
}
