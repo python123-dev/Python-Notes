{
 "cells": [
  {
   "cell_type": "code",
   "execution_count": 3,
   "id": "98e606f2",
   "metadata": {},
   "outputs": [],
   "source": [
    "#User defined function\n",
    "def number():\n",
    "    print('hello')\n",
    "    \n"
   ]
  },
  {
   "cell_type": "code",
   "execution_count": 4,
   "id": "d63cf270",
   "metadata": {},
   "outputs": [
    {
     "name": "stdout",
     "output_type": "stream",
     "text": [
      "hello\n"
     ]
    }
   ],
   "source": [
    "number()"
   ]
  },
  {
   "cell_type": "code",
   "execution_count": 5,
   "id": "e0673219",
   "metadata": {},
   "outputs": [
    {
     "name": "stdout",
     "output_type": "stream",
     "text": [
      "hello\n",
      "hello\n",
      "hello\n",
      "hello\n",
      "hello\n"
     ]
    }
   ],
   "source": [
    "for i in range(5):\n",
    "    number()"
   ]
  },
  {
   "cell_type": "code",
   "execution_count": 6,
   "id": "e4823995",
   "metadata": {},
   "outputs": [],
   "source": [
    "#return"
   ]
  },
  {
   "cell_type": "code",
   "execution_count": 8,
   "id": "8786aaa2",
   "metadata": {},
   "outputs": [],
   "source": [
    "def add():\n",
    "    a=10\n",
    "    b=20\n",
    "    c=a+b\n",
    "    return c"
   ]
  },
  {
   "cell_type": "code",
   "execution_count": 10,
   "id": "54f6d620",
   "metadata": {},
   "outputs": [
    {
     "name": "stdout",
     "output_type": "stream",
     "text": [
      "30\n"
     ]
    }
   ],
   "source": [
    "v=add()\n",
    "print(v)"
   ]
  },
  {
   "cell_type": "code",
   "execution_count": 12,
   "id": "1f6d2044",
   "metadata": {},
   "outputs": [],
   "source": [
    "#function with parameter with return type\n",
    "\n",
    "def even_odd(num):\n",
    "    if num%2==0:\n",
    "        return 'even'\n",
    "    else:\n",
    "        return 'odd'"
   ]
  },
  {
   "cell_type": "code",
   "execution_count": 14,
   "id": "4e1ee4f1",
   "metadata": {},
   "outputs": [
    {
     "name": "stdout",
     "output_type": "stream",
     "text": [
      "odd\n"
     ]
    }
   ],
   "source": [
    "out=even_odd(5)\n",
    "print(out)"
   ]
  },
  {
   "cell_type": "code",
   "execution_count": 18,
   "id": "7d2824a0",
   "metadata": {},
   "outputs": [],
   "source": [
    "#function without parameter without return type\n",
    "\n",
    "def even_odd():\n",
    "    num=int(input('enter a num'))\n",
    "    if num%2==0:\n",
    "        print('even')\n",
    "    else:\n",
    "        print('odd')"
   ]
  },
  {
   "cell_type": "code",
   "execution_count": 21,
   "id": "a670d63d",
   "metadata": {},
   "outputs": [
    {
     "name": "stdout",
     "output_type": "stream",
     "text": [
      "enter a num12\n",
      "even\n",
      "None\n"
     ]
    }
   ],
   "source": [
    "out=even_odd()\n",
    "print(out)"
   ]
  },
  {
   "cell_type": "code",
   "execution_count": 22,
   "id": "6fd4eefa",
   "metadata": {},
   "outputs": [],
   "source": [
    "#function without parameter with return type\n",
    "\n",
    "def even_odd():\n",
    "    num=int(input('enter a num'))\n",
    "    if num%2==0:\n",
    "        return 'even'\n",
    "    else:\n",
    "        return 'odd'"
   ]
  },
  {
   "cell_type": "code",
   "execution_count": 23,
   "id": "bcf9e6cf",
   "metadata": {},
   "outputs": [
    {
     "name": "stdout",
     "output_type": "stream",
     "text": [
      "enter a num123\n",
      "odd\n"
     ]
    }
   ],
   "source": [
    "out=even_odd()\n",
    "print(out)"
   ]
  },
  {
   "cell_type": "code",
   "execution_count": 24,
   "id": "a6c86f00",
   "metadata": {},
   "outputs": [],
   "source": [
    "def data(name,age):\n",
    "    print(f'my name is {name} and iam {age}')"
   ]
  },
  {
   "cell_type": "code",
   "execution_count": 27,
   "id": "5a3e8e61",
   "metadata": {},
   "outputs": [
    {
     "name": "stdout",
     "output_type": "stream",
     "text": [
      "my name is abc and iam 22\n"
     ]
    }
   ],
   "source": [
    "data('abc',22) #default arguments"
   ]
  },
  {
   "cell_type": "code",
   "execution_count": 28,
   "id": "99464014",
   "metadata": {},
   "outputs": [
    {
     "name": "stdout",
     "output_type": "stream",
     "text": [
      "my name is xyz and iam 22\n"
     ]
    }
   ],
   "source": [
    "data(age=22,name='xyz') #keywords"
   ]
  },
  {
   "cell_type": "code",
   "execution_count": null,
   "id": "1df42d37",
   "metadata": {},
   "outputs": [],
   "source": [
    "#variable length args"
   ]
  },
  {
   "cell_type": "code",
   "execution_count": 36,
   "id": "2b53a6ca",
   "metadata": {},
   "outputs": [],
   "source": [
    "def nums(one,two,*a):\n",
    "    print(one,two)\n",
    "    print(a)"
   ]
  },
  {
   "cell_type": "code",
   "execution_count": 39,
   "id": "50d6fef0",
   "metadata": {},
   "outputs": [
    {
     "name": "stdout",
     "output_type": "stream",
     "text": [
      "1 2\n",
      "('num', 'even', 999)\n"
     ]
    }
   ],
   "source": [
    "nums(1,2,'num','even',999)"
   ]
  },
  {
   "cell_type": "code",
   "execution_count": 40,
   "id": "d72f9bcb",
   "metadata": {},
   "outputs": [],
   "source": [
    "#** variable length keyword args (**kwargs)"
   ]
  },
  {
   "cell_type": "code",
   "execution_count": 41,
   "id": "fc4daf18",
   "metadata": {},
   "outputs": [],
   "source": [
    "def data(**k):\n",
    "    print(k)"
   ]
  },
  {
   "cell_type": "code",
   "execution_count": 42,
   "id": "202da35a",
   "metadata": {},
   "outputs": [
    {
     "name": "stdout",
     "output_type": "stream",
     "text": [
      "{'name': 'abc', 'age': 22}\n"
     ]
    }
   ],
   "source": [
    "data(name='abc',age=22)"
   ]
  },
  {
   "cell_type": "code",
   "execution_count": null,
   "id": "41219aa8",
   "metadata": {},
   "outputs": [],
   "source": []
  },
  {
   "cell_type": "code",
   "execution_count": 3,
   "id": "204885f8",
   "metadata": {},
   "outputs": [],
   "source": [
    "#generator function\n",
    "\n",
    "def numbers(num):\n",
    "    for i in range(num):\n",
    "        yield i\n",
    "    \n",
    "    "
   ]
  },
  {
   "cell_type": "code",
   "execution_count": 5,
   "id": "a4cf43d1",
   "metadata": {},
   "outputs": [
    {
     "name": "stdout",
     "output_type": "stream",
     "text": [
      "<generator object numbers at 0x000001934F593F20>\n",
      "(0, 1, 2, 3, 4)\n"
     ]
    }
   ],
   "source": [
    "o=numbers(5)\n",
    "print(o)\n",
    "print(tuple(o))"
   ]
  },
  {
   "cell_type": "code",
   "execution_count": 57,
   "id": "4497138f",
   "metadata": {},
   "outputs": [
    {
     "name": "stdout",
     "output_type": "stream",
     "text": [
      "30\n",
      "99\n"
     ]
    }
   ],
   "source": [
    "#local and global\n",
    "\n",
    "x=10\n",
    "x=30\n",
    "def num():\n",
    "    x=20\n",
    "    x=99\n",
    "    print(x)\n",
    "    \n",
    "print(x)\n",
    "num()"
   ]
  },
  {
   "cell_type": "code",
   "execution_count": null,
   "id": "1748fba9",
   "metadata": {},
   "outputs": [],
   "source": []
  },
  {
   "cell_type": "code",
   "execution_count": null,
   "id": "92495311",
   "metadata": {},
   "outputs": [],
   "source": []
  },
  {
   "cell_type": "code",
   "execution_count": null,
   "id": "837b6329",
   "metadata": {},
   "outputs": [],
   "source": []
  },
  {
   "cell_type": "code",
   "execution_count": null,
   "id": "3d6d64b9",
   "metadata": {},
   "outputs": [],
   "source": []
  },
  {
   "cell_type": "code",
   "execution_count": null,
   "id": "0905fcbc",
   "metadata": {},
   "outputs": [],
   "source": []
  },
  {
   "cell_type": "code",
   "execution_count": null,
   "id": "58c0cd37",
   "metadata": {},
   "outputs": [],
   "source": []
  },
  {
   "cell_type": "code",
   "execution_count": null,
   "id": "5d51cc15",
   "metadata": {},
   "outputs": [],
   "source": []
  },
  {
   "cell_type": "code",
   "execution_count": null,
   "id": "e714f0b1",
   "metadata": {},
   "outputs": [],
   "source": []
  },
  {
   "cell_type": "code",
   "execution_count": null,
   "id": "4e33010b",
   "metadata": {},
   "outputs": [],
   "source": []
  },
  {
   "cell_type": "code",
   "execution_count": null,
   "id": "ac3788b8",
   "metadata": {},
   "outputs": [],
   "source": []
  },
  {
   "cell_type": "code",
   "execution_count": 45,
   "id": "688db637",
   "metadata": {},
   "outputs": [
    {
     "name": "stdout",
     "output_type": "stream",
     "text": [
      "Hey! python\n",
      "Hey!\n"
     ]
    }
   ],
   "source": [
    "# Python program to illustrate\n",
    "# nested functions\n",
    "def outerFunction(text):\n",
    "    print(text+\" \"+'python')\n",
    "\n",
    "    def innerFunction():\n",
    "        print(text)\n",
    "\n",
    "    innerFunction()\n",
    "\n",
    "\n",
    "\n",
    "outerFunction('Hey!')\n"
   ]
  },
  {
   "cell_type": "code",
   "execution_count": 59,
   "id": "4bc20b9c",
   "metadata": {},
   "outputs": [
    {
     "name": "stdout",
     "output_type": "stream",
     "text": [
      "3\n",
      "5\n",
      "7\n",
      "3\n"
     ]
    }
   ],
   "source": [
    "def calculate():\n",
    "    num = 1\n",
    "    def inner_func():\n",
    "        nonlocal num\n",
    "        num += 2\n",
    "        return num\n",
    "    return inner_func\n",
    "\n",
    "# call the outer function\n",
    "odd = calculate()\n",
    "\n",
    "# call the inner function\n",
    "print(odd())\n",
    "print(odd())\n",
    "print(odd())\n",
    "\n",
    "# call the outer function again\n",
    "odd2 = calculate()\n",
    "print(odd2())"
   ]
  },
  {
   "cell_type": "code",
   "execution_count": 6,
   "id": "9403a1a2",
   "metadata": {},
   "outputs": [
    {
     "name": "stdout",
     "output_type": "stream",
     "text": [
      "Something before the function.\n",
      "Hello!\n",
      "Something after the function.\n",
      "Hello!\n"
     ]
    }
   ],
   "source": [
    "def my_decorator(func):\n",
    "    def wrapper():\n",
    "        print(\"Something before the function.\")\n",
    "        func()\n",
    "        print(\"Something after the function.\")\n",
    "        func()\n",
    "    return wrapper\n",
    "\n",
    "# Applying the decorator\n",
    "@my_decorator\n",
    "def say_hello():\n",
    "    print(\"Hello!\")\n",
    "\n",
    "say_hello()"
   ]
  },
  {
   "cell_type": "code",
   "execution_count": 6,
   "id": "29cd4848",
   "metadata": {},
   "outputs": [
    {
     "name": "stdout",
     "output_type": "stream",
     "text": [
      "5\n",
      "-4\n",
      "25\n"
     ]
    }
   ],
   "source": [
    "o=lambda x,y,op:(lambda a,b:a+b if op=='add' else\n",
    "                            a-b if op=='sub' else\n",
    "                            a*b if op=='mul' else\n",
    "                            None)(x,y)\n",
    "\n",
    "print(o(2,3,'add'))\n",
    "print(o(4,8,'sub'))\n",
    "print(o(5,5,'mul'))"
   ]
  },
  {
   "cell_type": "code",
   "execution_count": 7,
   "id": "c373692e",
   "metadata": {},
   "outputs": [
    {
     "name": "stdout",
     "output_type": "stream",
     "text": [
      "10 X 1 = 10\n",
      "10 X 2 = 20\n",
      "10 X 3 = 30\n",
      "10 X 4 = 40\n",
      "10 X 5 = 50\n",
      "10 X 6 = 60\n",
      "10 X 7 = 70\n",
      "10 X 8 = 80\n",
      "10 X 9 = 90\n",
      "10 X 10 = 100\n"
     ]
    }
   ],
   "source": [
    "n=10\n",
    "for i in range(1,11):\n",
    "    print(f'{n} X {i} = {n*i}')"
   ]
  },
  {
   "cell_type": "code",
   "execution_count": 9,
   "id": "04bbbcbc",
   "metadata": {},
   "outputs": [
    {
     "name": "stdout",
     "output_type": "stream",
     "text": [
      "8 X 1 = 8\n",
      "8 X 2 = 16\n",
      "8 X 3 = 24\n",
      "8 X 4 = 32\n",
      "8 X 5 = 40\n",
      "8 X 6 = 48\n",
      "8 X 7 = 56\n",
      "8 X 8 = 64\n",
      "8 X 9 = 72\n",
      "8 X 10 = 80\n"
     ]
    },
    {
     "data": {
      "text/plain": [
       "[None, None, None, None, None, None, None, None, None, None]"
      ]
     },
     "execution_count": 9,
     "metadata": {},
     "output_type": "execute_result"
    }
   ],
   "source": [
    "out=lambda n:[print(f'{n} X {i} = {n*i}') for i in range(1,11) ]\n",
    "out(8)"
   ]
  },
  {
   "cell_type": "code",
   "execution_count": 10,
   "id": "da579c58",
   "metadata": {},
   "outputs": [
    {
     "name": "stdout",
     "output_type": "stream",
     "text": [
      "28.259999999999998\n",
      "50.24\n",
      "78.5\n",
      "113.03999999999999\n",
      "153.86\n",
      "153.86\n"
     ]
    }
   ],
   "source": [
    "l=[3,4,5,6,7,7]\n",
    "\n",
    "\n",
    "for r in l:\n",
    "    o=lambda i:3.14*i*i\n",
    "    print(o(r))"
   ]
  },
  {
   "cell_type": "code",
   "execution_count": 15,
   "id": "961399a4",
   "metadata": {},
   "outputs": [
    {
     "name": "stdout",
     "output_type": "stream",
     "text": [
      "[3.14, 12.56, 3846.5, 153.86, 200.96]\n"
     ]
    }
   ],
   "source": [
    "#map()\n",
    "\n",
    "l=[1,2,35,7,8]\n",
    "o=list(map(lambda r:3.14*r*r,l))\n",
    "print(o)"
   ]
  },
  {
   "cell_type": "code",
   "execution_count": 17,
   "id": "8370b114",
   "metadata": {},
   "outputs": [],
   "source": [
    "def area(r):\n",
    "    a=3.14*r*r\n",
    "    return a"
   ]
  },
  {
   "cell_type": "code",
   "execution_count": 19,
   "id": "2583e8b5",
   "metadata": {},
   "outputs": [
    {
     "name": "stdout",
     "output_type": "stream",
     "text": [
      "[3.14, 12.56, 3846.5, 153.86, 200.96]\n"
     ]
    }
   ],
   "source": [
    "o=list(map(area,l))\n",
    "print(o)"
   ]
  },
  {
   "cell_type": "code",
   "execution_count": null,
   "id": "b5d0452a",
   "metadata": {},
   "outputs": [],
   "source": [
    "f=[99.1,101.5,88,103]"
   ]
  },
  {
   "cell_type": "code",
   "execution_count": null,
   "id": "0ce0ac09",
   "metadata": {},
   "outputs": [],
   "source": [
    "#sort a dict by values\n",
    "d={'A':30,'B':25,'c':35,'D':28}"
   ]
  },
  {
   "cell_type": "code",
   "execution_count": 2,
   "id": "6858cbf5",
   "metadata": {},
   "outputs": [
    {
     "name": "stdout",
     "output_type": "stream",
     "text": [
      "<class 'numpy.ndarray'>\n",
      "(200, 200, 4)\n",
      "[[[233 233 233 229]\n",
      "  [233 233 233 242]\n",
      "  [233 233 233 242]\n",
      "  ...\n",
      "  [233 233 233 242]\n",
      "  [233 233 233 242]\n",
      "  [233 233 233 229]]\n",
      "\n",
      " [[233 233 233 255]\n",
      "  [233 233 233 255]\n",
      "  [233 233 233 255]\n",
      "  ...\n",
      "  [233 233 233 255]\n",
      "  [233 233 233 255]\n",
      "  [233 233 233 255]]\n",
      "\n",
      " [[233 233 233 242]\n",
      "  [233 233 233 255]\n",
      "  [233 233 233 255]\n",
      "  ...\n",
      "  [233 233 233 255]\n",
      "  [233 233 233 255]\n",
      "  [233 233 233 242]]\n",
      "\n",
      " ...\n",
      "\n",
      " [[233 233 233 242]\n",
      "  [233 233 233 255]\n",
      "  [233 233 233 255]\n",
      "  ...\n",
      "  [233 233 233 255]\n",
      "  [233 233 233 255]\n",
      "  [233 233 233 242]]\n",
      "\n",
      " [[233 233 233 255]\n",
      "  [233 233 233 255]\n",
      "  [233 233 233 255]\n",
      "  ...\n",
      "  [233 233 233 255]\n",
      "  [233 233 233 255]\n",
      "  [233 233 233 255]]\n",
      "\n",
      " [[233 233 233 229]\n",
      "  [233 233 233 242]\n",
      "  [233 233 233 242]\n",
      "  ...\n",
      "  [233 233 233 242]\n",
      "  [233 233 233 242]\n",
      "  [233 233 233 229]]]\n"
     ]
    }
   ],
   "source": [
    "# Import the necessary libraries\n",
    "from PIL import Image\n",
    "from numpy import asarray\n",
    "\n",
    "\n",
    "# load the image and convert into\n",
    "# numpy array\n",
    "img = Image.open('sample.png')\n",
    "\n",
    "# asarray() class is used to convert\n",
    "# PIL images into NumPy arrays\n",
    "numpydata = asarray(img)\n",
    "\n",
    "# <class 'numpy.ndarray'>\n",
    "print(type(numpydata))\n",
    "\n",
    "# shape\n",
    "print(numpydata.shape)\n",
    "\n",
    "print(numpydata)\n"
   ]
  },
  {
   "cell_type": "code",
   "execution_count": 1,
   "id": "8c175a17",
   "metadata": {},
   "outputs": [],
   "source": [
    "from PIL import Image\n",
    "import numpy as np\n",
    "\n",
    "# Load image and convert to NumPy array\n",
    "img = Image.open('sample.png')\n",
    "img_array = np.array(img)\n",
    "img.show()"
   ]
  },
  {
   "cell_type": "code",
   "execution_count": 3,
   "id": "9ccb1278",
   "metadata": {},
   "outputs": [],
   "source": [
    "# Calculate the grayscale value by averaging the RGB channels\n",
    "gray_image = img_array.mean(axis=2).astype(np.uint8)\n",
    "\n",
    "# Convert back to an image for viewing\n",
    "gray_img = Image.fromarray(gray_image)\n",
    "gray_img.show()  # This opens the grayscale image\n"
   ]
  },
  {
   "cell_type": "code",
   "execution_count": 4,
   "id": "221a264b",
   "metadata": {},
   "outputs": [],
   "source": [
    "# Horizontal flip\n",
    "#flipped_horizontal = img_array[:, ::-1, :]\n",
    "\n",
    "# Vertical flip\n",
    "flipped_vertical = img_array[::-1, :, :]\n",
    "\n",
    "# Show flipped images\n",
    "#Image.fromarray(flipped_horizontal).show()  # Horizontal flip\n",
    "Image.fromarray(flipped_vertical).show()    # Vertical flip\n"
   ]
  },
  {
   "cell_type": "code",
   "execution_count": 5,
   "id": "bee2fc65",
   "metadata": {},
   "outputs": [],
   "source": [
    "# Rotate image 90 degrees\n",
    "rotated_image = np.rot90(img_array)\n",
    "\n",
    "# Show the rotated image\n",
    "Image.fromarray(rotated_image).show()\n"
   ]
  },
  {
   "cell_type": "code",
   "execution_count": 6,
   "id": "d063b8e5",
   "metadata": {},
   "outputs": [],
   "source": [
    "# Define a simple 3x3 mean filter\n",
    "kernel = np.ones((3, 3)) / 9\n",
    "\n",
    "# Pad the image to handle borders\n",
    "padded_img = np.pad(img_array, ((1, 1), (1, 1), (0, 0)), mode='edge')\n",
    "\n",
    "# Apply mean filter to each channel\n",
    "blurred_img = np.zeros_like(img_array)\n",
    "for channel in range(3):  # For each color channel\n",
    "    for i in range(img_array.shape[0]):\n",
    "        for j in range(img_array.shape[1]):\n",
    "            blurred_img[i, j, channel] = (padded_img[i:i+3, j:j+3, channel] * kernel).sum()\n",
    "\n",
    "# Show the blurred image\n",
    "Image.fromarray(blurred_img).show()\n"
   ]
  },
  {
   "cell_type": "code",
   "execution_count": 7,
   "id": "9e9d2b2c",
   "metadata": {},
   "outputs": [],
   "source": [
    "# Convert to grayscale\n",
    "gray_image = img_array.mean(axis=2).astype(np.uint8)\n",
    "\n",
    "# Increase brightness\n",
    "brightened_image = np.clip(gray_image * 1.3, 0, 255).astype(np.uint8)\n",
    "\n",
    "# Horizontal flip\n",
    "flipped_image = brightened_image[:, ::-1]\n",
    "\n",
    "# Show the final processed image\n",
    "\n",
    "Image.fromarray(flipped_image).show()\n"
   ]
  },
  {
   "cell_type": "code",
   "execution_count": null,
   "id": "0040e3f0",
   "metadata": {},
   "outputs": [],
   "source": []
  }
 ],
 "metadata": {
  "kernelspec": {
   "display_name": "Python 3 (ipykernel)",
   "language": "python",
   "name": "python3"
  },
  "language_info": {
   "codemirror_mode": {
    "name": "ipython",
    "version": 3
   },
   "file_extension": ".py",
   "mimetype": "text/x-python",
   "name": "python",
   "nbconvert_exporter": "python",
   "pygments_lexer": "ipython3",
   "version": "3.9.13"
  }
 },
 "nbformat": 4,
 "nbformat_minor": 5
}
