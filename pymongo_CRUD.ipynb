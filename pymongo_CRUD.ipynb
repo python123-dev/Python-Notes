{
 "cells": [
  {
   "cell_type": "code",
   "execution_count": 1,
   "id": "aa0e49fd",
   "metadata": {},
   "outputs": [
    {
     "name": "stdout",
     "output_type": "stream",
     "text": [
      "Collecting pymongo\n",
      "  Downloading pymongo-4.10.1-cp39-cp39-win_amd64.whl (777 kB)\n",
      "     -------------------------------------- 777.1/777.1 kB 4.9 MB/s eta 0:00:00\n",
      "Collecting dnspython<3.0.0,>=1.16.0\n",
      "  Downloading dnspython-2.7.0-py3-none-any.whl (313 kB)\n",
      "     ------------------------------------- 313.6/313.6 kB 19.0 MB/s eta 0:00:00\n",
      "Installing collected packages: dnspython, pymongo\n",
      "Successfully installed dnspython-2.7.0 pymongo-4.10.1\n",
      "Note: you may need to restart the kernel to use updated packages.\n"
     ]
    }
   ],
   "source": [
    "pip install pymongo"
   ]
  },
  {
   "cell_type": "code",
   "execution_count": null,
   "id": "f3bf98f9",
   "metadata": {},
   "outputs": [],
   "source": [
    "# Operation-------------Method--------------------------Description\n",
    "# Create-----insert_one(), insert_many()---Adds new documents to the collection\n",
    "# Read-------find_one(), find()------------Retrieves documents from the collection\n",
    "# Update----update_one(), update_many()----Modifies documents in the collection\n",
    "# Delete----delete_one(), delete_many()----Removes documents from the collection"
   ]
  },
  {
   "cell_type": "code",
   "execution_count": 17,
   "id": "29560555",
   "metadata": {},
   "outputs": [],
   "source": [
    "from pymongo import MongoClient\n",
    "\n",
    "# Connect to MongoDB (default: localhost:27017)\n",
    "client = MongoClient('mongodb://localhost:27017/')\n",
    "\n",
    "# Specify the database and collection\n",
    "db = client['mydb']\n",
    "collection = db['emp_data']"
   ]
  },
  {
   "cell_type": "code",
   "execution_count": 3,
   "id": "be94350f",
   "metadata": {},
   "outputs": [
    {
     "name": "stdout",
     "output_type": "stream",
     "text": [
      "Inserted document ID: 6702405b88bf509eef1777da\n"
     ]
    }
   ],
   "source": [
    "# Insert a single document\n",
    "document = {\n",
    "    \"name\": \"Alice\",\n",
    "    \"age\": 30,\n",
    "    \"city\": \"New York\"\n",
    "}\n",
    "\n",
    "result = collection.insert_one(document)\n",
    "print(f\"Inserted document ID: {result.inserted_id}\")\n"
   ]
  },
  {
   "cell_type": "code",
   "execution_count": 4,
   "id": "6cd95b01",
   "metadata": {},
   "outputs": [
    {
     "name": "stdout",
     "output_type": "stream",
     "text": [
      "Inserted document IDs: [ObjectId('670240a188bf509eef1777db'), ObjectId('670240a188bf509eef1777dc')]\n"
     ]
    }
   ],
   "source": [
    "# Insert multiple documents\n",
    "documents = [\n",
    "    {\"name\": \"Bob\", \"age\": 25, \"city\": \"Chicago\"},\n",
    "    {\"name\": \"Charlie\", \"age\": 35, \"city\": \"San Francisco\"}\n",
    "]\n",
    "\n",
    "result = collection.insert_many(documents)\n",
    "print(f\"Inserted document IDs: {result.inserted_ids}\")\n"
   ]
  },
  {
   "cell_type": "code",
   "execution_count": 5,
   "id": "2201ed33",
   "metadata": {},
   "outputs": [
    {
     "name": "stdout",
     "output_type": "stream",
     "text": [
      "{'_id': ObjectId('6702405b88bf509eef1777da'), 'name': 'Alice', 'age': 30, 'city': 'New York'}\n"
     ]
    }
   ],
   "source": [
    "# Find one document with specific criteria\n",
    "document = collection.find_one({\"name\": \"Alice\"})\n",
    "print(document)\n"
   ]
  },
  {
   "cell_type": "code",
   "execution_count": 6,
   "id": "d0209afd",
   "metadata": {},
   "outputs": [
    {
     "name": "stdout",
     "output_type": "stream",
     "text": [
      "{'_id': ObjectId('6702405b88bf509eef1777da'), 'name': 'Alice', 'age': 30, 'city': 'New York'}\n",
      "{'_id': ObjectId('670240a188bf509eef1777db'), 'name': 'Bob', 'age': 25, 'city': 'Chicago'}\n",
      "{'_id': ObjectId('670240a188bf509eef1777dc'), 'name': 'Charlie', 'age': 35, 'city': 'San Francisco'}\n"
     ]
    }
   ],
   "source": [
    "# Find all documents in the collection\n",
    "documents = collection.find()\n",
    "for doc in documents:\n",
    "    print(doc)\n"
   ]
  },
  {
   "cell_type": "code",
   "execution_count": 8,
   "id": "6ce4d91e",
   "metadata": {},
   "outputs": [
    {
     "name": "stdout",
     "output_type": "stream",
     "text": [
      "{'_id': ObjectId('6702405b88bf509eef1777da'), 'name': 'Alice', 'age': 30, 'city': 'New York'}\n",
      "{'_id': ObjectId('670240a188bf509eef1777dc'), 'name': 'Charlie', 'age': 35, 'city': 'San Francisco'}\n"
     ]
    }
   ],
   "source": [
    "# Find documents where age > 30\n",
    "query = {\"age\": {\"$gte\": 30}}#$gt-greaterthan\n",
    "documents = collection.find(query)\n",
    "for doc in documents:\n",
    "    print(doc)\n"
   ]
  },
  {
   "cell_type": "code",
   "execution_count": 9,
   "id": "f2d2968e",
   "metadata": {},
   "outputs": [
    {
     "name": "stdout",
     "output_type": "stream",
     "text": [
      "Modified documents count: 1\n"
     ]
    }
   ],
   "source": [
    "# Update a single document\n",
    "query = {\"name\": \"Alice\"}\n",
    "new_values = {\"$set\": {\"age\": 31}}\n",
    "\n",
    "result = collection.update_one(query, new_values)\n",
    "print(f\"Modified documents count: {result.modified_count}\")\n"
   ]
  },
  {
   "cell_type": "code",
   "execution_count": 10,
   "id": "e23d7a06",
   "metadata": {},
   "outputs": [
    {
     "name": "stdout",
     "output_type": "stream",
     "text": [
      "Modified documents count: 2\n"
     ]
    }
   ],
   "source": [
    "# Update all documents where age is greater than 30\n",
    "query = {\"age\": {\"$gt\": 30}}\n",
    "new_values = {\"$set\": {\"city\": \"Updated City\"}}\n",
    "\n",
    "result = collection.update_many(query, new_values)\n",
    "print(f\"Modified documents count: {result.modified_count}\")\n"
   ]
  },
  {
   "cell_type": "code",
   "execution_count": 13,
   "id": "97de76e7",
   "metadata": {},
   "outputs": [
    {
     "name": "stdout",
     "output_type": "stream",
     "text": [
      "Deleted documents count: 0\n"
     ]
    }
   ],
   "source": [
    "# Delete a single document\n",
    "query = {\"name\": \"Alice\"}\n",
    "\n",
    "result = collection.delete_one(query)\n",
    "print(f\"Deleted documents count: {result.deleted_count}\")\n"
   ]
  },
  {
   "cell_type": "code",
   "execution_count": 14,
   "id": "8bb1aa3b",
   "metadata": {},
   "outputs": [
    {
     "name": "stdout",
     "output_type": "stream",
     "text": [
      "Number of documents with city as 'Updated City': 1\n"
     ]
    }
   ],
   "source": [
    "# Count documents where city is \"Updated City\"\n",
    "count = collection.count_documents({\"city\": \"Updated City\"})\n",
    "print(f\"Number of documents with city as 'Updated City': {count}\")\n"
   ]
  },
  {
   "cell_type": "code",
   "execution_count": 18,
   "id": "8629d053",
   "metadata": {},
   "outputs": [
    {
     "name": "stdout",
     "output_type": "stream",
     "text": [
      "Inserted document IDs: [ObjectId('6702770b88bf509eef1777df'), ObjectId('6702770b88bf509eef1777e0'), ObjectId('6702770b88bf509eef1777e1'), ObjectId('6702770b88bf509eef1777e2'), ObjectId('6702770b88bf509eef1777e3'), ObjectId('6702770b88bf509eef1777e4'), ObjectId('6702770b88bf509eef1777e5'), ObjectId('6702770b88bf509eef1777e6'), ObjectId('6702770b88bf509eef1777e7'), ObjectId('6702770b88bf509eef1777e8'), ObjectId('6702770b88bf509eef1777e9'), ObjectId('6702770b88bf509eef1777ea'), ObjectId('6702770b88bf509eef1777eb'), ObjectId('6702770b88bf509eef1777ec'), ObjectId('6702770b88bf509eef1777ed')]\n"
     ]
    }
   ],
   "source": [
    "# Insert multiple documents\n",
    "data = [\n",
    "    {\"name\": \"Alice\", \"age\": 30, \"city\": \"New York\", \"hobbies\": [\"reading\", \"sports\"], \"salary\": 70000},\n",
    "    {\"name\": \"Bob\", \"age\": 25, \"city\": \"Chicago\", \"hobbies\": [\"music\", \"travel\"], \"salary\": 52000},\n",
    "    {\"name\": \"Charlie\", \"age\": 35, \"city\": \"San Francisco\", \"hobbies\": [\"sports\", \"technology\"], \"salary\": 88000},\n",
    "    {\"name\": \"David\", \"age\": 40, \"city\": \"Seattle\", \"hobbies\": [\"travel\", \"music\"], \"salary\": 95000},\n",
    "    {\"name\": \"Eva\", \"age\": 28, \"city\": \"New York\", \"hobbies\": [\"reading\", \"movies\"], \"salary\": 68000},\n",
    "    {\"name\": \"Frank\", \"age\": 32, \"city\": \"Denver\", \"hobbies\": [\"movies\", \"technology\"], \"salary\": 77000},\n",
    "    {\"name\": \"Grace\", \"age\": 29, \"city\": \"Chicago\", \"hobbies\": [\"reading\", \"sports\"], \"salary\": 60000},\n",
    "    {\"name\": \"Hannah\", \"age\": 45, \"city\": \"San Francisco\", \"hobbies\": [\"technology\", \"sports\"], \"salary\": 120000},\n",
    "    {\"name\": \"Ian\", \"age\": 34, \"city\": \"New York\", \"hobbies\": [\"travel\", \"reading\"], \"salary\": 82000},\n",
    "    {\"name\": \"Jill\", \"age\": 39, \"city\": \"Chicago\", \"hobbies\": [\"sports\", \"movies\"], \"salary\": 91000},\n",
    "    {\"name\": \"Kevin\", \"age\": 26, \"city\": \"Seattle\", \"hobbies\": [\"reading\", \"technology\"], \"salary\": 53000},\n",
    "    {\"name\": \"Laura\", \"age\": 33, \"city\": \"Denver\", \"hobbies\": [\"movies\", \"sports\"], \"salary\": 79000},\n",
    "    {\"name\": \"Mike\", \"age\": 27, \"city\": \"San Francisco\", \"hobbies\": [\"sports\", \"travel\"], \"salary\": 67000},\n",
    "    {\"name\": \"Nina\", \"age\": 31, \"city\": \"Chicago\", \"hobbies\": [\"technology\", \"movies\"], \"salary\": 84000},\n",
    "    {\"name\": \"Oscar\", \"age\": 29, \"city\": \"New York\", \"hobbies\": [\"music\", \"sports\"], \"salary\": 76000},\n",
    "]\n",
    "\n",
    "\n",
    "result = collection.insert_many(data)\n",
    "print(f\"Inserted document IDs: {result.inserted_ids}\")"
   ]
  },
  {
   "cell_type": "code",
   "execution_count": 20,
   "id": "cfadf1aa",
   "metadata": {},
   "outputs": [
    {
     "name": "stdout",
     "output_type": "stream",
     "text": [
      "{'_id': ObjectId('670240a188bf509eef1777dc'), 'name': 'Charlie', 'age': 35, 'city': 'Updated City'}\n",
      "{'_id': ObjectId('6702770b88bf509eef1777e1'), 'name': 'Charlie', 'age': 35, 'city': 'San Francisco', 'hobbies': ['sports', 'technology'], 'salary': 88000}\n",
      "{'_id': ObjectId('6702770b88bf509eef1777e2'), 'name': 'David', 'age': 40, 'city': 'Seattle', 'hobbies': ['travel', 'music'], 'salary': 95000}\n",
      "{'_id': ObjectId('6702770b88bf509eef1777e4'), 'name': 'Frank', 'age': 32, 'city': 'Denver', 'hobbies': ['movies', 'technology'], 'salary': 77000}\n",
      "{'_id': ObjectId('6702770b88bf509eef1777e6'), 'name': 'Hannah', 'age': 45, 'city': 'San Francisco', 'hobbies': ['technology', 'sports'], 'salary': 120000}\n",
      "{'_id': ObjectId('6702770b88bf509eef1777e7'), 'name': 'Ian', 'age': 34, 'city': 'New York', 'hobbies': ['travel', 'reading'], 'salary': 82000}\n",
      "{'_id': ObjectId('6702770b88bf509eef1777e8'), 'name': 'Jill', 'age': 39, 'city': 'Chicago', 'hobbies': ['sports', 'movies'], 'salary': 91000}\n",
      "{'_id': ObjectId('6702770b88bf509eef1777ea'), 'name': 'Laura', 'age': 33, 'city': 'Denver', 'hobbies': ['movies', 'sports'], 'salary': 79000}\n",
      "{'_id': ObjectId('6702770b88bf509eef1777ec'), 'name': 'Nina', 'age': 31, 'city': 'Chicago', 'hobbies': ['technology', 'movies'], 'salary': 84000}\n"
     ]
    }
   ],
   "source": [
    "#match \n",
    "# Find all documents where age is greater than 25\n",
    "pipeline = [\n",
    "    {\"$match\": {\"age\": {\"$gt\": 30}}}\n",
    "]\n",
    "\n",
    "result = collection.aggregate(pipeline)\n",
    "for doc in result:\n",
    "    print(doc)\n"
   ]
  },
  {
   "cell_type": "code",
   "execution_count": 21,
   "id": "b07b17a0",
   "metadata": {},
   "outputs": [
    {
     "name": "stdout",
     "output_type": "stream",
     "text": [
      "{'_id': 'New York', 'total_age': 121}\n",
      "{'_id': 'Updated City', 'total_age': 35}\n",
      "{'_id': 'San Francisco', 'total_age': 107}\n",
      "{'_id': 'Seattle', 'total_age': 66}\n",
      "{'_id': 'Denver', 'total_age': 65}\n",
      "{'_id': 'Chicago', 'total_age': 149}\n"
     ]
    }
   ],
   "source": [
    "#group\n",
    "# Group by \"city\" and calculate the total age for each city\n",
    "pipeline = [\n",
    "    {\"$group\": {\"_id\": \"$city\", \"total_age\": {\"$sum\": \"$age\"}}}\n",
    "]\n",
    "\n",
    "result = collection.aggregate(pipeline)\n",
    "for doc in result:\n",
    "    print(doc)\n"
   ]
  },
  {
   "cell_type": "code",
   "execution_count": 22,
   "id": "84338509",
   "metadata": {},
   "outputs": [
    {
     "name": "stdout",
     "output_type": "stream",
     "text": [
      "{'_id': 'Chicago', 'count': 5}\n",
      "{'_id': 'Updated City', 'count': 1}\n",
      "{'_id': 'New York', 'count': 4}\n",
      "{'_id': 'Denver', 'count': 2}\n",
      "{'_id': 'San Francisco', 'count': 3}\n",
      "{'_id': 'Seattle', 'count': 2}\n"
     ]
    }
   ],
   "source": [
    "# Count the number of people in each city\n",
    "pipeline = [\n",
    "    {\"$group\": {\"_id\": \"$city\", \"count\": {\"$sum\": 1}}}\n",
    "]\n",
    "\n",
    "result = collection.aggregate(pipeline)\n",
    "for doc in result:\n",
    "    print(doc)\n"
   ]
  },
  {
   "cell_type": "code",
   "execution_count": 23,
   "id": "f9822591",
   "metadata": {},
   "outputs": [
    {
     "name": "stdout",
     "output_type": "stream",
     "text": [
      "{'_id': 'New York', 'average_age': 30.25}\n",
      "{'_id': 'Updated City', 'average_age': 35.0}\n",
      "{'_id': 'San Francisco', 'average_age': 35.666666666666664}\n",
      "{'_id': 'Seattle', 'average_age': 33.0}\n",
      "{'_id': 'Denver', 'average_age': 32.5}\n",
      "{'_id': 'Chicago', 'average_age': 29.8}\n"
     ]
    }
   ],
   "source": [
    "# Calculate the average age of people in each city\n",
    "pipeline = [\n",
    "    {\"$group\": {\"_id\": \"$city\", \"average_age\": {\"$avg\": \"$age\"}}}\n",
    "]\n",
    "\n",
    "result = collection.aggregate(pipeline)\n",
    "for doc in result:\n",
    "    print(doc)\n"
   ]
  },
  {
   "cell_type": "code",
   "execution_count": 24,
   "id": "f8934e45",
   "metadata": {},
   "outputs": [
    {
     "name": "stdout",
     "output_type": "stream",
     "text": [
      "{'_id': 'Chicago', 'total_age': 149}\n",
      "{'_id': 'New York', 'total_age': 121}\n",
      "{'_id': 'San Francisco', 'total_age': 107}\n",
      "{'_id': 'Seattle', 'total_age': 66}\n",
      "{'_id': 'Denver', 'total_age': 65}\n",
      "{'_id': 'Updated City', 'total_age': 35}\n"
     ]
    }
   ],
   "source": [
    "# Sort cities by total age in descending order\n",
    "pipeline = [\n",
    "    {\"$group\": {\"_id\": \"$city\", \"total_age\": {\"$sum\": \"$age\"}}},\n",
    "    {\"$sort\": {\"total_age\": -1}}\n",
    "]\n",
    "\n",
    "result = collection.aggregate(pipeline)\n",
    "for doc in result:\n",
    "    print(doc)\n"
   ]
  },
  {
   "cell_type": "code",
   "execution_count": 25,
   "id": "3970c6f0",
   "metadata": {},
   "outputs": [
    {
     "name": "stdout",
     "output_type": "stream",
     "text": [
      "{'name': 'Bob', 'age': 25}\n",
      "{'name': 'Charlie', 'age': 35}\n",
      "{'name': 'Alice', 'age': 30}\n",
      "{'name': 'Bob', 'age': 25}\n",
      "{'name': 'Charlie', 'age': 35}\n",
      "{'name': 'David', 'age': 40}\n",
      "{'name': 'Eva', 'age': 28}\n",
      "{'name': 'Frank', 'age': 32}\n",
      "{'name': 'Grace', 'age': 29}\n",
      "{'name': 'Hannah', 'age': 45}\n",
      "{'name': 'Ian', 'age': 34}\n",
      "{'name': 'Jill', 'age': 39}\n",
      "{'name': 'Kevin', 'age': 26}\n",
      "{'name': 'Laura', 'age': 33}\n",
      "{'name': 'Mike', 'age': 27}\n",
      "{'name': 'Nina', 'age': 31}\n",
      "{'name': 'Oscar', 'age': 29}\n"
     ]
    }
   ],
   "source": [
    "# Project only \"name\" and \"age\" fields (exclude \"_id\")\n",
    "pipeline = [\n",
    "    {\"$project\": {\"name\": 1, \"age\": 1, \"_id\": 0}}\n",
    "]\n",
    "\n",
    "result = collection.aggregate(pipeline)\n",
    "for doc in result:\n",
    "    print(doc)\n"
   ]
  },
  {
   "cell_type": "code",
   "execution_count": 26,
   "id": "9d1db3ff",
   "metadata": {},
   "outputs": [
    {
     "name": "stdout",
     "output_type": "stream",
     "text": [
      "{'_id': ObjectId('670240a188bf509eef1777db'), 'name': 'Bob', 'age': 25, 'city': 'Chicago'}\n",
      "{'_id': ObjectId('670240a188bf509eef1777dc'), 'name': 'Charlie', 'age': 35, 'city': 'Updated City'}\n",
      "{'_id': ObjectId('6702770b88bf509eef1777df'), 'name': 'Alice', 'age': 30, 'city': 'New York', 'hobbies': ['reading', 'sports'], 'salary': 70000}\n"
     ]
    }
   ],
   "source": [
    "# Get the first 3 documents with a specified limit\n",
    "pipeline = [\n",
    "    {\"$limit\": 3}\n",
    "]\n",
    "\n",
    "result = collection.aggregate(pipeline)\n",
    "for doc in result:\n",
    "    print(doc)\n"
   ]
  },
  {
   "cell_type": "code",
   "execution_count": 27,
   "id": "13e47579",
   "metadata": {},
   "outputs": [
    {
     "name": "stdout",
     "output_type": "stream",
     "text": [
      "{'_id': 'San Francisco', 'average_age': 35.666666666666664}\n",
      "{'_id': 'Updated City', 'average_age': 35.0}\n",
      "{'_id': 'Seattle', 'average_age': 33.0}\n",
      "{'_id': 'Chicago', 'average_age': 33.0}\n",
      "{'_id': 'Denver', 'average_age': 32.5}\n",
      "{'_id': 'New York', 'average_age': 30.25}\n"
     ]
    }
   ],
   "source": [
    "# Find the average age for each city, only for those with age > 25, sorted in descending order\n",
    "pipeline = [\n",
    "    {\"$match\": {\"age\": {\"$gt\": 25}}},\n",
    "    {\"$group\": {\"_id\": \"$city\", \"average_age\": {\"$avg\": \"$age\"}}},\n",
    "    {\"$sort\": {\"average_age\": -1}}\n",
    "]\n",
    "\n",
    "result = collection.aggregate(pipeline)\n",
    "for doc in result:\n",
    "    print(doc)\n"
   ]
  },
  {
   "cell_type": "code",
   "execution_count": 28,
   "id": "8f62e676",
   "metadata": {},
   "outputs": [
    {
     "name": "stdout",
     "output_type": "stream",
     "text": [
      "{'_id': ObjectId('670240a188bf509eef1777db'), 'name': 'Bob', 'age': 25, 'city': 'Chicago', 'is_adult': True}\n",
      "{'_id': ObjectId('670240a188bf509eef1777dc'), 'name': 'Charlie', 'age': 35, 'city': 'Updated City', 'is_adult': True}\n",
      "{'_id': ObjectId('6702770b88bf509eef1777df'), 'name': 'Alice', 'age': 30, 'city': 'New York', 'hobbies': ['reading', 'sports'], 'salary': 70000, 'is_adult': True}\n",
      "{'_id': ObjectId('6702770b88bf509eef1777e0'), 'name': 'Bob', 'age': 25, 'city': 'Chicago', 'hobbies': ['music', 'travel'], 'salary': 52000, 'is_adult': True}\n",
      "{'_id': ObjectId('6702770b88bf509eef1777e1'), 'name': 'Charlie', 'age': 35, 'city': 'San Francisco', 'hobbies': ['sports', 'technology'], 'salary': 88000, 'is_adult': True}\n",
      "{'_id': ObjectId('6702770b88bf509eef1777e2'), 'name': 'David', 'age': 40, 'city': 'Seattle', 'hobbies': ['travel', 'music'], 'salary': 95000, 'is_adult': True}\n",
      "{'_id': ObjectId('6702770b88bf509eef1777e3'), 'name': 'Eva', 'age': 28, 'city': 'New York', 'hobbies': ['reading', 'movies'], 'salary': 68000, 'is_adult': True}\n",
      "{'_id': ObjectId('6702770b88bf509eef1777e4'), 'name': 'Frank', 'age': 32, 'city': 'Denver', 'hobbies': ['movies', 'technology'], 'salary': 77000, 'is_adult': True}\n",
      "{'_id': ObjectId('6702770b88bf509eef1777e5'), 'name': 'Grace', 'age': 29, 'city': 'Chicago', 'hobbies': ['reading', 'sports'], 'salary': 60000, 'is_adult': True}\n",
      "{'_id': ObjectId('6702770b88bf509eef1777e6'), 'name': 'Hannah', 'age': 45, 'city': 'San Francisco', 'hobbies': ['technology', 'sports'], 'salary': 120000, 'is_adult': True}\n",
      "{'_id': ObjectId('6702770b88bf509eef1777e7'), 'name': 'Ian', 'age': 34, 'city': 'New York', 'hobbies': ['travel', 'reading'], 'salary': 82000, 'is_adult': True}\n",
      "{'_id': ObjectId('6702770b88bf509eef1777e8'), 'name': 'Jill', 'age': 39, 'city': 'Chicago', 'hobbies': ['sports', 'movies'], 'salary': 91000, 'is_adult': True}\n",
      "{'_id': ObjectId('6702770b88bf509eef1777e9'), 'name': 'Kevin', 'age': 26, 'city': 'Seattle', 'hobbies': ['reading', 'technology'], 'salary': 53000, 'is_adult': True}\n",
      "{'_id': ObjectId('6702770b88bf509eef1777ea'), 'name': 'Laura', 'age': 33, 'city': 'Denver', 'hobbies': ['movies', 'sports'], 'salary': 79000, 'is_adult': True}\n",
      "{'_id': ObjectId('6702770b88bf509eef1777eb'), 'name': 'Mike', 'age': 27, 'city': 'San Francisco', 'hobbies': ['sports', 'travel'], 'salary': 67000, 'is_adult': True}\n",
      "{'_id': ObjectId('6702770b88bf509eef1777ec'), 'name': 'Nina', 'age': 31, 'city': 'Chicago', 'hobbies': ['technology', 'movies'], 'salary': 84000, 'is_adult': True}\n",
      "{'_id': ObjectId('6702770b88bf509eef1777ed'), 'name': 'Oscar', 'age': 29, 'city': 'New York', 'hobbies': ['music', 'sports'], 'salary': 76000, 'is_adult': True}\n"
     ]
    }
   ],
   "source": [
    "# Add a new field \"is_adult\" based on age\n",
    "pipeline = [\n",
    "    {\"$addFields\": {\"is_adult\": {\"$gte\": [\"$age\", 18]}}}\n",
    "]\n",
    "\n",
    "result = collection.aggregate(pipeline)\n",
    "for doc in result:\n",
    "    print(doc)\n"
   ]
  },
  {
   "cell_type": "code",
   "execution_count": 29,
   "id": "0d967a18",
   "metadata": {},
   "outputs": [
    {
     "name": "stdout",
     "output_type": "stream",
     "text": [
      "Updated all documents with 'is_adult' field.\n"
     ]
    }
   ],
   "source": [
    "# Loop through each document and update with \"is_adult\" field\n",
    "for doc in collection.find():\n",
    "    # Determine if the person is an adult (age >= 18)\n",
    "    is_adult = doc[\"age\"] >= 18\n",
    "    \n",
    "    # Update the document to add the \"is_adult\" field\n",
    "    collection.update_one(\n",
    "        {\"_id\": doc[\"_id\"]},                # Match by unique ID\n",
    "        {\"$set\": {\"is_adult\": is_adult}}     # Set the \"is_adult\" field\n",
    "    )\n",
    "\n",
    "print(\"Updated all documents with 'is_adult' field.\")\n"
   ]
  },
  {
   "cell_type": "code",
   "execution_count": 32,
   "id": "cf7f7d7e",
   "metadata": {},
   "outputs": [
    {
     "name": "stdout",
     "output_type": "stream",
     "text": [
      "Error: Duplicate key detected.\n"
     ]
    }
   ],
   "source": [
    "#Handling MongoDB Errors in Python \n",
    "\n",
    "from pymongo.errors import (\n",
    "    ServerSelectionTimeoutError, DuplicateKeyError, WriteError, OperationFailure,\n",
    "    NetworkTimeout, BulkWriteError\n",
    ")\n",
    "\n",
    "def handle_mongo_operation(operation, *args, **kwargs):\n",
    "    try:\n",
    "        return operation(*args, **kwargs)\n",
    "    except ServerSelectionTimeoutError:\n",
    "        print(\"Error: Could not connect to MongoDB server.\")\n",
    "    except DuplicateKeyError:\n",
    "        print(\"Error: Duplicate key detected.\")\n",
    "    except WriteError:\n",
    "        print(\"Error: Issue with the write operation.\")\n",
    "    except OperationFailure:\n",
    "        print(\"Error: Operation failed due to invalid syntax or other issues.\")\n",
    "    except NetworkTimeout:\n",
    "        print(\"Error: Network timeout occurred.\")\n",
    "    except BulkWriteError as err:\n",
    "        print(\"Error: Bulk write operation failed.\")\n",
    "        print(\"Details:\", err.details)\n",
    "    except Exception as err:\n",
    "        print(\"An unexpected error occurred:\", err)\n",
    "\n",
    "# Example usage:\n",
    "handle_mongo_operation(collection.insert_one, {\"_id\": 1, \"name\": \"Alice\"})\n"
   ]
  }
 ],
 "metadata": {
  "kernelspec": {
   "display_name": "Python 3 (ipykernel)",
   "language": "python",
   "name": "python3"
  },
  "language_info": {
   "codemirror_mode": {
    "name": "ipython",
    "version": 3
   },
   "file_extension": ".py",
   "mimetype": "text/x-python",
   "name": "python",
   "nbconvert_exporter": "python",
   "pygments_lexer": "ipython3",
   "version": "3.9.13"
  }
 },
 "nbformat": 4,
 "nbformat_minor": 5
}
