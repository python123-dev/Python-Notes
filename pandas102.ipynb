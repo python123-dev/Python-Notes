{
  "nbformat": 4,
  "nbformat_minor": 0,
  "metadata": {
    "colab": {
      "provenance": []
    },
    "kernelspec": {
      "name": "python3",
      "display_name": "Python 3"
    }
  },
  "cells": [
    {
      "cell_type": "code",
      "metadata": {
        "id": "85V7CgWdvWOt"
      },
      "source": [
        "import pandas as pd"
      ],
      "execution_count": null,
      "outputs": []
    },
    {
      "cell_type": "code",
      "metadata": {
        "id": "YpSi_8fbvdkP",
        "colab": {
          "base_uri": "https://localhost:8080/"
        },
        "outputId": "46dce06c-eef0-48b6-cfa1-ce04146a06f8"
      },
      "source": [
        "df=pd.read_csv('https://raw.githubusercontent.com/pracasrv/machine-learning-getting-started-ws/master/data/Sample_Data.csv')\n",
        "print (df)"
      ],
      "execution_count": null,
      "outputs": [
        {
          "output_type": "stream",
          "name": "stdout",
          "text": [
            "    Country   Age   Salary Purchased\n",
            "0    France  44.0  72000.0        No\n",
            "1     Spain  27.0  48000.0       Yes\n",
            "2   Germany  30.0  54000.0        No\n",
            "3     Spain  38.0  61000.0        No\n",
            "4   Germany  40.0      NaN       Yes\n",
            "5    France  35.0  58000.0       Yes\n",
            "6     Spain   NaN  52000.0        No\n",
            "7    France  48.0  79000.0       Yes\n",
            "8   Germany  50.0  83000.0        No\n",
            "9    France  37.0  67000.0       Yes\n",
            "10    India   NaN  78000.0        No\n",
            "11    India  28.0      NaN       Yes\n",
            "12    Spain  36.0  56000.0       Yes\n",
            "13   France  42.0  70000.0       Yes\n",
            "14  Germany  50.0  86000.0        No\n",
            "15    India  30.0  90000.0       Yes\n"
          ]
        }
      ]
    },
    {
      "cell_type": "code",
      "metadata": {
        "colab": {
          "base_uri": "https://localhost:8080/"
        },
        "id": "PhDAMuOMbO74",
        "outputId": "4be72aef-3127-4820-dc67-a37fbb85b8d3"
      },
      "source": [
        "df.info()"
      ],
      "execution_count": null,
      "outputs": [
        {
          "output_type": "stream",
          "name": "stdout",
          "text": [
            "<class 'pandas.core.frame.DataFrame'>\n",
            "RangeIndex: 16 entries, 0 to 15\n",
            "Data columns (total 4 columns):\n",
            " #   Column     Non-Null Count  Dtype  \n",
            "---  ------     --------------  -----  \n",
            " 0   Country    16 non-null     object \n",
            " 1   Age        14 non-null     float64\n",
            " 2   Salary     14 non-null     float64\n",
            " 3   Purchased  16 non-null     object \n",
            "dtypes: float64(2), object(2)\n",
            "memory usage: 640.0+ bytes\n"
          ]
        }
      ]
    },
    {
      "cell_type": "code",
      "metadata": {
        "colab": {
          "base_uri": "https://localhost:8080/",
          "height": 300
        },
        "id": "D9CeA8Pzbs1E",
        "outputId": "b7cb8350-022c-4bdf-c9cc-be595a531121"
      },
      "source": [
        "#5 point summary\n",
        "df.describe()"
      ],
      "execution_count": null,
      "outputs": [
        {
          "output_type": "execute_result",
          "data": {
            "text/plain": [
              "             Age        Salary\n",
              "count  14.000000     14.000000\n",
              "mean   38.214286  68142.857143\n",
              "std     7.875752  13643.015361\n",
              "min    27.000000  48000.000000\n",
              "25%    31.250000  56500.000000\n",
              "50%    37.500000  68500.000000\n",
              "75%    43.500000  78750.000000\n",
              "max    50.000000  90000.000000"
            ],
            "text/html": [
              "\n",
              "  <div id=\"df-409f743f-39e0-4e42-8cfc-c6da5ac96b32\">\n",
              "    <div class=\"colab-df-container\">\n",
              "      <div>\n",
              "<style scoped>\n",
              "    .dataframe tbody tr th:only-of-type {\n",
              "        vertical-align: middle;\n",
              "    }\n",
              "\n",
              "    .dataframe tbody tr th {\n",
              "        vertical-align: top;\n",
              "    }\n",
              "\n",
              "    .dataframe thead th {\n",
              "        text-align: right;\n",
              "    }\n",
              "</style>\n",
              "<table border=\"1\" class=\"dataframe\">\n",
              "  <thead>\n",
              "    <tr style=\"text-align: right;\">\n",
              "      <th></th>\n",
              "      <th>Age</th>\n",
              "      <th>Salary</th>\n",
              "    </tr>\n",
              "  </thead>\n",
              "  <tbody>\n",
              "    <tr>\n",
              "      <th>count</th>\n",
              "      <td>14.000000</td>\n",
              "      <td>14.000000</td>\n",
              "    </tr>\n",
              "    <tr>\n",
              "      <th>mean</th>\n",
              "      <td>38.214286</td>\n",
              "      <td>68142.857143</td>\n",
              "    </tr>\n",
              "    <tr>\n",
              "      <th>std</th>\n",
              "      <td>7.875752</td>\n",
              "      <td>13643.015361</td>\n",
              "    </tr>\n",
              "    <tr>\n",
              "      <th>min</th>\n",
              "      <td>27.000000</td>\n",
              "      <td>48000.000000</td>\n",
              "    </tr>\n",
              "    <tr>\n",
              "      <th>25%</th>\n",
              "      <td>31.250000</td>\n",
              "      <td>56500.000000</td>\n",
              "    </tr>\n",
              "    <tr>\n",
              "      <th>50%</th>\n",
              "      <td>37.500000</td>\n",
              "      <td>68500.000000</td>\n",
              "    </tr>\n",
              "    <tr>\n",
              "      <th>75%</th>\n",
              "      <td>43.500000</td>\n",
              "      <td>78750.000000</td>\n",
              "    </tr>\n",
              "    <tr>\n",
              "      <th>max</th>\n",
              "      <td>50.000000</td>\n",
              "      <td>90000.000000</td>\n",
              "    </tr>\n",
              "  </tbody>\n",
              "</table>\n",
              "</div>\n",
              "      <button class=\"colab-df-convert\" onclick=\"convertToInteractive('df-409f743f-39e0-4e42-8cfc-c6da5ac96b32')\"\n",
              "              title=\"Convert this dataframe to an interactive table.\"\n",
              "              style=\"display:none;\">\n",
              "        \n",
              "  <svg xmlns=\"http://www.w3.org/2000/svg\" height=\"24px\"viewBox=\"0 0 24 24\"\n",
              "       width=\"24px\">\n",
              "    <path d=\"M0 0h24v24H0V0z\" fill=\"none\"/>\n",
              "    <path d=\"M18.56 5.44l.94 2.06.94-2.06 2.06-.94-2.06-.94-.94-2.06-.94 2.06-2.06.94zm-11 1L8.5 8.5l.94-2.06 2.06-.94-2.06-.94L8.5 2.5l-.94 2.06-2.06.94zm10 10l.94 2.06.94-2.06 2.06-.94-2.06-.94-.94-2.06-.94 2.06-2.06.94z\"/><path d=\"M17.41 7.96l-1.37-1.37c-.4-.4-.92-.59-1.43-.59-.52 0-1.04.2-1.43.59L10.3 9.45l-7.72 7.72c-.78.78-.78 2.05 0 2.83L4 21.41c.39.39.9.59 1.41.59.51 0 1.02-.2 1.41-.59l7.78-7.78 2.81-2.81c.8-.78.8-2.07 0-2.86zM5.41 20L4 18.59l7.72-7.72 1.47 1.35L5.41 20z\"/>\n",
              "  </svg>\n",
              "      </button>\n",
              "      \n",
              "  <style>\n",
              "    .colab-df-container {\n",
              "      display:flex;\n",
              "      flex-wrap:wrap;\n",
              "      gap: 12px;\n",
              "    }\n",
              "\n",
              "    .colab-df-convert {\n",
              "      background-color: #E8F0FE;\n",
              "      border: none;\n",
              "      border-radius: 50%;\n",
              "      cursor: pointer;\n",
              "      display: none;\n",
              "      fill: #1967D2;\n",
              "      height: 32px;\n",
              "      padding: 0 0 0 0;\n",
              "      width: 32px;\n",
              "    }\n",
              "\n",
              "    .colab-df-convert:hover {\n",
              "      background-color: #E2EBFA;\n",
              "      box-shadow: 0px 1px 2px rgba(60, 64, 67, 0.3), 0px 1px 3px 1px rgba(60, 64, 67, 0.15);\n",
              "      fill: #174EA6;\n",
              "    }\n",
              "\n",
              "    [theme=dark] .colab-df-convert {\n",
              "      background-color: #3B4455;\n",
              "      fill: #D2E3FC;\n",
              "    }\n",
              "\n",
              "    [theme=dark] .colab-df-convert:hover {\n",
              "      background-color: #434B5C;\n",
              "      box-shadow: 0px 1px 3px 1px rgba(0, 0, 0, 0.15);\n",
              "      filter: drop-shadow(0px 1px 2px rgba(0, 0, 0, 0.3));\n",
              "      fill: #FFFFFF;\n",
              "    }\n",
              "  </style>\n",
              "\n",
              "      <script>\n",
              "        const buttonEl =\n",
              "          document.querySelector('#df-409f743f-39e0-4e42-8cfc-c6da5ac96b32 button.colab-df-convert');\n",
              "        buttonEl.style.display =\n",
              "          google.colab.kernel.accessAllowed ? 'block' : 'none';\n",
              "\n",
              "        async function convertToInteractive(key) {\n",
              "          const element = document.querySelector('#df-409f743f-39e0-4e42-8cfc-c6da5ac96b32');\n",
              "          const dataTable =\n",
              "            await google.colab.kernel.invokeFunction('convertToInteractive',\n",
              "                                                     [key], {});\n",
              "          if (!dataTable) return;\n",
              "\n",
              "          const docLinkHtml = 'Like what you see? Visit the ' +\n",
              "            '<a target=\"_blank\" href=https://colab.research.google.com/notebooks/data_table.ipynb>data table notebook</a>'\n",
              "            + ' to learn more about interactive tables.';\n",
              "          element.innerHTML = '';\n",
              "          dataTable['output_type'] = 'display_data';\n",
              "          await google.colab.output.renderOutput(dataTable, element);\n",
              "          const docLink = document.createElement('div');\n",
              "          docLink.innerHTML = docLinkHtml;\n",
              "          element.appendChild(docLink);\n",
              "        }\n",
              "      </script>\n",
              "    </div>\n",
              "  </div>\n",
              "  "
            ]
          },
          "metadata": {},
          "execution_count": 3
        }
      ]
    },
    {
      "cell_type": "code",
      "metadata": {
        "colab": {
          "base_uri": "https://localhost:8080/"
        },
        "id": "Cabqpok-cJwz",
        "outputId": "b4270053-e875-44dd-91ba-a2da92c93f3f"
      },
      "source": [
        "m=df.mean()\n",
        "print(m)\n",
        "#fillna(m)"
      ],
      "execution_count": null,
      "outputs": [
        {
          "output_type": "stream",
          "name": "stdout",
          "text": [
            "Age          38.214286\n",
            "Salary    68142.857143\n",
            "dtype: float64\n"
          ]
        },
        {
          "output_type": "stream",
          "name": "stderr",
          "text": [
            "/usr/local/lib/python3.7/dist-packages/ipykernel_launcher.py:1: FutureWarning: Dropping of nuisance columns in DataFrame reductions (with 'numeric_only=None') is deprecated; in a future version this will raise TypeError.  Select only valid columns before calling the reduction.\n",
            "  \"\"\"Entry point for launching an IPython kernel.\n"
          ]
        }
      ]
    },
    {
      "cell_type": "code",
      "metadata": {
        "id": "vSbqNMQOwDrw",
        "colab": {
          "base_uri": "https://localhost:8080/"
        },
        "outputId": "4dd9468a-e0c8-4952-8ca1-e517e7a258e9"
      },
      "source": [
        "print(df[4:8])\n",
        "print (df.iloc[4:6])"
      ],
      "execution_count": null,
      "outputs": [
        {
          "output_type": "stream",
          "name": "stdout",
          "text": [
            "   Country   Age   Salary Purchased\n",
            "4  Germany  40.0      NaN       Yes\n",
            "5   France  35.0  58000.0       Yes\n",
            "6    Spain   NaN  52000.0        No\n",
            "7   France  48.0  79000.0       Yes\n",
            "   Country   Age   Salary Purchased\n",
            "4  Germany  40.0      NaN       Yes\n",
            "5   France  35.0  58000.0       Yes\n"
          ]
        }
      ]
    },
    {
      "cell_type": "code",
      "metadata": {
        "id": "0rxF7DFawZ-7",
        "colab": {
          "base_uri": "https://localhost:8080/"
        },
        "outputId": "5295bbae-087f-444b-bac7-8a30e543d6ed"
      },
      "source": [
        "print(df['Country'][4])\n",
        "print(df.Country[4])\n",
        "print(df.iloc[4,0])\n",
        "print(df.loc[4,'Country'])"
      ],
      "execution_count": null,
      "outputs": [
        {
          "output_type": "stream",
          "name": "stdout",
          "text": [
            "Germany\n",
            "Germany\n",
            "Germany\n",
            "Germany\n"
          ]
        }
      ]
    },
    {
      "cell_type": "code",
      "metadata": {
        "id": "yMeXkPrSx36V",
        "colab": {
          "base_uri": "https://localhost:8080/"
        },
        "outputId": "117ed168-b7b4-4434-961a-b3a45b25392c"
      },
      "source": [
        "print(df['Country'][3])"
      ],
      "execution_count": null,
      "outputs": [
        {
          "output_type": "stream",
          "name": "stdout",
          "text": [
            "Spain\n"
          ]
        }
      ]
    },
    {
      "cell_type": "code",
      "metadata": {
        "id": "wux_piPNySdx",
        "colab": {
          "base_uri": "https://localhost:8080/"
        },
        "outputId": "3a2dde7a-2d54-4046-dc81-7aef187662de"
      },
      "source": [
        "print (df)\n",
        "df=df.drop('Country',1) #1=col 0=row\n",
        "print(df)"
      ],
      "execution_count": null,
      "outputs": [
        {
          "output_type": "stream",
          "name": "stdout",
          "text": [
            "    Country   Age   Salary Purchased\n",
            "0    France  44.0  72000.0        No\n",
            "1     Spain  27.0  48000.0       Yes\n",
            "2   Germany  30.0  54000.0        No\n",
            "3     Spain  38.0  61000.0        No\n",
            "4   Germany  40.0      NaN       Yes\n",
            "5    France  35.0  58000.0       Yes\n",
            "6     Spain   NaN  52000.0        No\n",
            "7    France  48.0  79000.0       Yes\n",
            "8   Germany  50.0  83000.0        No\n",
            "9    France  37.0  67000.0       Yes\n",
            "10    India   NaN  78000.0        No\n",
            "11    India  28.0      NaN       Yes\n",
            "12    Spain  36.0  56000.0       Yes\n",
            "13   France  42.0  70000.0       Yes\n",
            "14  Germany  50.0  86000.0        No\n",
            "15    India  30.0  90000.0       Yes\n",
            "     Age   Salary Purchased\n",
            "0   44.0  72000.0        No\n",
            "1   27.0  48000.0       Yes\n",
            "2   30.0  54000.0        No\n",
            "3   38.0  61000.0        No\n",
            "4   40.0      NaN       Yes\n",
            "5   35.0  58000.0       Yes\n",
            "6    NaN  52000.0        No\n",
            "7   48.0  79000.0       Yes\n",
            "8   50.0  83000.0        No\n",
            "9   37.0  67000.0       Yes\n",
            "10   NaN  78000.0        No\n",
            "11  28.0      NaN       Yes\n",
            "12  36.0  56000.0       Yes\n",
            "13  42.0  70000.0       Yes\n",
            "14  50.0  86000.0        No\n",
            "15  30.0  90000.0       Yes\n"
          ]
        },
        {
          "output_type": "stream",
          "name": "stderr",
          "text": [
            "<ipython-input-6-e01b9f311510>:2: FutureWarning: In a future version of pandas all arguments of DataFrame.drop except for the argument 'labels' will be keyword-only.\n",
            "  df=df.drop('Country',1) #1=col 0=row\n"
          ]
        }
      ]
    },
    {
      "cell_type": "code",
      "metadata": {
        "id": "o8V6vsFly95m",
        "colab": {
          "base_uri": "https://localhost:8080/"
        },
        "outputId": "f9b98aee-bb29-4b40-fa0c-1fd25899d35d"
      },
      "source": [
        "df['Country']=['spain','india','usa','swiss','portugal','spain','india','usa','swiss','portugal','spain','india','usa','swiss','portugal','london']\n",
        "df['Area']=['chennai','guindy']*8\n",
        "print(df)"
      ],
      "execution_count": null,
      "outputs": [
        {
          "output_type": "stream",
          "name": "stdout",
          "text": [
            "     Age   Salary Purchased   Country     Area\n",
            "0   44.0  72000.0        No     spain  chennai\n",
            "1   27.0  48000.0       Yes     india   guindy\n",
            "2   30.0  54000.0        No       usa  chennai\n",
            "3   38.0  61000.0        No     swiss   guindy\n",
            "4   40.0      NaN       Yes  portugal  chennai\n",
            "5   35.0  58000.0       Yes     spain   guindy\n",
            "6    NaN  52000.0        No     india  chennai\n",
            "7   48.0  79000.0       Yes       usa   guindy\n",
            "8   50.0  83000.0        No     swiss  chennai\n",
            "9   37.0  67000.0       Yes  portugal   guindy\n",
            "10   NaN  78000.0        No     spain  chennai\n",
            "11  28.0      NaN       Yes     india   guindy\n",
            "12  36.0  56000.0       Yes       usa  chennai\n",
            "13  42.0  70000.0       Yes     swiss   guindy\n",
            "14  50.0  86000.0        No  portugal  chennai\n",
            "15  30.0  90000.0       Yes    london   guindy\n"
          ]
        }
      ]
    },
    {
      "cell_type": "code",
      "metadata": {
        "id": "iJNQMnwuzZls",
        "colab": {
          "base_uri": "https://localhost:8080/"
        },
        "outputId": "a790aec6-c005-40a0-c6b9-1837ac7b499c"
      },
      "source": [
        "\n",
        "print(df)\n",
        "df= df.drop(3,0)\n",
        "print(df)"
      ],
      "execution_count": null,
      "outputs": [
        {
          "output_type": "stream",
          "name": "stdout",
          "text": [
            "     Age   Salary Purchased   Country     Area\n",
            "0   44.0  72000.0        No     spain  chennai\n",
            "1   27.0  48000.0       Yes     india   guindy\n",
            "2   30.0  54000.0        No       usa  chennai\n",
            "3   38.0  61000.0        No     swiss   guindy\n",
            "4   40.0      NaN       Yes  portugal  chennai\n",
            "5   35.0  58000.0       Yes     spain   guindy\n",
            "6    NaN  52000.0        No     india  chennai\n",
            "7   48.0  79000.0       Yes       usa   guindy\n",
            "8   50.0  83000.0        No     swiss  chennai\n",
            "9   37.0  67000.0       Yes  portugal   guindy\n",
            "10   NaN  78000.0        No     spain  chennai\n",
            "11  28.0      NaN       Yes     india   guindy\n",
            "12  36.0  56000.0       Yes       usa  chennai\n",
            "13  42.0  70000.0       Yes     swiss   guindy\n",
            "14  50.0  86000.0        No  portugal  chennai\n",
            "15  30.0  90000.0       Yes    london   guindy\n",
            "     Age   Salary Purchased   Country     Area\n",
            "0   44.0  72000.0        No     spain  chennai\n",
            "1   27.0  48000.0       Yes     india   guindy\n",
            "2   30.0  54000.0        No       usa  chennai\n",
            "4   40.0      NaN       Yes  portugal  chennai\n",
            "5   35.0  58000.0       Yes     spain   guindy\n",
            "6    NaN  52000.0        No     india  chennai\n",
            "7   48.0  79000.0       Yes       usa   guindy\n",
            "8   50.0  83000.0        No     swiss  chennai\n",
            "9   37.0  67000.0       Yes  portugal   guindy\n",
            "10   NaN  78000.0        No     spain  chennai\n",
            "11  28.0      NaN       Yes     india   guindy\n",
            "12  36.0  56000.0       Yes       usa  chennai\n",
            "13  42.0  70000.0       Yes     swiss   guindy\n",
            "14  50.0  86000.0        No  portugal  chennai\n",
            "15  30.0  90000.0       Yes    london   guindy\n"
          ]
        },
        {
          "output_type": "stream",
          "name": "stderr",
          "text": [
            "<ipython-input-12-07a0e0b45fc4>:2: FutureWarning: In a future version of pandas all arguments of DataFrame.drop except for the argument 'labels' will be keyword-only.\n",
            "  df= df.drop(3,0)\n"
          ]
        }
      ]
    },
    {
      "cell_type": "code",
      "metadata": {
        "id": "lziJMSry0Mse",
        "colab": {
          "base_uri": "https://localhost:8080/"
        },
        "outputId": "416bd015-ab57-4e54-b4b1-a18f737f0771"
      },
      "source": [
        "print(df)\n",
        "df2=df[5:8]\n",
        "df=df.drop(5,0)\n",
        "df=df.drop(6,0)\n",
        "df=df.drop(7,0)\n",
        "print(df)\n",
        "print(df2)"
      ],
      "execution_count": null,
      "outputs": [
        {
          "output_type": "stream",
          "name": "stdout",
          "text": [
            "     Age   Salary Purchased   Country     Area\n",
            "0   44.0  72000.0        No     spain  chennai\n",
            "1   27.0  48000.0       Yes     india  chennai\n",
            "2   30.0  54000.0        No       usa  chennai\n",
            "4   40.0      NaN       Yes  portugal  chennai\n",
            "5   35.0  58000.0       Yes     spain  chennai\n",
            "6    NaN  52000.0        No     india  chennai\n",
            "7   48.0  79000.0       Yes       usa  chennai\n",
            "8   50.0  83000.0        No     swiss  chennai\n",
            "9   37.0  67000.0       Yes  portugal  chennai\n",
            "10   NaN  78000.0        No     spain  chennai\n",
            "11  28.0      NaN       Yes     india  chennai\n",
            "12  36.0  56000.0       Yes       usa  chennai\n",
            "13  42.0  70000.0       Yes     swiss  chennai\n",
            "14  50.0  86000.0        No  portugal  chennai\n",
            "15  30.0  90000.0       Yes    london  chennai\n",
            "     Age   Salary Purchased   Country     Area\n",
            "0   44.0  72000.0        No     spain  chennai\n",
            "1   27.0  48000.0       Yes     india  chennai\n",
            "2   30.0  54000.0        No       usa  chennai\n",
            "4   40.0      NaN       Yes  portugal  chennai\n",
            "8   50.0  83000.0        No     swiss  chennai\n",
            "9   37.0  67000.0       Yes  portugal  chennai\n",
            "10   NaN  78000.0        No     spain  chennai\n",
            "11  28.0      NaN       Yes     india  chennai\n",
            "12  36.0  56000.0       Yes       usa  chennai\n",
            "13  42.0  70000.0       Yes     swiss  chennai\n",
            "14  50.0  86000.0        No  portugal  chennai\n",
            "15  30.0  90000.0       Yes    london  chennai\n",
            "    Age   Salary Purchased Country     Area\n",
            "6   NaN  52000.0        No   india  chennai\n",
            "7  48.0  79000.0       Yes     usa  chennai\n",
            "8  50.0  83000.0        No   swiss  chennai\n"
          ]
        },
        {
          "output_type": "stream",
          "name": "stderr",
          "text": [
            "/usr/local/lib/python3.7/dist-packages/ipykernel_launcher.py:3: FutureWarning: In a future version of pandas all arguments of DataFrame.drop except for the argument 'labels' will be keyword-only\n",
            "  This is separate from the ipykernel package so we can avoid doing imports until\n",
            "/usr/local/lib/python3.7/dist-packages/ipykernel_launcher.py:4: FutureWarning: In a future version of pandas all arguments of DataFrame.drop except for the argument 'labels' will be keyword-only\n",
            "  after removing the cwd from sys.path.\n",
            "/usr/local/lib/python3.7/dist-packages/ipykernel_launcher.py:5: FutureWarning: In a future version of pandas all arguments of DataFrame.drop except for the argument 'labels' will be keyword-only\n",
            "  \"\"\"\n"
          ]
        }
      ]
    },
    {
      "cell_type": "code",
      "metadata": {
        "id": "KgdBV_lK03Hf",
        "colab": {
          "base_uri": "https://localhost:8080/"
        },
        "outputId": "cfcaf875-d40e-4312-bf7a-7e0b7bb47427"
      },
      "source": [
        "print(df)\n",
        "df=df.append(df2)\n",
        "print(df)"
      ],
      "execution_count": null,
      "outputs": [
        {
          "output_type": "stream",
          "name": "stdout",
          "text": [
            "     Age   Salary Purchased   Country     Area\n",
            "0   44.0  72000.0        No     spain  chennai\n",
            "1   27.0  48000.0       Yes     india  chennai\n",
            "2   30.0  54000.0        No       usa  chennai\n",
            "4   40.0      NaN       Yes  portugal  chennai\n",
            "8   50.0  83000.0        No     swiss  chennai\n",
            "9   37.0  67000.0       Yes  portugal  chennai\n",
            "10   NaN  78000.0        No     spain  chennai\n",
            "11  28.0      NaN       Yes     india  chennai\n",
            "12  36.0  56000.0       Yes       usa  chennai\n",
            "13  42.0  70000.0       Yes     swiss  chennai\n",
            "14  50.0  86000.0        No  portugal  chennai\n",
            "15  30.0  90000.0       Yes    london  chennai\n",
            "     Age   Salary Purchased   Country     Area\n",
            "0   44.0  72000.0        No     spain  chennai\n",
            "1   27.0  48000.0       Yes     india  chennai\n",
            "2   30.0  54000.0        No       usa  chennai\n",
            "4   40.0      NaN       Yes  portugal  chennai\n",
            "8   50.0  83000.0        No     swiss  chennai\n",
            "9   37.0  67000.0       Yes  portugal  chennai\n",
            "10   NaN  78000.0        No     spain  chennai\n",
            "11  28.0      NaN       Yes     india  chennai\n",
            "12  36.0  56000.0       Yes       usa  chennai\n",
            "13  42.0  70000.0       Yes     swiss  chennai\n",
            "14  50.0  86000.0        No  portugal  chennai\n",
            "15  30.0  90000.0       Yes    london  chennai\n",
            "6    NaN  52000.0        No     india  chennai\n",
            "7   48.0  79000.0       Yes       usa  chennai\n",
            "8   50.0  83000.0        No     swiss  chennai\n"
          ]
        }
      ]
    },
    {
      "cell_type": "code",
      "source": [
        "import pandas as pd\n",
        "\n",
        "# Create a sample DataFrame\n",
        "df = pd.DataFrame({'A': [1, 2, 3], 'B': [4, 5, 6], 'C': [7, 8, 9]})\n",
        "\n",
        "# Display the original DataFrame\n",
        "print(\"Original DataFrame:\")\n",
        "print(df)\n",
        "\n",
        "# Create a new row to insert\n",
        "#new_row = {'A': 10, 'B': 11, 'C': 12}\n",
        "\n",
        "# Insert the new row below the 2nd row\n",
        "#df = pd.concat([df.iloc[:2], new_row, df.iloc[2:]]).reset_index(drop=True)\n",
        "df=df.append()\n",
        "# Display the updated DataFrame\n",
        "print(\"\\nDataFrame after inserting a row below the 2nd row:\")\n",
        "print(df)\n"
      ],
      "metadata": {
        "colab": {
          "base_uri": "https://localhost:8080/",
          "height": 532
        },
        "id": "O0Wm2rrnDu8q",
        "outputId": "ff74d5af-2280-40c6-b5a5-82988cb1dabf"
      },
      "execution_count": null,
      "outputs": [
        {
          "output_type": "stream",
          "name": "stdout",
          "text": [
            "Original DataFrame:\n",
            "   A  B  C\n",
            "0  1  4  7\n",
            "1  2  5  8\n",
            "2  3  6  9\n"
          ]
        },
        {
          "output_type": "stream",
          "name": "stderr",
          "text": [
            "<ipython-input-20-72bcaee9d2d9>:15: FutureWarning: The frame.append method is deprecated and will be removed from pandas in a future version. Use pandas.concat instead.\n",
            "  df=df.append(new_row)\n"
          ]
        },
        {
          "output_type": "error",
          "ename": "TypeError",
          "evalue": "ignored",
          "traceback": [
            "\u001b[0;31m---------------------------------------------------------------------------\u001b[0m",
            "\u001b[0;31mTypeError\u001b[0m                                 Traceback (most recent call last)",
            "\u001b[0;32m<ipython-input-20-72bcaee9d2d9>\u001b[0m in \u001b[0;36m<cell line: 15>\u001b[0;34m()\u001b[0m\n\u001b[1;32m     13\u001b[0m \u001b[0;31m# Insert the new row below the 2nd row\u001b[0m\u001b[0;34m\u001b[0m\u001b[0;34m\u001b[0m\u001b[0m\n\u001b[1;32m     14\u001b[0m \u001b[0;31m#df = pd.concat([df.iloc[:2], new_row, df.iloc[2:]]).reset_index(drop=True)\u001b[0m\u001b[0;34m\u001b[0m\u001b[0;34m\u001b[0m\u001b[0m\n\u001b[0;32m---> 15\u001b[0;31m \u001b[0mdf\u001b[0m\u001b[0;34m=\u001b[0m\u001b[0mdf\u001b[0m\u001b[0;34m.\u001b[0m\u001b[0mappend\u001b[0m\u001b[0;34m(\u001b[0m\u001b[0mnew_row\u001b[0m\u001b[0;34m)\u001b[0m\u001b[0;34m\u001b[0m\u001b[0;34m\u001b[0m\u001b[0m\n\u001b[0m\u001b[1;32m     16\u001b[0m \u001b[0;31m# Display the updated DataFrame\u001b[0m\u001b[0;34m\u001b[0m\u001b[0;34m\u001b[0m\u001b[0m\n\u001b[1;32m     17\u001b[0m \u001b[0mprint\u001b[0m\u001b[0;34m(\u001b[0m\u001b[0;34m\"\\nDataFrame after inserting a row below the 2nd row:\"\u001b[0m\u001b[0;34m)\u001b[0m\u001b[0;34m\u001b[0m\u001b[0;34m\u001b[0m\u001b[0m\n",
            "\u001b[0;32m/usr/local/lib/python3.9/dist-packages/pandas/core/frame.py\u001b[0m in \u001b[0;36mappend\u001b[0;34m(self, other, ignore_index, verify_integrity, sort)\u001b[0m\n\u001b[1;32m   9766\u001b[0m         )\n\u001b[1;32m   9767\u001b[0m \u001b[0;34m\u001b[0m\u001b[0m\n\u001b[0;32m-> 9768\u001b[0;31m         \u001b[0;32mreturn\u001b[0m \u001b[0mself\u001b[0m\u001b[0;34m.\u001b[0m\u001b[0m_append\u001b[0m\u001b[0;34m(\u001b[0m\u001b[0mother\u001b[0m\u001b[0;34m,\u001b[0m \u001b[0mignore_index\u001b[0m\u001b[0;34m,\u001b[0m \u001b[0mverify_integrity\u001b[0m\u001b[0;34m,\u001b[0m \u001b[0msort\u001b[0m\u001b[0;34m)\u001b[0m\u001b[0;34m\u001b[0m\u001b[0;34m\u001b[0m\u001b[0m\n\u001b[0m\u001b[1;32m   9769\u001b[0m \u001b[0;34m\u001b[0m\u001b[0m\n\u001b[1;32m   9770\u001b[0m     def _append(\n",
            "\u001b[0;32m/usr/local/lib/python3.9/dist-packages/pandas/core/frame.py\u001b[0m in \u001b[0;36m_append\u001b[0;34m(self, other, ignore_index, verify_integrity, sort)\u001b[0m\n\u001b[1;32m   9778\u001b[0m             \u001b[0;32mif\u001b[0m \u001b[0misinstance\u001b[0m\u001b[0;34m(\u001b[0m\u001b[0mother\u001b[0m\u001b[0;34m,\u001b[0m \u001b[0mdict\u001b[0m\u001b[0;34m)\u001b[0m\u001b[0;34m:\u001b[0m\u001b[0;34m\u001b[0m\u001b[0;34m\u001b[0m\u001b[0m\n\u001b[1;32m   9779\u001b[0m                 \u001b[0;32mif\u001b[0m \u001b[0;32mnot\u001b[0m \u001b[0mignore_index\u001b[0m\u001b[0;34m:\u001b[0m\u001b[0;34m\u001b[0m\u001b[0;34m\u001b[0m\u001b[0m\n\u001b[0;32m-> 9780\u001b[0;31m                     \u001b[0;32mraise\u001b[0m \u001b[0mTypeError\u001b[0m\u001b[0;34m(\u001b[0m\u001b[0;34m\"Can only append a dict if ignore_index=True\"\u001b[0m\u001b[0;34m)\u001b[0m\u001b[0;34m\u001b[0m\u001b[0;34m\u001b[0m\u001b[0m\n\u001b[0m\u001b[1;32m   9781\u001b[0m                 \u001b[0mother\u001b[0m \u001b[0;34m=\u001b[0m \u001b[0mSeries\u001b[0m\u001b[0;34m(\u001b[0m\u001b[0mother\u001b[0m\u001b[0;34m)\u001b[0m\u001b[0;34m\u001b[0m\u001b[0;34m\u001b[0m\u001b[0m\n\u001b[1;32m   9782\u001b[0m             \u001b[0;32mif\u001b[0m \u001b[0mother\u001b[0m\u001b[0;34m.\u001b[0m\u001b[0mname\u001b[0m \u001b[0;32mis\u001b[0m \u001b[0;32mNone\u001b[0m \u001b[0;32mand\u001b[0m \u001b[0;32mnot\u001b[0m \u001b[0mignore_index\u001b[0m\u001b[0;34m:\u001b[0m\u001b[0;34m\u001b[0m\u001b[0;34m\u001b[0m\u001b[0m\n",
            "\u001b[0;31mTypeError\u001b[0m: Can only append a dict if ignore_index=True"
          ]
        }
      ]
    },
    {
      "cell_type": "code",
      "source": [
        "import pandas as pd\n",
        "\n",
        "# Create a sample DataFrame\n",
        "df = pd.DataFrame({'A': [1, 2, 3],\n",
        "                   'B': [4, 5, 6],\n",
        "                   'C': [7, 8, 9]})\n",
        "\n",
        "# Display the original DataFrame\n",
        "print(\"Original DataFrame:\")\n",
        "print(df)\n",
        "\n",
        "# Create a new row as a Series\n",
        "new_row = pd.Series({'A': 10, 'B': 11, 'C': 12})\n",
        "\n",
        "# Append the new row to the DataFrame\n",
        "df = df.append(new_row, ignore_index=True)\n",
        "\n",
        "# Display the updated DataFrame\n",
        "print(\"\\nDataFrame after inserting a row:\")\n",
        "print(df)\n"
      ],
      "metadata": {
        "id": "cw5L-0zoF7Vk",
        "outputId": "e07a2e01-6684-46d6-afc8-df4830c7f1fb",
        "colab": {
          "base_uri": "https://localhost:8080/"
        }
      },
      "execution_count": null,
      "outputs": [
        {
          "output_type": "stream",
          "name": "stdout",
          "text": [
            "Original DataFrame:\n",
            "   A  B  C\n",
            "0  1  4  7\n",
            "1  2  5  8\n",
            "2  3  6  9\n",
            "\n",
            "DataFrame after inserting a row:\n",
            "    A   B   C\n",
            "0   1   4   7\n",
            "1   2   5   8\n",
            "2   3   6   9\n",
            "3  10  11  12\n"
          ]
        },
        {
          "output_type": "stream",
          "name": "stderr",
          "text": [
            "<ipython-input-21-fffee2452b67>:16: FutureWarning: The frame.append method is deprecated and will be removed from pandas in a future version. Use pandas.concat instead.\n",
            "  df = df.append(new_row, ignore_index=True)\n"
          ]
        }
      ]
    },
    {
      "cell_type": "code",
      "metadata": {
        "id": "ksMqeZPU1JR_",
        "colab": {
          "base_uri": "https://localhost:8080/"
        },
        "outputId": "de340cb9-d1e9-452f-c11f-8a13e7785109"
      },
      "source": [
        "df1=df.sort_values(by='Salary', ascending=True)\n",
        "print(df1)"
      ],
      "execution_count": null,
      "outputs": [
        {
          "output_type": "stream",
          "name": "stdout",
          "text": [
            "     Age   Salary Purchased   Country     Area\n",
            "1   27.0  48000.0       Yes     india  chennai\n",
            "6    NaN  52000.0        No     india  chennai\n",
            "2   30.0  54000.0        No       usa  chennai\n",
            "12  36.0  56000.0       Yes       usa  chennai\n",
            "9   37.0  67000.0       Yes  portugal  chennai\n",
            "13  42.0  70000.0       Yes     swiss  chennai\n",
            "0   44.0  72000.0        No     spain  chennai\n",
            "10   NaN  78000.0        No     spain  chennai\n",
            "7   48.0  79000.0       Yes       usa  chennai\n",
            "8   50.0  83000.0        No     swiss  chennai\n",
            "8   50.0  83000.0        No     swiss  chennai\n",
            "14  50.0  86000.0        No  portugal  chennai\n",
            "15  30.0  90000.0       Yes    london  chennai\n",
            "4   40.0      NaN       Yes  portugal  chennai\n",
            "11  28.0      NaN       Yes     india  chennai\n"
          ]
        }
      ]
    },
    {
      "cell_type": "code",
      "metadata": {
        "id": "YpCEoF7v2477",
        "colab": {
          "base_uri": "https://localhost:8080/"
        },
        "outputId": "9c02f264-84ad-4544-8d5b-f077f462cd14"
      },
      "source": [
        "print(df)\n",
        "df.loc[df['Age']>40, 'Salary']=0\n",
        "print(df)\n",
        "df.loc[((df['Age']>40) & (df['Country']=='Germany')),'Salary']=0\n",
        "print(df)\n",
        "df.loc[((df['Age']>40) & (df['Country']=='Spain')),['Salary','Age']]=0\n",
        "print(df)"
      ],
      "execution_count": null,
      "outputs": [
        {
          "output_type": "stream",
          "name": "stdout",
          "text": [
            "     Age   Salary Purchased   Country     Area\n",
            "0   44.0      0.0        No     spain  chennai\n",
            "1   27.0  48000.0       Yes     india  chennai\n",
            "2   30.0  54000.0        No       usa  chennai\n",
            "4   40.0      NaN       Yes  portugal  chennai\n",
            "8   50.0      0.0        No     swiss  chennai\n",
            "9   37.0  67000.0       Yes  portugal  chennai\n",
            "10   NaN  78000.0        No     spain  chennai\n",
            "11  28.0      NaN       Yes     india  chennai\n",
            "12  36.0  56000.0       Yes       usa  chennai\n",
            "13  42.0      0.0       Yes     swiss  chennai\n",
            "14  50.0      0.0        No  portugal  chennai\n",
            "15  30.0  90000.0       Yes    london  chennai\n",
            "6    NaN  52000.0        No     india  chennai\n",
            "7   48.0      0.0       Yes       usa  chennai\n",
            "8   50.0      0.0        No     swiss  chennai\n",
            "     Age   Salary Purchased   Country     Area\n",
            "0   44.0      0.0        No     spain  chennai\n",
            "1   27.0  48000.0       Yes     india  chennai\n",
            "2   30.0  54000.0        No       usa  chennai\n",
            "4   40.0      NaN       Yes  portugal  chennai\n",
            "8   50.0      0.0        No     swiss  chennai\n",
            "9   37.0  67000.0       Yes  portugal  chennai\n",
            "10   NaN  78000.0        No     spain  chennai\n",
            "11  28.0      NaN       Yes     india  chennai\n",
            "12  36.0  56000.0       Yes       usa  chennai\n",
            "13  42.0      0.0       Yes     swiss  chennai\n",
            "14  50.0      0.0        No  portugal  chennai\n",
            "15  30.0  90000.0       Yes    london  chennai\n",
            "6    NaN  52000.0        No     india  chennai\n",
            "7   48.0      0.0       Yes       usa  chennai\n",
            "8   50.0      0.0        No     swiss  chennai\n",
            "     Age   Salary Purchased   Country     Area\n",
            "0   44.0      0.0        No     spain  chennai\n",
            "1   27.0  48000.0       Yes     india  chennai\n",
            "2   30.0  54000.0        No       usa  chennai\n",
            "4   40.0      NaN       Yes  portugal  chennai\n",
            "8   50.0      0.0        No     swiss  chennai\n",
            "9   37.0  67000.0       Yes  portugal  chennai\n",
            "10   NaN  78000.0        No     spain  chennai\n",
            "11  28.0      NaN       Yes     india  chennai\n",
            "12  36.0  56000.0       Yes       usa  chennai\n",
            "13  42.0      0.0       Yes     swiss  chennai\n",
            "14  50.0      0.0        No  portugal  chennai\n",
            "15  30.0  90000.0       Yes    london  chennai\n",
            "6    NaN  52000.0        No     india  chennai\n",
            "7   48.0      0.0       Yes       usa  chennai\n",
            "8   50.0      0.0        No     swiss  chennai\n",
            "     Age   Salary Purchased   Country     Area\n",
            "0   44.0      0.0        No     spain  chennai\n",
            "1   27.0  48000.0       Yes     india  chennai\n",
            "2   30.0  54000.0        No       usa  chennai\n",
            "4   40.0      NaN       Yes  portugal  chennai\n",
            "8   50.0      0.0        No     swiss  chennai\n",
            "9   37.0  67000.0       Yes  portugal  chennai\n",
            "10   NaN  78000.0        No     spain  chennai\n",
            "11  28.0      NaN       Yes     india  chennai\n",
            "12  36.0  56000.0       Yes       usa  chennai\n",
            "13  42.0      0.0       Yes     swiss  chennai\n",
            "14  50.0      0.0        No  portugal  chennai\n",
            "15  30.0  90000.0       Yes    london  chennai\n",
            "6    NaN  52000.0        No     india  chennai\n",
            "7   48.0      0.0       Yes       usa  chennai\n",
            "8   50.0      0.0        No     swiss  chennai\n"
          ]
        }
      ]
    },
    {
      "cell_type": "code",
      "metadata": {
        "id": "hu187C-k5Bfe"
      },
      "source": [
        "print (df.info())\n",
        "print(df.describe())"
      ],
      "execution_count": null,
      "outputs": []
    },
    {
      "cell_type": "code",
      "source": [
        "#https://github.com/awesomedata/awesome-public-datasets/blob/master/Datasets/titanic.csv.zip"
      ],
      "metadata": {
        "id": "AT5ZNqvt0TGS"
      },
      "execution_count": null,
      "outputs": []
    },
    {
      "cell_type": "code",
      "source": [
        "class Dog:\n",
        "    \"\"\"Your best friend.\"\"\"\n",
        "\n",
        "    def do_nothing(self):\n",
        "        pass\n",
        "\n",
        "\n",
        "print(Dog.__doc__)\n",
        "# Your best friend. "
      ],
      "metadata": {
        "colab": {
          "base_uri": "https://localhost:8080/"
        },
        "id": "Ta1g_tHy1CE9",
        "outputId": "3210c021-4283-40db-93cc-ab347da11e53"
      },
      "execution_count": null,
      "outputs": [
        {
          "output_type": "stream",
          "name": "stdout",
          "text": [
            "Your best friend.\n"
          ]
        }
      ]
    }
  ]
}